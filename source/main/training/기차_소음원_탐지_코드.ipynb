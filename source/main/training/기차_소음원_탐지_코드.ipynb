{
  "cells": [
    {
      "cell_type": "markdown",
      "metadata": {
        "id": "L1mV6yfnwUtb"
      },
      "source": [
        "# 기차 대차 이상 소음원 탐지 모델"
      ]
    },
    {
      "cell_type": "code",
      "execution_count": null,
      "metadata": {
        "id": "jVhUhNhTv-jx"
      },
      "outputs": [],
      "source": [
        "# Author jhCOR"
      ]
    },
    {
      "cell_type": "markdown",
      "metadata": {
        "id": "6EPhFob4woNW"
      },
      "source": [
        "### 드라이브 마운트 /  라이브러리 임포트 / 라이브러리 설치"
      ]
    },
    {
      "cell_type": "code",
      "execution_count": null,
      "metadata": {
        "colab": {
          "base_uri": "https://localhost:8080/"
        },
        "id": "u9nPnyFAgTUg",
        "outputId": "6fea6aa6-feb5-4cdb-d198-39f24c3f4be0"
      },
      "outputs": [
        {
          "output_type": "stream",
          "name": "stdout",
          "text": [
            "Mounted at /content/drive\n"
          ]
        }
      ],
      "source": [
        "from google.colab import drive\n",
        "drive.mount('/content/drive')"
      ]
    },
    {
      "cell_type": "code",
      "execution_count": null,
      "metadata": {
        "colab": {
          "base_uri": "https://localhost:8080/"
        },
        "id": "G6Iz8nBbdhY2",
        "outputId": "9e89ff6d-0b13-4e16-e23f-3f9ef0432a9e"
      },
      "outputs": [
        {
          "output_type": "stream",
          "name": "stdout",
          "text": [
            "Collecting tensorflow_addons\n",
            "  Downloading tensorflow_addons-0.22.0-cp310-cp310-manylinux_2_17_x86_64.manylinux2014_x86_64.whl (612 kB)\n",
            "\u001b[2K     \u001b[90m━━━━━━━━━━━━━━━━━━━━━━━━━━━━━━━━━━━━━━━━\u001b[0m \u001b[32m612.3/612.3 kB\u001b[0m \u001b[31m8.0 MB/s\u001b[0m eta \u001b[36m0:00:00\u001b[0m\n",
            "\u001b[?25hRequirement already satisfied: packaging in /usr/local/lib/python3.10/dist-packages (from tensorflow_addons) (23.2)\n",
            "Collecting typeguard<3.0.0,>=2.7 (from tensorflow_addons)\n",
            "  Downloading typeguard-2.13.3-py3-none-any.whl (17 kB)\n",
            "Installing collected packages: typeguard, tensorflow_addons\n",
            "Successfully installed tensorflow_addons-0.22.0 typeguard-2.13.3\n"
          ]
        }
      ],
      "source": [
        "!pip install tensorflow_addons"
      ]
    },
    {
      "cell_type": "code",
      "execution_count": null,
      "metadata": {
        "id": "LNiTlcgND6I5"
      },
      "outputs": [],
      "source": [
        "import torchaudio.functional as F\n",
        "import torch.nn as nn\n",
        "import torchaudio\n",
        "import torch\n",
        "\n",
        "import pandas as pd\n",
        "import numpy as np\n",
        "import librosa\n",
        "import glob\n",
        "import os\n",
        "import re\n",
        "from tqdm import tqdm\n",
        "import random\n",
        "import copy\n",
        "\n",
        "import matplotlib.pyplot as plt\n",
        "from datetime import datetime\n",
        "from pathlib import Path\n",
        "import torch.optim as optim\n",
        "from torch.utils.data import Dataset\n",
        "from collections.abc import Iterable\n",
        "from torch.utils.data import DataLoader, random_split\n",
        "\n",
        "from torchvision.models import resnet18"
      ]
    },
    {
      "cell_type": "markdown",
      "metadata": {
        "id": "ev8vqBr2xHUM"
      },
      "source": [
        "### 시드 고정 / device설정 / 실험 세팅 값 설정"
      ]
    },
    {
      "cell_type": "code",
      "execution_count": null,
      "metadata": {
        "colab": {
          "base_uri": "https://localhost:8080/"
        },
        "id": "rKP2SbcRBdNE",
        "outputId": "50396270-fed1-4e30-9ad6-4ec669b40401"
      },
      "outputs": [
        {
          "output_type": "stream",
          "name": "stdout",
          "text": [
            "cuda\n",
            "Current cuda device: 0\n",
            "Count of using GPUs: 1\n"
          ]
        }
      ],
      "source": [
        "print(\"cuda\" if torch.cuda.is_available() else \"cpu\")\n",
        "device = \"cpu\"\n",
        "if torch.cuda.is_available():\n",
        "    device = \"cuda\"\n",
        "    print('Current cuda device:', torch.cuda.current_device())\n",
        "    print('Count of using GPUs:', torch.cuda.device_count())\n",
        "\n",
        "#################\n",
        "\n",
        "config = {'sr' : 25600, 'device':device, 'n_mels':80, 'core':os.cpu_count(), \"train_ratio\":0.6,\n",
        "           \"valid_ratio\":0.2, \"test_ratio\":0.2, \"path\":\"./best_model.pt\", \"seed\": 42, \"n_epoch\" :25}\n",
        "\n",
        "#################\n",
        "\n",
        "dirPath = \"/content/drive/MyDrive/Artificial_Intelligence/ai_data/기차대차소음/S206_wav\"\n",
        "csvPath = \"/content/drive/MyDrive/Artificial_Intelligence/ai_data/기차대차소음/metadata.csv\"\n",
        "othersourcePath = \"/content/drive/MyDrive/Artificial_Intelligence/ai_data/MTAT_SMALL\"\n",
        "model_save_path = \"./best_model.pt\""
      ]
    },
    {
      "cell_type": "code",
      "execution_count": null,
      "metadata": {
        "id": "BbNCeraIt-oB"
      },
      "outputs": [],
      "source": [
        "def restrict_seed(seed):\n",
        "    print(\"시드 고정: \", seed)\n",
        "    random.seed(seed)\n",
        "    np.random.seed(seed)\n",
        "    torch.manual_seed(seed)\n",
        "    torch.cuda.manual_seed(seed)\n",
        "    torch.cuda.manual_seed_all(seed)\n",
        "    torch.backends.cudnn.deterministic = True\n",
        "    torch.backends.cudnn.benchmark = False\n",
        "\n",
        "def isIterable(target):\n",
        "    return True if isinstance(target, Iterable) else False\n",
        "\n",
        "def plot_spectrogram(spectrogram, title=None, ylabel=\"freq_bin\"):\n",
        "    plt.clf()\n",
        "    fig, axs = plt.subplots(1, 1, figsize=(10, 4))\n",
        "    axs.set_title(title or \"Spectrogram\")\n",
        "    axs.set_ylabel(ylabel)\n",
        "    axs.set_xlabel(\"frame\")\n",
        "    im = axs.imshow(librosa.power_to_db(spectrogram), origin=\"lower\", aspect=\"auto\")\n",
        "    fig.colorbar(im, ax=axs)\n",
        "    plt.show(block=False)"
      ]
    },
    {
      "cell_type": "code",
      "execution_count": null,
      "metadata": {
        "colab": {
          "base_uri": "https://localhost:8080/"
        },
        "id": "-pnryF9LBkz-",
        "outputId": "c3f64b09-6fd7-4bdb-850e-ac207916b52c"
      },
      "outputs": [
        {
          "output_type": "stream",
          "name": "stdout",
          "text": [
            "시드 고정:  42\n",
            "{'sr': 25600, 'device': 'cuda', 'n_mels': 80, 'core': 8, 'train_ratio': 0.6, 'valid_ratio': 0.2, 'test_ratio': 0.2, 'path': './best_model.pt', 'seed': 42, 'n_epoch': 25}\n"
          ]
        }
      ],
      "source": [
        "restrict_seed(config['seed'])\n",
        "print(config)"
      ]
    },
    {
      "cell_type": "markdown",
      "metadata": {
        "id": "JB9ViXVnxY4B"
      },
      "source": [
        "### 데이터셋 정의"
      ]
    },
    {
      "cell_type": "code",
      "execution_count": null,
      "metadata": {
        "id": "v0g9gfOqfd9m"
      },
      "outputs": [],
      "source": [
        "class soundDataset(Dataset):\n",
        "    def __init__(self, dir_path, csv_path, mode=\"train\", config=None, other_sound_path=None, mixSoundRatio=0, randomShift=True):\n",
        "        self.mel_converter = torchaudio.transforms.MelSpectrogram(sample_rate=config['sr'], n_mels=config['n_mels'])\n",
        "        self.db_converter = torchaudio.transforms.AmplitudeToDB()\n",
        "        self.dir = dir_path\n",
        "        self.mixSoundRatio = mixSoundRatio\n",
        "        self.randomShift = randomShift\n",
        "        self.config = config\n",
        "\n",
        "        assert other_sound_path is not None, \"it must be filled\"\n",
        "        self.other_sound_dir = other_sound_path\n",
        "\n",
        "        colume_list = ['title',  'Car_type', 'Horn', 'Position', 'S206_position','Length', 'Car_num', 'path']\n",
        "\n",
        "        metaData = pd.read_csv(csv_path)\n",
        "        metaData = metaData[colume_list]\n",
        "        metaData = metaData.sort_values(by=\"Car_type\")\n",
        "        metaData['label'] = metaData['Horn'].apply(lambda x: 1 if x == \"Yes\" else 0)\n",
        "        metaData['Position'] = metaData['Position'].fillna(-1)\n",
        "\n",
        "        self.meta = metaData\n",
        "        self.meta = self._check_all_file_exist()\n",
        "        self.meta['length'] = self._check_all_file_size()\n",
        "        display(self.meta)\n",
        "        print(\"Horn Yes 개수\", len(self.meta[self.meta['Horn']==\"Yes\" ]), \"Horn No 개수\", len(self.meta[self.meta['Horn']==\"No\" ]))\n",
        "\n",
        "    def _get_other_sound(self):\n",
        "    # 병합할 다른 소리 파일 가져오기\n",
        "        _meta = pd.read_csv( self.other_sound_dir + \"/meta.csv\", index_col=[0] )\n",
        "\n",
        "        _meta = _meta['mp3_path']\n",
        "        path = _meta.iloc[random.randrange(1,len(_meta))]\n",
        "\n",
        "        waveform, sample_rate = torchaudio.load( self.other_sound_dir / Path(str(path)).with_suffix('.mp3'))\n",
        "        audio_sample = F.resample(waveform, sample_rate, self.config['sr'], lowpass_filter_width=6)\n",
        "        audio_sample = audio_sample.squeeze()\n",
        "        return audio_sample\n",
        "\n",
        "    def _check_all_file_exist(self):\n",
        "    # 파일-음원 매칭을 체크하여 소리 파일이 없는 경우 제외\n",
        "        for i in range(len(self.meta['path'])):\n",
        "            path = self.meta['path'].iloc[i]\n",
        "            if not os.path.exists(self.dir / Path(path).with_suffix('.wav')):\n",
        "                meata_data = self.meta [self.meta['path']!=path]\n",
        "                return meata_data\n",
        "\n",
        "    def _check_all_file_size(self):\n",
        "\n",
        "        length_list = []\n",
        "        for i in range(len(self.meta['path'])):\n",
        "            waveform, sample_rate = torchaudio.load(self.dir / Path(self.meta['path'].iloc[i]).with_suffix('.wav'))\n",
        "            audio_sample = F.resample(waveform, sample_rate, self.config['sr'], lowpass_filter_width=6)\n",
        "\n",
        "            length_list.append(len(audio_sample))\n",
        "        return length_list\n",
        "\n",
        "    def minmaxScaler(self, data):\n",
        "    # 정규화 수행\n",
        "        data_min, data_max = data.min(), data.max()\n",
        "        new_lower, new_upper = -1, 1\n",
        "        scaled_data = (data - data_min)/(data_max - data_min)*(new_upper - new_lower) + new_lower\n",
        "        return scaled_data\n",
        "\n",
        "    def mixOtherSound(self, audio_sample, mix_rate=1.0):\n",
        "    # 시험 데이터를 실 데이터로 전이시키는 함수\n",
        "        other_sound = self._get_other_sound()\n",
        "\n",
        "        if len(other_sound) > len(audio_sample):\n",
        "            other_sound = other_sound[:len(audio_sample)]\n",
        "        else:\n",
        "            other_sound = torch.cat((other_sound, other_sound), 0)\n",
        "            other_sound = other_sound[:len(audio_sample)]\n",
        "\n",
        "            front = int( (len(audio_sample) - len(other_sound)) / 4 )\n",
        "            back = (len(audio_sample) - len(other_sound)) - front\n",
        "            other_sound = nn.functional.pad(other_sound, (front, back) , 'constant', value=0)\n",
        "\n",
        "        scaled_audio_data = self.minmaxScaler(audio_sample)\n",
        "        scaled_other_data = self.minmaxScaler(other_sound)\n",
        "\n",
        "        audio_sample = scaled_audio_data + (scaled_other_data*mix_rate)\n",
        "\n",
        "        return audio_sample\n",
        "\n",
        "    def __getitem__(self, idx):\n",
        "        row =  self.meta.iloc[idx]\n",
        "        path = row['path']\n",
        "        label = row['label']\n",
        "\n",
        "        waveform, sample_rate = torchaudio.load(self.dir / Path(path).with_suffix('.wav'))\n",
        "        audio_sample = F.resample(waveform, sample_rate, self.config['sr'], lowpass_filter_width=6)\n",
        "        audio_sample = audio_sample.squeeze()\n",
        "\n",
        "        if self.randomShift is True:\n",
        "            random_distance = random.randint(0, int(len(audio_sample)/5))\n",
        "            random_padding = torch.zeros(random_distance)\n",
        "\n",
        "            audio_sample = torch.cat((random_padding, audio_sample), 0)\n",
        "\n",
        "        if self.mixSoundRatio == \"random_ratio\":\n",
        "            random_ratio = random.randrange(2, 7, 1)\n",
        "            random_ratio = random_ratio*0.1\n",
        "            if random_ratio > 0:\n",
        "                audio_sample = self.mixOtherSound(audio_sample, mix_rate=random_ratio)\n",
        "\n",
        "        feature = self.db_converter(self.mel_converter(audio_sample))\n",
        "        label = nn.functional.one_hot(torch.tensor(label), num_classes=2)\n",
        "\n",
        "        return feature, label\n",
        "\n",
        "    def __len__(self):\n",
        "        return len(self.meta)\n",
        "\n",
        "def collate_padder(batch):\n",
        "# 각 시퀀스를 패딩\n",
        "    sequence_lengths = [item[0].size(1) for item in batch]\n",
        "    max_length = max(sequence_lengths)\n",
        "\n",
        "    padded_features = [torch.nn.functional.pad(item[0], (0, max_length - item[0].size(1))) for item in batch]\n",
        "\n",
        "    labels = [item[1] for item in batch]\n",
        "    return torch.stack(padded_features, dim=0), torch.stack(labels, dim=0).float()"
      ]
    },
    {
      "cell_type": "code",
      "execution_count": null,
      "metadata": {
        "colab": {
          "base_uri": "https://localhost:8080/",
          "height": 1000
        },
        "id": "qq0oJs4Y6yTK",
        "outputId": "efcc1cf5-9de5-44fc-d01c-03a0aecd39eb"
      },
      "outputs": [
        {
          "output_type": "stream",
          "name": "stderr",
          "text": [
            "/usr/local/lib/python3.10/dist-packages/torchaudio/functional/functional.py:584: UserWarning: At least one mel filterbank has all zero values. The value for `n_mels` (80) may be set too high. Or, the value for `n_freqs` (201) may be set too low.\n",
            "  warnings.warn(\n",
            "<ipython-input-8-adf2ef2f9cd1>:23: SettingWithCopyWarning: \n",
            "A value is trying to be set on a copy of a slice from a DataFrame.\n",
            "Try using .loc[row_indexer,col_indexer] = value instead\n",
            "\n",
            "See the caveats in the documentation: https://pandas.pydata.org/pandas-docs/stable/user_guide/indexing.html#returning-a-view-versus-a-copy\n",
            "  self.meta['length'] = self._check_all_file_size()\n"
          ]
        },
        {
          "output_type": "display_data",
          "data": {
            "text/plain": [
              "           title Car_type Horn  Position  S206_position  Length  Car_num  \\\n",
              "0   test_01.tdms     수소열차  Yes      22.0             22      44        2   \n",
              "62   test_5.tdms     수소열차   No      -1.0             22      44        2   \n",
              "63   test_6.tdms     수소열차   No      -1.0             22      44        2   \n",
              "64   test_7.tdms     수소열차   No      -1.0             22      44        2   \n",
              "65   test_8.tdms     수소열차   No      -1.0             22      44        2   \n",
              "..           ...      ...  ...       ...            ...     ...      ...   \n",
              "43  test_11.tdms   차세대전동차  Yes      61.0             22     122        6   \n",
              "44  test_12.tdms   차세대전동차  Yes      61.0             22     122        6   \n",
              "45  test_13.tdms   차세대전동차  Yes      61.0             22     122        6   \n",
              "31  test_08.tdms   차세대전동차  Yes      61.0             22     122        6   \n",
              "80  test_12.tdms   차세대전동차   No      -1.0             22     122        6   \n",
              "\n",
              "                                            path  label  length  \n",
              "0   221102_hydrogen_S206_Num_0_Horn_Yes_2_22.wav      1       1  \n",
              "62     221109_hydrogen_S206_Num_4_Horn_No_2_.wav      0       1  \n",
              "63     221109_hydrogen_S206_Num_5_Horn_No_2_.wav      0       1  \n",
              "64     221109_hydrogen_S206_Num_6_Horn_No_2_.wav      0       1  \n",
              "65     221109_hydrogen_S206_Num_7_Horn_No_2_.wav      0       1  \n",
              "..                                           ...    ...     ...  \n",
              "43  221107_nextgen_S206_Num_10_Horn_Yes_6_61.wav      1       1  \n",
              "44  221107_nextgen_S206_Num_11_Horn_Yes_6_61.wav      1       1  \n",
              "45  221107_nextgen_S206_Num_12_Horn_Yes_6_61.wav      1       1  \n",
              "31   221104_nextgen_S206_Num_7_Horn_Yes_6_61.wav      1       1  \n",
              "80     221110_nextgen_S206_Num_11_Horn_No_6_.wav      0       1  \n",
              "\n",
              "[80 rows x 10 columns]"
            ],
            "text/html": [
              "\n",
              "  <div id=\"df-a41e1de4-0f16-419c-8da3-e3ce782ebed3\" class=\"colab-df-container\">\n",
              "    <div>\n",
              "<style scoped>\n",
              "    .dataframe tbody tr th:only-of-type {\n",
              "        vertical-align: middle;\n",
              "    }\n",
              "\n",
              "    .dataframe tbody tr th {\n",
              "        vertical-align: top;\n",
              "    }\n",
              "\n",
              "    .dataframe thead th {\n",
              "        text-align: right;\n",
              "    }\n",
              "</style>\n",
              "<table border=\"1\" class=\"dataframe\">\n",
              "  <thead>\n",
              "    <tr style=\"text-align: right;\">\n",
              "      <th></th>\n",
              "      <th>title</th>\n",
              "      <th>Car_type</th>\n",
              "      <th>Horn</th>\n",
              "      <th>Position</th>\n",
              "      <th>S206_position</th>\n",
              "      <th>Length</th>\n",
              "      <th>Car_num</th>\n",
              "      <th>path</th>\n",
              "      <th>label</th>\n",
              "      <th>length</th>\n",
              "    </tr>\n",
              "  </thead>\n",
              "  <tbody>\n",
              "    <tr>\n",
              "      <th>0</th>\n",
              "      <td>test_01.tdms</td>\n",
              "      <td>수소열차</td>\n",
              "      <td>Yes</td>\n",
              "      <td>22.0</td>\n",
              "      <td>22</td>\n",
              "      <td>44</td>\n",
              "      <td>2</td>\n",
              "      <td>221102_hydrogen_S206_Num_0_Horn_Yes_2_22.wav</td>\n",
              "      <td>1</td>\n",
              "      <td>1</td>\n",
              "    </tr>\n",
              "    <tr>\n",
              "      <th>62</th>\n",
              "      <td>test_5.tdms</td>\n",
              "      <td>수소열차</td>\n",
              "      <td>No</td>\n",
              "      <td>-1.0</td>\n",
              "      <td>22</td>\n",
              "      <td>44</td>\n",
              "      <td>2</td>\n",
              "      <td>221109_hydrogen_S206_Num_4_Horn_No_2_.wav</td>\n",
              "      <td>0</td>\n",
              "      <td>1</td>\n",
              "    </tr>\n",
              "    <tr>\n",
              "      <th>63</th>\n",
              "      <td>test_6.tdms</td>\n",
              "      <td>수소열차</td>\n",
              "      <td>No</td>\n",
              "      <td>-1.0</td>\n",
              "      <td>22</td>\n",
              "      <td>44</td>\n",
              "      <td>2</td>\n",
              "      <td>221109_hydrogen_S206_Num_5_Horn_No_2_.wav</td>\n",
              "      <td>0</td>\n",
              "      <td>1</td>\n",
              "    </tr>\n",
              "    <tr>\n",
              "      <th>64</th>\n",
              "      <td>test_7.tdms</td>\n",
              "      <td>수소열차</td>\n",
              "      <td>No</td>\n",
              "      <td>-1.0</td>\n",
              "      <td>22</td>\n",
              "      <td>44</td>\n",
              "      <td>2</td>\n",
              "      <td>221109_hydrogen_S206_Num_6_Horn_No_2_.wav</td>\n",
              "      <td>0</td>\n",
              "      <td>1</td>\n",
              "    </tr>\n",
              "    <tr>\n",
              "      <th>65</th>\n",
              "      <td>test_8.tdms</td>\n",
              "      <td>수소열차</td>\n",
              "      <td>No</td>\n",
              "      <td>-1.0</td>\n",
              "      <td>22</td>\n",
              "      <td>44</td>\n",
              "      <td>2</td>\n",
              "      <td>221109_hydrogen_S206_Num_7_Horn_No_2_.wav</td>\n",
              "      <td>0</td>\n",
              "      <td>1</td>\n",
              "    </tr>\n",
              "    <tr>\n",
              "      <th>...</th>\n",
              "      <td>...</td>\n",
              "      <td>...</td>\n",
              "      <td>...</td>\n",
              "      <td>...</td>\n",
              "      <td>...</td>\n",
              "      <td>...</td>\n",
              "      <td>...</td>\n",
              "      <td>...</td>\n",
              "      <td>...</td>\n",
              "      <td>...</td>\n",
              "    </tr>\n",
              "    <tr>\n",
              "      <th>43</th>\n",
              "      <td>test_11.tdms</td>\n",
              "      <td>차세대전동차</td>\n",
              "      <td>Yes</td>\n",
              "      <td>61.0</td>\n",
              "      <td>22</td>\n",
              "      <td>122</td>\n",
              "      <td>6</td>\n",
              "      <td>221107_nextgen_S206_Num_10_Horn_Yes_6_61.wav</td>\n",
              "      <td>1</td>\n",
              "      <td>1</td>\n",
              "    </tr>\n",
              "    <tr>\n",
              "      <th>44</th>\n",
              "      <td>test_12.tdms</td>\n",
              "      <td>차세대전동차</td>\n",
              "      <td>Yes</td>\n",
              "      <td>61.0</td>\n",
              "      <td>22</td>\n",
              "      <td>122</td>\n",
              "      <td>6</td>\n",
              "      <td>221107_nextgen_S206_Num_11_Horn_Yes_6_61.wav</td>\n",
              "      <td>1</td>\n",
              "      <td>1</td>\n",
              "    </tr>\n",
              "    <tr>\n",
              "      <th>45</th>\n",
              "      <td>test_13.tdms</td>\n",
              "      <td>차세대전동차</td>\n",
              "      <td>Yes</td>\n",
              "      <td>61.0</td>\n",
              "      <td>22</td>\n",
              "      <td>122</td>\n",
              "      <td>6</td>\n",
              "      <td>221107_nextgen_S206_Num_12_Horn_Yes_6_61.wav</td>\n",
              "      <td>1</td>\n",
              "      <td>1</td>\n",
              "    </tr>\n",
              "    <tr>\n",
              "      <th>31</th>\n",
              "      <td>test_08.tdms</td>\n",
              "      <td>차세대전동차</td>\n",
              "      <td>Yes</td>\n",
              "      <td>61.0</td>\n",
              "      <td>22</td>\n",
              "      <td>122</td>\n",
              "      <td>6</td>\n",
              "      <td>221104_nextgen_S206_Num_7_Horn_Yes_6_61.wav</td>\n",
              "      <td>1</td>\n",
              "      <td>1</td>\n",
              "    </tr>\n",
              "    <tr>\n",
              "      <th>80</th>\n",
              "      <td>test_12.tdms</td>\n",
              "      <td>차세대전동차</td>\n",
              "      <td>No</td>\n",
              "      <td>-1.0</td>\n",
              "      <td>22</td>\n",
              "      <td>122</td>\n",
              "      <td>6</td>\n",
              "      <td>221110_nextgen_S206_Num_11_Horn_No_6_.wav</td>\n",
              "      <td>0</td>\n",
              "      <td>1</td>\n",
              "    </tr>\n",
              "  </tbody>\n",
              "</table>\n",
              "<p>80 rows × 10 columns</p>\n",
              "</div>\n",
              "    <div class=\"colab-df-buttons\">\n",
              "\n",
              "  <div class=\"colab-df-container\">\n",
              "    <button class=\"colab-df-convert\" onclick=\"convertToInteractive('df-a41e1de4-0f16-419c-8da3-e3ce782ebed3')\"\n",
              "            title=\"Convert this dataframe to an interactive table.\"\n",
              "            style=\"display:none;\">\n",
              "\n",
              "  <svg xmlns=\"http://www.w3.org/2000/svg\" height=\"24px\" viewBox=\"0 -960 960 960\">\n",
              "    <path d=\"M120-120v-720h720v720H120Zm60-500h600v-160H180v160Zm220 220h160v-160H400v160Zm0 220h160v-160H400v160ZM180-400h160v-160H180v160Zm440 0h160v-160H620v160ZM180-180h160v-160H180v160Zm440 0h160v-160H620v160Z\"/>\n",
              "  </svg>\n",
              "    </button>\n",
              "\n",
              "  <style>\n",
              "    .colab-df-container {\n",
              "      display:flex;\n",
              "      gap: 12px;\n",
              "    }\n",
              "\n",
              "    .colab-df-convert {\n",
              "      background-color: #E8F0FE;\n",
              "      border: none;\n",
              "      border-radius: 50%;\n",
              "      cursor: pointer;\n",
              "      display: none;\n",
              "      fill: #1967D2;\n",
              "      height: 32px;\n",
              "      padding: 0 0 0 0;\n",
              "      width: 32px;\n",
              "    }\n",
              "\n",
              "    .colab-df-convert:hover {\n",
              "      background-color: #E2EBFA;\n",
              "      box-shadow: 0px 1px 2px rgba(60, 64, 67, 0.3), 0px 1px 3px 1px rgba(60, 64, 67, 0.15);\n",
              "      fill: #174EA6;\n",
              "    }\n",
              "\n",
              "    .colab-df-buttons div {\n",
              "      margin-bottom: 4px;\n",
              "    }\n",
              "\n",
              "    [theme=dark] .colab-df-convert {\n",
              "      background-color: #3B4455;\n",
              "      fill: #D2E3FC;\n",
              "    }\n",
              "\n",
              "    [theme=dark] .colab-df-convert:hover {\n",
              "      background-color: #434B5C;\n",
              "      box-shadow: 0px 1px 3px 1px rgba(0, 0, 0, 0.15);\n",
              "      filter: drop-shadow(0px 1px 2px rgba(0, 0, 0, 0.3));\n",
              "      fill: #FFFFFF;\n",
              "    }\n",
              "  </style>\n",
              "\n",
              "    <script>\n",
              "      const buttonEl =\n",
              "        document.querySelector('#df-a41e1de4-0f16-419c-8da3-e3ce782ebed3 button.colab-df-convert');\n",
              "      buttonEl.style.display =\n",
              "        google.colab.kernel.accessAllowed ? 'block' : 'none';\n",
              "\n",
              "      async function convertToInteractive(key) {\n",
              "        const element = document.querySelector('#df-a41e1de4-0f16-419c-8da3-e3ce782ebed3');\n",
              "        const dataTable =\n",
              "          await google.colab.kernel.invokeFunction('convertToInteractive',\n",
              "                                                    [key], {});\n",
              "        if (!dataTable) return;\n",
              "\n",
              "        const docLinkHtml = 'Like what you see? Visit the ' +\n",
              "          '<a target=\"_blank\" href=https://colab.research.google.com/notebooks/data_table.ipynb>data table notebook</a>'\n",
              "          + ' to learn more about interactive tables.';\n",
              "        element.innerHTML = '';\n",
              "        dataTable['output_type'] = 'display_data';\n",
              "        await google.colab.output.renderOutput(dataTable, element);\n",
              "        const docLink = document.createElement('div');\n",
              "        docLink.innerHTML = docLinkHtml;\n",
              "        element.appendChild(docLink);\n",
              "      }\n",
              "    </script>\n",
              "  </div>\n",
              "\n",
              "\n",
              "<div id=\"df-535916e3-54e3-4bc9-8d97-a2438323d831\">\n",
              "  <button class=\"colab-df-quickchart\" onclick=\"quickchart('df-535916e3-54e3-4bc9-8d97-a2438323d831')\"\n",
              "            title=\"Suggest charts.\"\n",
              "            style=\"display:none;\">\n",
              "\n",
              "<svg xmlns=\"http://www.w3.org/2000/svg\" height=\"24px\"viewBox=\"0 0 24 24\"\n",
              "     width=\"24px\">\n",
              "    <g>\n",
              "        <path d=\"M19 3H5c-1.1 0-2 .9-2 2v14c0 1.1.9 2 2 2h14c1.1 0 2-.9 2-2V5c0-1.1-.9-2-2-2zM9 17H7v-7h2v7zm4 0h-2V7h2v10zm4 0h-2v-4h2v4z\"/>\n",
              "    </g>\n",
              "</svg>\n",
              "  </button>\n",
              "\n",
              "<style>\n",
              "  .colab-df-quickchart {\n",
              "      --bg-color: #E8F0FE;\n",
              "      --fill-color: #1967D2;\n",
              "      --hover-bg-color: #E2EBFA;\n",
              "      --hover-fill-color: #174EA6;\n",
              "      --disabled-fill-color: #AAA;\n",
              "      --disabled-bg-color: #DDD;\n",
              "  }\n",
              "\n",
              "  [theme=dark] .colab-df-quickchart {\n",
              "      --bg-color: #3B4455;\n",
              "      --fill-color: #D2E3FC;\n",
              "      --hover-bg-color: #434B5C;\n",
              "      --hover-fill-color: #FFFFFF;\n",
              "      --disabled-bg-color: #3B4455;\n",
              "      --disabled-fill-color: #666;\n",
              "  }\n",
              "\n",
              "  .colab-df-quickchart {\n",
              "    background-color: var(--bg-color);\n",
              "    border: none;\n",
              "    border-radius: 50%;\n",
              "    cursor: pointer;\n",
              "    display: none;\n",
              "    fill: var(--fill-color);\n",
              "    height: 32px;\n",
              "    padding: 0;\n",
              "    width: 32px;\n",
              "  }\n",
              "\n",
              "  .colab-df-quickchart:hover {\n",
              "    background-color: var(--hover-bg-color);\n",
              "    box-shadow: 0 1px 2px rgba(60, 64, 67, 0.3), 0 1px 3px 1px rgba(60, 64, 67, 0.15);\n",
              "    fill: var(--button-hover-fill-color);\n",
              "  }\n",
              "\n",
              "  .colab-df-quickchart-complete:disabled,\n",
              "  .colab-df-quickchart-complete:disabled:hover {\n",
              "    background-color: var(--disabled-bg-color);\n",
              "    fill: var(--disabled-fill-color);\n",
              "    box-shadow: none;\n",
              "  }\n",
              "\n",
              "  .colab-df-spinner {\n",
              "    border: 2px solid var(--fill-color);\n",
              "    border-color: transparent;\n",
              "    border-bottom-color: var(--fill-color);\n",
              "    animation:\n",
              "      spin 1s steps(1) infinite;\n",
              "  }\n",
              "\n",
              "  @keyframes spin {\n",
              "    0% {\n",
              "      border-color: transparent;\n",
              "      border-bottom-color: var(--fill-color);\n",
              "      border-left-color: var(--fill-color);\n",
              "    }\n",
              "    20% {\n",
              "      border-color: transparent;\n",
              "      border-left-color: var(--fill-color);\n",
              "      border-top-color: var(--fill-color);\n",
              "    }\n",
              "    30% {\n",
              "      border-color: transparent;\n",
              "      border-left-color: var(--fill-color);\n",
              "      border-top-color: var(--fill-color);\n",
              "      border-right-color: var(--fill-color);\n",
              "    }\n",
              "    40% {\n",
              "      border-color: transparent;\n",
              "      border-right-color: var(--fill-color);\n",
              "      border-top-color: var(--fill-color);\n",
              "    }\n",
              "    60% {\n",
              "      border-color: transparent;\n",
              "      border-right-color: var(--fill-color);\n",
              "    }\n",
              "    80% {\n",
              "      border-color: transparent;\n",
              "      border-right-color: var(--fill-color);\n",
              "      border-bottom-color: var(--fill-color);\n",
              "    }\n",
              "    90% {\n",
              "      border-color: transparent;\n",
              "      border-bottom-color: var(--fill-color);\n",
              "    }\n",
              "  }\n",
              "</style>\n",
              "\n",
              "  <script>\n",
              "    async function quickchart(key) {\n",
              "      const quickchartButtonEl =\n",
              "        document.querySelector('#' + key + ' button');\n",
              "      quickchartButtonEl.disabled = true;  // To prevent multiple clicks.\n",
              "      quickchartButtonEl.classList.add('colab-df-spinner');\n",
              "      try {\n",
              "        const charts = await google.colab.kernel.invokeFunction(\n",
              "            'suggestCharts', [key], {});\n",
              "      } catch (error) {\n",
              "        console.error('Error during call to suggestCharts:', error);\n",
              "      }\n",
              "      quickchartButtonEl.classList.remove('colab-df-spinner');\n",
              "      quickchartButtonEl.classList.add('colab-df-quickchart-complete');\n",
              "    }\n",
              "    (() => {\n",
              "      let quickchartButtonEl =\n",
              "        document.querySelector('#df-535916e3-54e3-4bc9-8d97-a2438323d831 button');\n",
              "      quickchartButtonEl.style.display =\n",
              "        google.colab.kernel.accessAllowed ? 'block' : 'none';\n",
              "    })();\n",
              "  </script>\n",
              "</div>\n",
              "    </div>\n",
              "  </div>\n"
            ]
          },
          "metadata": {}
        },
        {
          "output_type": "stream",
          "name": "stderr",
          "text": [
            "/usr/local/lib/python3.10/dist-packages/torchaudio/functional/functional.py:584: UserWarning: At least one mel filterbank has all zero values. The value for `n_mels` (80) may be set too high. Or, the value for `n_freqs` (201) may be set too low.\n",
            "  warnings.warn(\n"
          ]
        },
        {
          "output_type": "stream",
          "name": "stdout",
          "text": [
            "Horn Yes 개수 56 Horn No 개수 24\n"
          ]
        },
        {
          "output_type": "stream",
          "name": "stderr",
          "text": [
            "<ipython-input-8-adf2ef2f9cd1>:23: SettingWithCopyWarning: \n",
            "A value is trying to be set on a copy of a slice from a DataFrame.\n",
            "Try using .loc[row_indexer,col_indexer] = value instead\n",
            "\n",
            "See the caveats in the documentation: https://pandas.pydata.org/pandas-docs/stable/user_guide/indexing.html#returning-a-view-versus-a-copy\n",
            "  self.meta['length'] = self._check_all_file_size()\n"
          ]
        },
        {
          "output_type": "display_data",
          "data": {
            "text/plain": [
              "           title Car_type Horn  Position  S206_position  Length  Car_num  \\\n",
              "0   test_01.tdms     수소열차  Yes      22.0             22      44        2   \n",
              "62   test_5.tdms     수소열차   No      -1.0             22      44        2   \n",
              "63   test_6.tdms     수소열차   No      -1.0             22      44        2   \n",
              "64   test_7.tdms     수소열차   No      -1.0             22      44        2   \n",
              "65   test_8.tdms     수소열차   No      -1.0             22      44        2   \n",
              "..           ...      ...  ...       ...            ...     ...      ...   \n",
              "43  test_11.tdms   차세대전동차  Yes      61.0             22     122        6   \n",
              "44  test_12.tdms   차세대전동차  Yes      61.0             22     122        6   \n",
              "45  test_13.tdms   차세대전동차  Yes      61.0             22     122        6   \n",
              "31  test_08.tdms   차세대전동차  Yes      61.0             22     122        6   \n",
              "80  test_12.tdms   차세대전동차   No      -1.0             22     122        6   \n",
              "\n",
              "                                            path  label  length  \n",
              "0   221102_hydrogen_S206_Num_0_Horn_Yes_2_22.wav      1       1  \n",
              "62     221109_hydrogen_S206_Num_4_Horn_No_2_.wav      0       1  \n",
              "63     221109_hydrogen_S206_Num_5_Horn_No_2_.wav      0       1  \n",
              "64     221109_hydrogen_S206_Num_6_Horn_No_2_.wav      0       1  \n",
              "65     221109_hydrogen_S206_Num_7_Horn_No_2_.wav      0       1  \n",
              "..                                           ...    ...     ...  \n",
              "43  221107_nextgen_S206_Num_10_Horn_Yes_6_61.wav      1       1  \n",
              "44  221107_nextgen_S206_Num_11_Horn_Yes_6_61.wav      1       1  \n",
              "45  221107_nextgen_S206_Num_12_Horn_Yes_6_61.wav      1       1  \n",
              "31   221104_nextgen_S206_Num_7_Horn_Yes_6_61.wav      1       1  \n",
              "80     221110_nextgen_S206_Num_11_Horn_No_6_.wav      0       1  \n",
              "\n",
              "[80 rows x 10 columns]"
            ],
            "text/html": [
              "\n",
              "  <div id=\"df-5e6e19a6-155a-47e9-85ed-fc7299d61d73\" class=\"colab-df-container\">\n",
              "    <div>\n",
              "<style scoped>\n",
              "    .dataframe tbody tr th:only-of-type {\n",
              "        vertical-align: middle;\n",
              "    }\n",
              "\n",
              "    .dataframe tbody tr th {\n",
              "        vertical-align: top;\n",
              "    }\n",
              "\n",
              "    .dataframe thead th {\n",
              "        text-align: right;\n",
              "    }\n",
              "</style>\n",
              "<table border=\"1\" class=\"dataframe\">\n",
              "  <thead>\n",
              "    <tr style=\"text-align: right;\">\n",
              "      <th></th>\n",
              "      <th>title</th>\n",
              "      <th>Car_type</th>\n",
              "      <th>Horn</th>\n",
              "      <th>Position</th>\n",
              "      <th>S206_position</th>\n",
              "      <th>Length</th>\n",
              "      <th>Car_num</th>\n",
              "      <th>path</th>\n",
              "      <th>label</th>\n",
              "      <th>length</th>\n",
              "    </tr>\n",
              "  </thead>\n",
              "  <tbody>\n",
              "    <tr>\n",
              "      <th>0</th>\n",
              "      <td>test_01.tdms</td>\n",
              "      <td>수소열차</td>\n",
              "      <td>Yes</td>\n",
              "      <td>22.0</td>\n",
              "      <td>22</td>\n",
              "      <td>44</td>\n",
              "      <td>2</td>\n",
              "      <td>221102_hydrogen_S206_Num_0_Horn_Yes_2_22.wav</td>\n",
              "      <td>1</td>\n",
              "      <td>1</td>\n",
              "    </tr>\n",
              "    <tr>\n",
              "      <th>62</th>\n",
              "      <td>test_5.tdms</td>\n",
              "      <td>수소열차</td>\n",
              "      <td>No</td>\n",
              "      <td>-1.0</td>\n",
              "      <td>22</td>\n",
              "      <td>44</td>\n",
              "      <td>2</td>\n",
              "      <td>221109_hydrogen_S206_Num_4_Horn_No_2_.wav</td>\n",
              "      <td>0</td>\n",
              "      <td>1</td>\n",
              "    </tr>\n",
              "    <tr>\n",
              "      <th>63</th>\n",
              "      <td>test_6.tdms</td>\n",
              "      <td>수소열차</td>\n",
              "      <td>No</td>\n",
              "      <td>-1.0</td>\n",
              "      <td>22</td>\n",
              "      <td>44</td>\n",
              "      <td>2</td>\n",
              "      <td>221109_hydrogen_S206_Num_5_Horn_No_2_.wav</td>\n",
              "      <td>0</td>\n",
              "      <td>1</td>\n",
              "    </tr>\n",
              "    <tr>\n",
              "      <th>64</th>\n",
              "      <td>test_7.tdms</td>\n",
              "      <td>수소열차</td>\n",
              "      <td>No</td>\n",
              "      <td>-1.0</td>\n",
              "      <td>22</td>\n",
              "      <td>44</td>\n",
              "      <td>2</td>\n",
              "      <td>221109_hydrogen_S206_Num_6_Horn_No_2_.wav</td>\n",
              "      <td>0</td>\n",
              "      <td>1</td>\n",
              "    </tr>\n",
              "    <tr>\n",
              "      <th>65</th>\n",
              "      <td>test_8.tdms</td>\n",
              "      <td>수소열차</td>\n",
              "      <td>No</td>\n",
              "      <td>-1.0</td>\n",
              "      <td>22</td>\n",
              "      <td>44</td>\n",
              "      <td>2</td>\n",
              "      <td>221109_hydrogen_S206_Num_7_Horn_No_2_.wav</td>\n",
              "      <td>0</td>\n",
              "      <td>1</td>\n",
              "    </tr>\n",
              "    <tr>\n",
              "      <th>...</th>\n",
              "      <td>...</td>\n",
              "      <td>...</td>\n",
              "      <td>...</td>\n",
              "      <td>...</td>\n",
              "      <td>...</td>\n",
              "      <td>...</td>\n",
              "      <td>...</td>\n",
              "      <td>...</td>\n",
              "      <td>...</td>\n",
              "      <td>...</td>\n",
              "    </tr>\n",
              "    <tr>\n",
              "      <th>43</th>\n",
              "      <td>test_11.tdms</td>\n",
              "      <td>차세대전동차</td>\n",
              "      <td>Yes</td>\n",
              "      <td>61.0</td>\n",
              "      <td>22</td>\n",
              "      <td>122</td>\n",
              "      <td>6</td>\n",
              "      <td>221107_nextgen_S206_Num_10_Horn_Yes_6_61.wav</td>\n",
              "      <td>1</td>\n",
              "      <td>1</td>\n",
              "    </tr>\n",
              "    <tr>\n",
              "      <th>44</th>\n",
              "      <td>test_12.tdms</td>\n",
              "      <td>차세대전동차</td>\n",
              "      <td>Yes</td>\n",
              "      <td>61.0</td>\n",
              "      <td>22</td>\n",
              "      <td>122</td>\n",
              "      <td>6</td>\n",
              "      <td>221107_nextgen_S206_Num_11_Horn_Yes_6_61.wav</td>\n",
              "      <td>1</td>\n",
              "      <td>1</td>\n",
              "    </tr>\n",
              "    <tr>\n",
              "      <th>45</th>\n",
              "      <td>test_13.tdms</td>\n",
              "      <td>차세대전동차</td>\n",
              "      <td>Yes</td>\n",
              "      <td>61.0</td>\n",
              "      <td>22</td>\n",
              "      <td>122</td>\n",
              "      <td>6</td>\n",
              "      <td>221107_nextgen_S206_Num_12_Horn_Yes_6_61.wav</td>\n",
              "      <td>1</td>\n",
              "      <td>1</td>\n",
              "    </tr>\n",
              "    <tr>\n",
              "      <th>31</th>\n",
              "      <td>test_08.tdms</td>\n",
              "      <td>차세대전동차</td>\n",
              "      <td>Yes</td>\n",
              "      <td>61.0</td>\n",
              "      <td>22</td>\n",
              "      <td>122</td>\n",
              "      <td>6</td>\n",
              "      <td>221104_nextgen_S206_Num_7_Horn_Yes_6_61.wav</td>\n",
              "      <td>1</td>\n",
              "      <td>1</td>\n",
              "    </tr>\n",
              "    <tr>\n",
              "      <th>80</th>\n",
              "      <td>test_12.tdms</td>\n",
              "      <td>차세대전동차</td>\n",
              "      <td>No</td>\n",
              "      <td>-1.0</td>\n",
              "      <td>22</td>\n",
              "      <td>122</td>\n",
              "      <td>6</td>\n",
              "      <td>221110_nextgen_S206_Num_11_Horn_No_6_.wav</td>\n",
              "      <td>0</td>\n",
              "      <td>1</td>\n",
              "    </tr>\n",
              "  </tbody>\n",
              "</table>\n",
              "<p>80 rows × 10 columns</p>\n",
              "</div>\n",
              "    <div class=\"colab-df-buttons\">\n",
              "\n",
              "  <div class=\"colab-df-container\">\n",
              "    <button class=\"colab-df-convert\" onclick=\"convertToInteractive('df-5e6e19a6-155a-47e9-85ed-fc7299d61d73')\"\n",
              "            title=\"Convert this dataframe to an interactive table.\"\n",
              "            style=\"display:none;\">\n",
              "\n",
              "  <svg xmlns=\"http://www.w3.org/2000/svg\" height=\"24px\" viewBox=\"0 -960 960 960\">\n",
              "    <path d=\"M120-120v-720h720v720H120Zm60-500h600v-160H180v160Zm220 220h160v-160H400v160Zm0 220h160v-160H400v160ZM180-400h160v-160H180v160Zm440 0h160v-160H620v160ZM180-180h160v-160H180v160Zm440 0h160v-160H620v160Z\"/>\n",
              "  </svg>\n",
              "    </button>\n",
              "\n",
              "  <style>\n",
              "    .colab-df-container {\n",
              "      display:flex;\n",
              "      gap: 12px;\n",
              "    }\n",
              "\n",
              "    .colab-df-convert {\n",
              "      background-color: #E8F0FE;\n",
              "      border: none;\n",
              "      border-radius: 50%;\n",
              "      cursor: pointer;\n",
              "      display: none;\n",
              "      fill: #1967D2;\n",
              "      height: 32px;\n",
              "      padding: 0 0 0 0;\n",
              "      width: 32px;\n",
              "    }\n",
              "\n",
              "    .colab-df-convert:hover {\n",
              "      background-color: #E2EBFA;\n",
              "      box-shadow: 0px 1px 2px rgba(60, 64, 67, 0.3), 0px 1px 3px 1px rgba(60, 64, 67, 0.15);\n",
              "      fill: #174EA6;\n",
              "    }\n",
              "\n",
              "    .colab-df-buttons div {\n",
              "      margin-bottom: 4px;\n",
              "    }\n",
              "\n",
              "    [theme=dark] .colab-df-convert {\n",
              "      background-color: #3B4455;\n",
              "      fill: #D2E3FC;\n",
              "    }\n",
              "\n",
              "    [theme=dark] .colab-df-convert:hover {\n",
              "      background-color: #434B5C;\n",
              "      box-shadow: 0px 1px 3px 1px rgba(0, 0, 0, 0.15);\n",
              "      filter: drop-shadow(0px 1px 2px rgba(0, 0, 0, 0.3));\n",
              "      fill: #FFFFFF;\n",
              "    }\n",
              "  </style>\n",
              "\n",
              "    <script>\n",
              "      const buttonEl =\n",
              "        document.querySelector('#df-5e6e19a6-155a-47e9-85ed-fc7299d61d73 button.colab-df-convert');\n",
              "      buttonEl.style.display =\n",
              "        google.colab.kernel.accessAllowed ? 'block' : 'none';\n",
              "\n",
              "      async function convertToInteractive(key) {\n",
              "        const element = document.querySelector('#df-5e6e19a6-155a-47e9-85ed-fc7299d61d73');\n",
              "        const dataTable =\n",
              "          await google.colab.kernel.invokeFunction('convertToInteractive',\n",
              "                                                    [key], {});\n",
              "        if (!dataTable) return;\n",
              "\n",
              "        const docLinkHtml = 'Like what you see? Visit the ' +\n",
              "          '<a target=\"_blank\" href=https://colab.research.google.com/notebooks/data_table.ipynb>data table notebook</a>'\n",
              "          + ' to learn more about interactive tables.';\n",
              "        element.innerHTML = '';\n",
              "        dataTable['output_type'] = 'display_data';\n",
              "        await google.colab.output.renderOutput(dataTable, element);\n",
              "        const docLink = document.createElement('div');\n",
              "        docLink.innerHTML = docLinkHtml;\n",
              "        element.appendChild(docLink);\n",
              "      }\n",
              "    </script>\n",
              "  </div>\n",
              "\n",
              "\n",
              "<div id=\"df-65bea99a-082f-46aa-a5f9-ec5f270663c8\">\n",
              "  <button class=\"colab-df-quickchart\" onclick=\"quickchart('df-65bea99a-082f-46aa-a5f9-ec5f270663c8')\"\n",
              "            title=\"Suggest charts.\"\n",
              "            style=\"display:none;\">\n",
              "\n",
              "<svg xmlns=\"http://www.w3.org/2000/svg\" height=\"24px\"viewBox=\"0 0 24 24\"\n",
              "     width=\"24px\">\n",
              "    <g>\n",
              "        <path d=\"M19 3H5c-1.1 0-2 .9-2 2v14c0 1.1.9 2 2 2h14c1.1 0 2-.9 2-2V5c0-1.1-.9-2-2-2zM9 17H7v-7h2v7zm4 0h-2V7h2v10zm4 0h-2v-4h2v4z\"/>\n",
              "    </g>\n",
              "</svg>\n",
              "  </button>\n",
              "\n",
              "<style>\n",
              "  .colab-df-quickchart {\n",
              "      --bg-color: #E8F0FE;\n",
              "      --fill-color: #1967D2;\n",
              "      --hover-bg-color: #E2EBFA;\n",
              "      --hover-fill-color: #174EA6;\n",
              "      --disabled-fill-color: #AAA;\n",
              "      --disabled-bg-color: #DDD;\n",
              "  }\n",
              "\n",
              "  [theme=dark] .colab-df-quickchart {\n",
              "      --bg-color: #3B4455;\n",
              "      --fill-color: #D2E3FC;\n",
              "      --hover-bg-color: #434B5C;\n",
              "      --hover-fill-color: #FFFFFF;\n",
              "      --disabled-bg-color: #3B4455;\n",
              "      --disabled-fill-color: #666;\n",
              "  }\n",
              "\n",
              "  .colab-df-quickchart {\n",
              "    background-color: var(--bg-color);\n",
              "    border: none;\n",
              "    border-radius: 50%;\n",
              "    cursor: pointer;\n",
              "    display: none;\n",
              "    fill: var(--fill-color);\n",
              "    height: 32px;\n",
              "    padding: 0;\n",
              "    width: 32px;\n",
              "  }\n",
              "\n",
              "  .colab-df-quickchart:hover {\n",
              "    background-color: var(--hover-bg-color);\n",
              "    box-shadow: 0 1px 2px rgba(60, 64, 67, 0.3), 0 1px 3px 1px rgba(60, 64, 67, 0.15);\n",
              "    fill: var(--button-hover-fill-color);\n",
              "  }\n",
              "\n",
              "  .colab-df-quickchart-complete:disabled,\n",
              "  .colab-df-quickchart-complete:disabled:hover {\n",
              "    background-color: var(--disabled-bg-color);\n",
              "    fill: var(--disabled-fill-color);\n",
              "    box-shadow: none;\n",
              "  }\n",
              "\n",
              "  .colab-df-spinner {\n",
              "    border: 2px solid var(--fill-color);\n",
              "    border-color: transparent;\n",
              "    border-bottom-color: var(--fill-color);\n",
              "    animation:\n",
              "      spin 1s steps(1) infinite;\n",
              "  }\n",
              "\n",
              "  @keyframes spin {\n",
              "    0% {\n",
              "      border-color: transparent;\n",
              "      border-bottom-color: var(--fill-color);\n",
              "      border-left-color: var(--fill-color);\n",
              "    }\n",
              "    20% {\n",
              "      border-color: transparent;\n",
              "      border-left-color: var(--fill-color);\n",
              "      border-top-color: var(--fill-color);\n",
              "    }\n",
              "    30% {\n",
              "      border-color: transparent;\n",
              "      border-left-color: var(--fill-color);\n",
              "      border-top-color: var(--fill-color);\n",
              "      border-right-color: var(--fill-color);\n",
              "    }\n",
              "    40% {\n",
              "      border-color: transparent;\n",
              "      border-right-color: var(--fill-color);\n",
              "      border-top-color: var(--fill-color);\n",
              "    }\n",
              "    60% {\n",
              "      border-color: transparent;\n",
              "      border-right-color: var(--fill-color);\n",
              "    }\n",
              "    80% {\n",
              "      border-color: transparent;\n",
              "      border-right-color: var(--fill-color);\n",
              "      border-bottom-color: var(--fill-color);\n",
              "    }\n",
              "    90% {\n",
              "      border-color: transparent;\n",
              "      border-bottom-color: var(--fill-color);\n",
              "    }\n",
              "  }\n",
              "</style>\n",
              "\n",
              "  <script>\n",
              "    async function quickchart(key) {\n",
              "      const quickchartButtonEl =\n",
              "        document.querySelector('#' + key + ' button');\n",
              "      quickchartButtonEl.disabled = true;  // To prevent multiple clicks.\n",
              "      quickchartButtonEl.classList.add('colab-df-spinner');\n",
              "      try {\n",
              "        const charts = await google.colab.kernel.invokeFunction(\n",
              "            'suggestCharts', [key], {});\n",
              "      } catch (error) {\n",
              "        console.error('Error during call to suggestCharts:', error);\n",
              "      }\n",
              "      quickchartButtonEl.classList.remove('colab-df-spinner');\n",
              "      quickchartButtonEl.classList.add('colab-df-quickchart-complete');\n",
              "    }\n",
              "    (() => {\n",
              "      let quickchartButtonEl =\n",
              "        document.querySelector('#df-65bea99a-082f-46aa-a5f9-ec5f270663c8 button');\n",
              "      quickchartButtonEl.style.display =\n",
              "        google.colab.kernel.accessAllowed ? 'block' : 'none';\n",
              "    })();\n",
              "  </script>\n",
              "</div>\n",
              "    </div>\n",
              "  </div>\n"
            ]
          },
          "metadata": {}
        },
        {
          "output_type": "stream",
          "name": "stdout",
          "text": [
            "Horn Yes 개수 56 Horn No 개수 24\n"
          ]
        }
      ],
      "source": [
        "sound_dataset = soundDataset(dirPath, csvPath, config=config, other_sound_path=othersourcePath, mixSoundRatio=\"random_ratio\", randomShift=True)\n",
        "sound_dataset_clean = soundDataset(dirPath, csvPath, config=config, other_sound_path=othersourcePath, mixSoundRatio=None, randomShift=True)"
      ]
    },
    {
      "cell_type": "code",
      "execution_count": null,
      "metadata": {
        "id": "ymdaVbe4_Cwo"
      },
      "outputs": [],
      "source": [
        "# dataset split\n",
        "train_valid_dataset, test_dataset = random_split(sound_dataset, [config['train_ratio'] + config['valid_ratio'], config['test_ratio']])\n",
        "train_valid_dataset_clean, test_dataset_clean = random_split(sound_dataset, [config['train_ratio'] + config['valid_ratio'], config['test_ratio']])\n",
        "# 나중에 K-Fold를 사용하여 train_valid_dataset을 train_dataset과 val_dataset으로 나눌것.."
      ]
    },
    {
      "cell_type": "code",
      "execution_count": null,
      "metadata": {
        "id": "VUl9cCdMrSp9"
      },
      "outputs": [],
      "source": [
        "test_loader  = DataLoader(test_dataset, batch_size=20, shuffle=False , num_workers=config['core'], collate_fn = collate_padder)\n",
        "test_loader_clean  = DataLoader(test_dataset_clean, batch_size=20, shuffle=False , num_workers=config['core'], collate_fn = collate_padder)"
      ]
    },
    {
      "cell_type": "code",
      "source": [
        "#next(iter(test_loader))[0].shape"
      ],
      "metadata": {
        "id": "pVwtcfm38LkR"
      },
      "execution_count": null,
      "outputs": []
    },
    {
      "cell_type": "code",
      "source": [
        "print(len(train_valid_dataset), len(test_dataset))"
      ],
      "metadata": {
        "colab": {
          "base_uri": "https://localhost:8080/"
        },
        "id": "iWBShLUP2n3l",
        "outputId": "3700777f-8f73-47b5-f393-fab53dc1cbb9"
      },
      "execution_count": null,
      "outputs": [
        {
          "output_type": "stream",
          "name": "stdout",
          "text": [
            "64 16\n"
          ]
        }
      ]
    },
    {
      "cell_type": "markdown",
      "metadata": {
        "id": "Fooc1C8CyBE6"
      },
      "source": [
        "### 데이터 증강 기법(SpecAugment) 코드 정의 및 테스트"
      ]
    },
    {
      "cell_type": "code",
      "execution_count": null,
      "metadata": {
        "id": "XHsF1AjJcV-h",
        "colab": {
          "base_uri": "https://localhost:8080/"
        },
        "outputId": "bdf24e1a-2801-474f-c924-065e03085566"
      },
      "outputs": [
        {
          "output_type": "stream",
          "name": "stderr",
          "text": [
            "/usr/local/lib/python3.10/dist-packages/tensorflow_addons/utils/tfa_eol_msg.py:23: UserWarning: \n",
            "\n",
            "TensorFlow Addons (TFA) has ended development and introduction of new features.\n",
            "TFA has entered a minimal maintenance and release mode until a planned end of life in May 2024.\n",
            "Please modify downstream libraries to take dependencies from other repositories in our TensorFlow community (e.g. Keras, Keras-CV, and Keras-NLP). \n",
            "\n",
            "For more information see: https://github.com/tensorflow/addons/issues/2807 \n",
            "\n",
            "  warnings.warn(\n"
          ]
        }
      ],
      "source": [
        "import random\n",
        "import numpy as np\n",
        "import tensorflow as tf\n",
        "from tensorflow_addons.image import sparse_image_warp\n",
        "# reference: https://github.com/pyyush/SpecAugment\n",
        "class SpecAugment():\n",
        "    def __init__(self, policy, zero_mean_normalized=True):\n",
        "        self.policy = policy\n",
        "        self.zero_mean_normalized = zero_mean_normalized\n",
        "\n",
        "        # Policy Specific Parameters\n",
        "        if self.policy == 'LB':\n",
        "            self.W, self.F, self.m_F, self.T, self.p, self.m_T = 80, 27, 1, 100, 1.0, 1\n",
        "        elif self.policy == 'LD':\n",
        "            self.W, self.F, self.m_F, self.T, self.p, self.m_T = 80, 27, 2, 100, 1.0, 2\n",
        "        elif self.policy == 'SM':\n",
        "            self.W, self.F, self.m_F, self.T, self.p, self.m_T = 40, 15, 2, 70, 0.2, 2\n",
        "        elif self.policy == 'SS':\n",
        "            self.W, self.F, self.m_F, self.T, self.p, self.m_T = 40, 27, 2, 70, 0.2, 2\n",
        "        elif self.policy == 'big':\n",
        "            self.W, self.F, self.m_F, self.T, self.p, self.m_T = 200, 40, 2, 100, 1.0, 4\n",
        "\n",
        "    def timeWarping(self, feature):\n",
        "        # Reshape to [Batch_size, time, freq, 1] for sparse_image_warp func.\n",
        "        feature = np.reshape(feature, (-1, feature.shape[0], feature.shape[1], 1))\n",
        "\n",
        "        v, tau = feature.shape[1], feature.shape[2]\n",
        "\n",
        "        horiz_line_thru_ctr = feature[0][v//2]\n",
        "\n",
        "        random_pt = horiz_line_thru_ctr[random.randrange(self.W, tau - self.W)] # random point along the horizontal/time axis\n",
        "        w = np.random.uniform((-self.W), self.W) # distance\n",
        "\n",
        "        # Source Points\n",
        "        src_points = [[[v//2, random_pt[0]]]]\n",
        "\n",
        "        # Destination Points\n",
        "        dest_points = [[[v//2, random_pt[0] + w]]]\n",
        "\n",
        "        feature, _ = sparse_image_warp(feature, src_points, dest_points, num_boundary_points=2)\n",
        "\n",
        "        return feature\n",
        "\n",
        "    def timeMasking(self, feature):\n",
        "        tau = feature.shape[2] # time frames\n",
        "\n",
        "        # apply m_T time masks to the mel spectrogram\n",
        "        for i in range(self.m_T):\n",
        "            t = int(np.random.uniform(0, self.T)) # [0, T)\n",
        "            upper = tau if t>tau else t#make limitation\n",
        "            t0 = random.randint(0, tau - upper) # [0, tau - t)\n",
        "            feature[:, :, t0:t0 + t] = 0\n",
        "\n",
        "        return feature\n",
        "\n",
        "    def freqMasking(self, feature):\n",
        "        size = feature.shape[1]\n",
        "\n",
        "        for i in range(self.m_F):\n",
        "            f = int(np.random.uniform(0, self.F)) # [0, F)\n",
        "            f0 = random.randint(0, size - f) # [0, v - f)\n",
        "            feature[:, f0:f0 + f] = 0\n",
        "\n",
        "        return feature\n",
        "\n",
        "    def augment(self, feature):\n",
        "        #feature = self.freqMasking(feature)\n",
        "        feature = self.timeMasking(feature)\n",
        "\n",
        "        return feature"
      ]
    },
    {
      "cell_type": "code",
      "execution_count": null,
      "metadata": {
        "id": "cyzv_CZC864K"
      },
      "outputs": [],
      "source": [
        "augmentor = SpecAugment('big')"
      ]
    },
    {
      "cell_type": "code",
      "execution_count": null,
      "metadata": {
        "id": "uXmo4nmYKOjR"
      },
      "outputs": [],
      "source": [
        "test = train_valid_dataset[0][0].unsqueeze(0)"
      ]
    },
    {
      "cell_type": "code",
      "execution_count": null,
      "metadata": {
        "colab": {
          "base_uri": "https://localhost:8080/",
          "height": 428
        },
        "id": "Z-okxKbs8zSF",
        "outputId": "7fc3adfe-f15b-4b07-a9eb-8e4fe0795f7f"
      },
      "outputs": [
        {
          "output_type": "display_data",
          "data": {
            "text/plain": [
              "<Figure size 640x480 with 0 Axes>"
            ]
          },
          "metadata": {}
        },
        {
          "output_type": "display_data",
          "data": {
            "text/plain": [
              "<Figure size 1000x400 with 2 Axes>"
            ],
            "image/png": "[encoded data removed]"
          },
          "metadata": {}
        }
      ],
      "source": [
        "plot_spectrogram(augmentor.augment(copy.deepcopy( test ) ).squeeze(), str(train_valid_dataset[0][1]))"
      ]
    },
    {
      "cell_type": "markdown",
      "metadata": {
        "id": "dVBiBwoMyOeL"
      },
      "source": [
        "### 모델 정의(resnet18)"
      ]
    },
    {
      "cell_type": "code",
      "execution_count": null,
      "metadata": {
        "id": "s_5xAbWwsPxP"
      },
      "outputs": [],
      "source": [
        "def prepare_model():\n",
        "    resnet_model = resnet18( weights='IMAGENET1K_V1' )\n",
        "    resnet_model.fc = nn.Linear(512,2)\n",
        "\n",
        "    for m in resnet_model.modules():\n",
        "        if isinstance(m, nn.Conv2d):\n",
        "            nn.init.kaiming_normal_(m.weight, mode=\"fan_out\", nonlinearity=\"relu\")\n",
        "        elif isinstance(m, (nn.BatchNorm2d, nn.GroupNorm)):\n",
        "            nn.init.constant_(m.weight, 1)\n",
        "            nn.init.constant_(m.bias, 0)\n",
        "\n",
        "    return resnet_model"
      ]
    },
    {
      "cell_type": "code",
      "execution_count": null,
      "metadata": {
        "id": "7FHxJR9tBR_Z"
      },
      "outputs": [],
      "source": [
        "#model = AudioModel(sr=config['sr'], n_mels = config['n_mels'], hidden_size = 40, num_output = 2)"
      ]
    },
    {
      "cell_type": "code",
      "source": [
        "criterion = nn.CrossEntropyLoss()"
      ],
      "metadata": {
        "id": "QH11SzIi0Qpz"
      },
      "execution_count": null,
      "outputs": []
    },
    {
      "cell_type": "code",
      "source": [
        "from sklearn.model_selection import KFold"
      ],
      "metadata": {
        "id": "Hj4cKPYrGT67"
      },
      "execution_count": null,
      "outputs": []
    },
    {
      "cell_type": "code",
      "execution_count": null,
      "metadata": {
        "id": "5nwG2pqHBLgy"
      },
      "outputs": [],
      "source": [
        "def number_of_correct(pred, target):\n",
        "    # count number of correct predictions\n",
        "    return pred.squeeze().eq(target).sum().item()\n",
        "\n",
        "def get_likely_index(tensor):\n",
        "    # find most likely label index for each element in the batch\n",
        "    return tensor.argmax(dim=-1)\n",
        "\n",
        "\n",
        "def train(model, epoch, train_loader, path, optimizer = None, loss_record=None, pbar=None, pbar_update=None, total=None):\n",
        "    model.train()\n",
        "\n",
        "    correct_train = 0\n",
        "    for batch in train_loader:\n",
        "        audio, label = batch\n",
        "\n",
        "        data = audio.to(device)\n",
        "        target = label.to(device)\n",
        "        data = augmentor.augment(data)\n",
        "\n",
        "        expanded_data = torch.stack([data]*3, dim=1)\n",
        "        output = model(expanded_data)\n",
        "\n",
        "        pred = get_likely_index(output)\n",
        "        target = get_likely_index(target)\n",
        "        correct_train += number_of_correct(pred, target)\n",
        "\n",
        "        # negative log-likelihood for a tensor of size (batch x 1 x n_output)\n",
        "        loss = criterion(output, target)\n",
        "\n",
        "        optimizer.zero_grad()\n",
        "        loss.backward()\n",
        "        optimizer.step()\n",
        "\n",
        "        # update progress bar\n",
        "        pbar.update(pbar_update)\n",
        "        #save model\n",
        "        if len(loss_record)>0:\n",
        "            if min(loss_record) > loss.item():\n",
        "                print(\"save mode at \", epoch)\n",
        "                torch.save(model.state_dict(), path)\n",
        "        # record loss\n",
        "        loss_record.append(loss.item())\n",
        "\n",
        "    print(f\"\\nTrain Epoch: {epoch}\\tAccuracy: {correct_train}/{total} ({100. * correct_train / total:.0f}%)\\n\")\n",
        "    return (100. * correct_train / total)"
      ]
    },
    {
      "cell_type": "code",
      "execution_count": null,
      "metadata": {
        "id": "tBjIeLAhBNqS"
      },
      "outputs": [],
      "source": [
        "def valid(model, epoch, valid_loader, optimizer = None, pbar=None, pbar_update=None, total=None):\n",
        "    model.eval()\n",
        "    correct = 0\n",
        "    for data, target in valid_loader:\n",
        "\n",
        "        data = data.to(device)\n",
        "        target = target.to(device)\n",
        "\n",
        "        expanded_data = torch.stack([data]*3, dim=1)\n",
        "        output = model(expanded_data)\n",
        "\n",
        "        pred = get_likely_index(output)\n",
        "        target = get_likely_index(target)\n",
        "        correct += number_of_correct(pred, target)\n",
        "\n",
        "        # update progress bar\n",
        "        pbar.update(pbar_update)\n",
        "\n",
        "    print(f\"\\nValid Epoch: {epoch}\\tAccuracy: {correct}/{total} ({100. * correct / total:.0f}%)\\n\")\n",
        "    return (100. * correct / total)"
      ]
    },
    {
      "cell_type": "code",
      "source": [
        "def kfold_training(k, train_valid_dataset, config):\n",
        "\n",
        "    kf = KFold(n_splits=k, shuffle=True, random_state=42)\n",
        "\n",
        "    all_train_accuracy = []\n",
        "    all_valid_accuracy = []\n",
        "\n",
        "    for fold, (train_idx, valid_idx) in enumerate(kf.split(train_valid_dataset)):\n",
        "        print(f\"Fold {fold + 1}/{k}\")\n",
        "\n",
        "        model = prepare_model()\n",
        "        model = model.to(device)\n",
        "\n",
        "        optimizer = optim.Adam(model.parameters(), lr=0.001, weight_decay=0.0001)\n",
        "        scheduler = optim.lr_scheduler.StepLR(optimizer, step_size=10, gamma=0.5)\n",
        "\n",
        "        print(len(train_idx), len(valid_idx))\n",
        "        # subset / dataloader\n",
        "        train_subsampler = torch.utils.data.SubsetRandomSampler(train_idx)\n",
        "        valid_subsampler = torch.utils.data.SubsetRandomSampler(valid_idx)\n",
        "\n",
        "        train_loader = DataLoader(train_valid_dataset, batch_size=10, sampler=train_subsampler, num_workers=config['core'], collate_fn=collate_padder)\n",
        "        valid_loader = DataLoader(train_valid_dataset, batch_size=10, sampler=valid_subsampler, num_workers=config['core'], collate_fn=collate_padder)\n",
        "\n",
        "        pbar_update = 1 / (len(train_loader) + len(test_loader))\n",
        "\n",
        "        # training / validation\n",
        "        losses = []\n",
        "        train_accuracy = []\n",
        "        valid_accuracy = []\n",
        "\n",
        "        pbar_update = 1 / (len(train_loader) + len(valid_loader))\n",
        "        path = \"./best_model_fold\"+str(fold)+\".pt\"\n",
        "        with tqdm(total=config['n_epoch']) as pbar:\n",
        "            for epoch in range(1, config['n_epoch'] + 1):\n",
        "                train_acc_per_epoch = train(model, epoch, train_loader, path, optimizer = optimizer, loss_record = losses, pbar = pbar, pbar_update=pbar_update, total=len(train_idx))\n",
        "                valid_acc_per_epoch = valid(model, epoch, valid_loader, optimizer = optimizer, pbar = pbar, pbar_update=pbar_update, total=len(valid_idx))\n",
        "\n",
        "                train_accuracy.append(train_acc_per_epoch)\n",
        "                valid_accuracy.append(valid_acc_per_epoch)\n",
        "\n",
        "                scheduler.step()\n",
        "\n",
        "        all_train_accuracy.append(train_accuracy)\n",
        "        all_valid_accuracy.append(valid_accuracy)\n",
        "\n",
        "    return all_train_accuracy, all_valid_accuracy, losses"
      ],
      "metadata": {
        "id": "MpejDxf8GiHs"
      },
      "execution_count": null,
      "outputs": []
    },
    {
      "cell_type": "code",
      "source": [
        "k = 5\n",
        "all_train_accuracy, all_valid_accuracy, losses = kfold_training(k, train_valid_dataset, config)"
      ],
      "metadata": {
        "colab": {
          "base_uri": "https://localhost:8080/"
        },
        "id": "rVdqy_IBIX1o",
        "outputId": "d2222c25-4fbb-4b7a-bdb0-726243c13301"
      },
      "execution_count": 25,
      "outputs": [
        {
          "metadata": {
            "tags": null
          },
          "name": "stdout",
          "output_type": "stream",
          "text": [
            "Fold 1/5\n"
          ]
        },
        {
          "metadata": {
            "tags": null
          },
          "name": "stderr",
          "output_type": "stream",
          "text": [
            "Downloading: \"https://download.pytorch.org/models/resnet18-f37072fd.pth\" to /root/.cache/torch/hub/checkpoints/resnet18-f37072fd.pth\n",
            "100%|██████████| 44.7M/44.7M [00:00<00:00, 198MB/s]\n"
          ]
        },
        {
          "metadata": {
            "tags": null
          },
          "name": "stdout",
          "output_type": "stream",
          "text": [
            "51 13\n"
          ]
        },
        {
          "metadata": {
            "tags": null
          },
          "name": "stderr",
          "output_type": "stream",
          "text": [
            "  2%|▏         | 0.5/25 [00:21<09:37, 23.56s/it]  "
          ]
        },
        {
          "metadata": {
            "tags": null
          },
          "name": "stdout",
          "output_type": "stream",
          "text": [
            "save mode at  1\n"
          ]
        },
        {
          "metadata": {
            "tags": null
          },
          "name": "stderr",
          "output_type": "stream",
          "text": [
            "  3%|▎         | 0.75/25 [00:21<04:16, 10.58s/it] "
          ]
        },
        {
          "metadata": {
            "tags": null
          },
          "name": "stdout",
          "output_type": "stream",
          "text": [
            "\n",
            "Train Epoch: 1\tAccuracy: 31/51 (61%)\n",
            "\n"
          ]
        },
        {
          "metadata": {
            "tags": null
          },
          "name": "stderr",
          "output_type": "stream",
          "text": [
            "\r  4%|▎         | 0.875/25 [00:30<12:37, 31.39s/it]"
          ]
        },
        {
          "metadata": {
            "tags": null
          },
          "name": "stdout",
          "output_type": "stream",
          "text": [
            "\n",
            "Valid Epoch: 1\tAccuracy: 5/13 (38%)\n",
            "\n"
          ]
        },
        {
          "metadata": {
            "tags": null
          },
          "name": "stderr",
          "output_type": "stream",
          "text": [
            "  6%|▋         | 1.625/25 [00:40<04:27, 11.45s/it]"
          ]
        },
        {
          "metadata": {
            "tags": null
          },
          "name": "stdout",
          "output_type": "stream",
          "text": [
            "\n",
            "Train Epoch: 2\tAccuracy: 21/51 (41%)\n",
            "\n"
          ]
        },
        {
          "metadata": {
            "tags": null
          },
          "name": "stderr",
          "output_type": "stream",
          "text": [
            "\r  8%|▊         | 1.875/25 [00:47<07:40, 19.92s/it]"
          ]
        },
        {
          "metadata": {
            "tags": null
          },
          "name": "stdout",
          "output_type": "stream",
          "text": [
            "\n",
            "Valid Epoch: 2\tAccuracy: 5/13 (38%)\n",
            "\n"
          ]
        },
        {
          "metadata": {
            "tags": null
          },
          "name": "stderr",
          "output_type": "stream",
          "text": [
            " 10%|█         | 2.625/25 [00:55<03:17,  8.82s/it]"
          ]
        },
        {
          "metadata": {
            "tags": null
          },
          "name": "stdout",
          "output_type": "stream",
          "text": [
            "save mode at  3\n"
          ]
        },
        {
          "metadata": {
            "tags": null
          },
          "name": "stderr",
          "output_type": "stream",
          "text": [
            "\r 11%|█         | 2.75/25 [00:56<02:31,  6.79s/it] "
          ]
        },
        {
          "metadata": {
            "tags": null
          },
          "name": "stdout",
          "output_type": "stream",
          "text": [
            "save mode at  3\n",
            "save mode at  3\n",
            "\n",
            "Train Epoch: 3\tAccuracy: 34/51 (67%)\n",
            "\n"
          ]
        },
        {
          "metadata": {
            "tags": null
          },
          "name": "stderr",
          "output_type": "stream",
          "text": [
            "\r 12%|█▏        | 2.875/25 [01:03<07:56, 21.54s/it]"
          ]
        },
        {
          "metadata": {
            "tags": null
          },
          "name": "stdout",
          "output_type": "stream",
          "text": [
            "\n",
            "Valid Epoch: 3\tAccuracy: 8/13 (62%)\n",
            "\n"
          ]
        },
        {
          "metadata": {
            "tags": null
          },
          "name": "stderr",
          "output_type": "stream",
          "text": [
            " 15%|█▌        | 3.75/25 [01:11<02:15,  6.39s/it] "
          ]
        },
        {
          "metadata": {
            "tags": null
          },
          "name": "stdout",
          "output_type": "stream",
          "text": [
            "\n",
            "Train Epoch: 4\tAccuracy: 38/51 (75%)\n",
            "\n"
          ]
        },
        {
          "metadata": {
            "tags": null
          },
          "name": "stderr",
          "output_type": "stream",
          "text": [
            "\r 16%|█▌        | 3.875/25 [01:19<07:22, 20.95s/it]"
          ]
        },
        {
          "metadata": {
            "tags": null
          },
          "name": "stdout",
          "output_type": "stream",
          "text": [
            "\n",
            "Valid Epoch: 4\tAccuracy: 8/13 (62%)\n",
            "\n"
          ]
        },
        {
          "metadata": {
            "tags": null
          },
          "name": "stderr",
          "output_type": "stream",
          "text": [
            " 19%|█▉        | 4.75/25 [01:27<02:05,  6.19s/it] "
          ]
        },
        {
          "metadata": {
            "tags": null
          },
          "name": "stdout",
          "output_type": "stream",
          "text": [
            "\n",
            "Train Epoch: 5\tAccuracy: 40/51 (78%)\n",
            "\n"
          ]
        },
        {
          "metadata": {
            "tags": null
          },
          "name": "stderr",
          "output_type": "stream",
          "text": [
            "\r 20%|█▉        | 4.875/25 [01:34<07:05, 21.13s/it]"
          ]
        },
        {
          "metadata": {
            "tags": null
          },
          "name": "stdout",
          "output_type": "stream",
          "text": [
            "\n",
            "Valid Epoch: 5\tAccuracy: 7/13 (54%)\n",
            "\n"
          ]
        },
        {
          "metadata": {
            "tags": null
          },
          "name": "stderr",
          "output_type": "stream",
          "text": [
            " 23%|██▎       | 5.75/25 [01:43<02:01,  6.32s/it] "
          ]
        },
        {
          "metadata": {
            "tags": null
          },
          "name": "stdout",
          "output_type": "stream",
          "text": [
            "\n",
            "Train Epoch: 6\tAccuracy: 41/51 (80%)\n",
            "\n"
          ]
        },
        {
          "metadata": {
            "tags": null
          },
          "name": "stderr",
          "output_type": "stream",
          "text": [
            "\r 24%|██▎       | 5.875/25 [01:50<06:36, 20.73s/it]"
          ]
        },
        {
          "metadata": {
            "tags": null
          },
          "name": "stdout",
          "output_type": "stream",
          "text": [
            "\n",
            "Valid Epoch: 6\tAccuracy: 11/13 (85%)\n",
            "\n"
          ]
        },
        {
          "metadata": {
            "tags": null
          },
          "name": "stderr",
          "output_type": "stream",
          "text": [
            " 25%|██▌       | 6.25/25 [01:58<06:24, 20.48s/it] "
          ]
        },
        {
          "metadata": {
            "tags": null
          },
          "name": "stdout",
          "output_type": "stream",
          "text": [
            "save mode at  7\n"
          ]
        },
        {
          "metadata": {
            "tags": null
          },
          "name": "stderr",
          "output_type": "stream",
          "text": [
            " 27%|██▋       | 6.75/25 [01:59<01:57,  6.45s/it] "
          ]
        },
        {
          "metadata": {
            "tags": null
          },
          "name": "stdout",
          "output_type": "stream",
          "text": [
            "\n",
            "Train Epoch: 7\tAccuracy: 40/51 (78%)\n",
            "\n"
          ]
        },
        {
          "metadata": {
            "tags": null
          },
          "name": "stderr",
          "output_type": "stream",
          "text": [
            "\r 28%|██▊       | 6.875/25 [02:06<06:18, 20.86s/it]"
          ]
        },
        {
          "metadata": {
            "tags": null
          },
          "name": "stdout",
          "output_type": "stream",
          "text": [
            "\n",
            "Valid Epoch: 7\tAccuracy: 9/13 (69%)\n",
            "\n"
          ]
        },
        {
          "metadata": {
            "tags": null
          },
          "name": "stderr",
          "output_type": "stream",
          "text": [
            " 31%|███       | 7.75/25 [02:15<01:48,  6.32s/it] "
          ]
        },
        {
          "metadata": {
            "tags": null
          },
          "name": "stdout",
          "output_type": "stream",
          "text": [
            "\n",
            "Train Epoch: 8\tAccuracy: 40/51 (78%)\n",
            "\n"
          ]
        },
        {
          "metadata": {
            "tags": null
          },
          "name": "stderr",
          "output_type": "stream",
          "text": [
            "\r 32%|███▏      | 7.875/25 [02:21<05:37, 19.71s/it]"
          ]
        },
        {
          "metadata": {
            "tags": null
          },
          "name": "stdout",
          "output_type": "stream",
          "text": [
            "\n",
            "Valid Epoch: 8\tAccuracy: 7/13 (54%)\n",
            "\n"
          ]
        },
        {
          "metadata": {
            "tags": null
          },
          "name": "stderr",
          "output_type": "stream",
          "text": [
            " 35%|███▌      | 8.75/25 [02:30<01:40,  6.17s/it] "
          ]
        },
        {
          "metadata": {
            "tags": null
          },
          "name": "stdout",
          "output_type": "stream",
          "text": [
            "\n",
            "Train Epoch: 9\tAccuracy: 39/51 (76%)\n",
            "\n"
          ]
        },
        {
          "metadata": {
            "tags": null
          },
          "name": "stderr",
          "output_type": "stream",
          "text": [
            "\r 36%|███▌      | 8.875/25 [02:35<04:35, 17.11s/it]"
          ]
        },
        {
          "metadata": {
            "tags": null
          },
          "name": "stdout",
          "output_type": "stream",
          "text": [
            "\n",
            "Valid Epoch: 9\tAccuracy: 11/13 (85%)\n",
            "\n"
          ]
        },
        {
          "metadata": {
            "tags": null
          },
          "name": "stderr",
          "output_type": "stream",
          "text": [
            " 39%|███▉      | 9.75/25 [02:44<01:29,  5.86s/it] "
          ]
        },
        {
          "metadata": {
            "tags": null
          },
          "name": "stdout",
          "output_type": "stream",
          "text": [
            "\n",
            "Train Epoch: 10\tAccuracy: 40/51 (78%)\n",
            "\n"
          ]
        },
        {
          "metadata": {
            "tags": null
          },
          "name": "stderr",
          "output_type": "stream",
          "text": [
            "\r 40%|███▉      | 9.875/25 [02:50<04:46, 18.95s/it]"
          ]
        },
        {
          "metadata": {
            "tags": null
          },
          "name": "stdout",
          "output_type": "stream",
          "text": [
            "\n",
            "Valid Epoch: 10\tAccuracy: 9/13 (69%)\n",
            "\n"
          ]
        },
        {
          "metadata": {
            "tags": null
          },
          "name": "stderr",
          "output_type": "stream",
          "text": [
            " 41%|████      | 10.25/25 [02:56<04:03, 16.51s/it] "
          ]
        },
        {
          "metadata": {
            "tags": null
          },
          "name": "stdout",
          "output_type": "stream",
          "text": [
            "save mode at  11\n"
          ]
        },
        {
          "metadata": {
            "tags": null
          },
          "name": "stderr",
          "output_type": "stream",
          "text": [
            " 43%|████▎     | 10.75/25 [02:58<01:40,  7.03s/it] "
          ]
        },
        {
          "metadata": {
            "tags": null
          },
          "name": "stdout",
          "output_type": "stream",
          "text": [
            "\n",
            "Train Epoch: 11\tAccuracy: 41/51 (80%)\n",
            "\n"
          ]
        },
        {
          "metadata": {
            "tags": null
          },
          "name": "stderr",
          "output_type": "stream",
          "text": [
            "\r 44%|████▎     | 10.875/25 [03:05<04:54, 20.84s/it]"
          ]
        },
        {
          "metadata": {
            "tags": null
          },
          "name": "stdout",
          "output_type": "stream",
          "text": [
            "\n",
            "Valid Epoch: 11\tAccuracy: 10/13 (77%)\n",
            "\n"
          ]
        },
        {
          "metadata": {
            "tags": null
          },
          "name": "stderr",
          "output_type": "stream",
          "text": [
            " 46%|████▋     | 11.625/25 [03:14<01:52,  8.41s/it]"
          ]
        },
        {
          "metadata": {
            "tags": null
          },
          "name": "stdout",
          "output_type": "stream",
          "text": [
            "\n",
            "Train Epoch: 12\tAccuracy: 44/51 (86%)\n",
            "\n"
          ]
        },
        {
          "metadata": {
            "tags": null
          },
          "name": "stderr",
          "output_type": "stream",
          "text": [
            "\r 48%|████▊     | 11.875/25 [03:21<03:48, 17.42s/it]"
          ]
        },
        {
          "metadata": {
            "tags": null
          },
          "name": "stdout",
          "output_type": "stream",
          "text": [
            "\n",
            "Valid Epoch: 12\tAccuracy: 7/13 (54%)\n",
            "\n"
          ]
        },
        {
          "metadata": {
            "tags": null
          },
          "name": "stderr",
          "output_type": "stream",
          "text": [
            " 51%|█████     | 12.75/25 [03:29<01:16,  6.22s/it] "
          ]
        },
        {
          "metadata": {
            "tags": null
          },
          "name": "stdout",
          "output_type": "stream",
          "text": [
            "\n",
            "Train Epoch: 13\tAccuracy: 39/51 (76%)\n",
            "\n"
          ]
        },
        {
          "metadata": {
            "tags": null
          },
          "name": "stderr",
          "output_type": "stream",
          "text": [
            "\r 52%|█████▏    | 12.875/25 [03:36<04:06, 20.36s/it]"
          ]
        },
        {
          "metadata": {
            "tags": null
          },
          "name": "stdout",
          "output_type": "stream",
          "text": [
            "\n",
            "Valid Epoch: 13\tAccuracy: 10/13 (77%)\n",
            "\n"
          ]
        },
        {
          "metadata": {
            "tags": null
          },
          "name": "stderr",
          "output_type": "stream",
          "text": [
            " 55%|█████▌    | 13.75/25 [03:44<01:23,  7.43s/it] "
          ]
        },
        {
          "metadata": {
            "tags": null
          },
          "name": "stdout",
          "output_type": "stream",
          "text": [
            "save mode at  14\n",
            "\n",
            "Train Epoch: 14\tAccuracy: 42/51 (82%)\n",
            "\n"
          ]
        },
        {
          "metadata": {
            "tags": null
          },
          "name": "stderr",
          "output_type": "stream",
          "text": [
            "\r 56%|█████▌    | 13.875/25 [03:52<03:47, 20.42s/it]"
          ]
        },
        {
          "metadata": {
            "tags": null
          },
          "name": "stdout",
          "output_type": "stream",
          "text": [
            "\n",
            "Valid Epoch: 14\tAccuracy: 11/13 (85%)\n",
            "\n"
          ]
        },
        {
          "metadata": {
            "tags": null
          },
          "name": "stderr",
          "output_type": "stream",
          "text": [
            " 59%|█████▉    | 14.75/25 [03:59<01:04,  6.29s/it] "
          ]
        },
        {
          "metadata": {
            "tags": null
          },
          "name": "stdout",
          "output_type": "stream",
          "text": [
            "\n",
            "Train Epoch: 15\tAccuracy: 44/51 (86%)\n",
            "\n"
          ]
        },
        {
          "metadata": {
            "tags": null
          },
          "name": "stderr",
          "output_type": "stream",
          "text": [
            "\r 60%|█████▉    | 14.875/25 [04:06<03:24, 20.24s/it]"
          ]
        },
        {
          "metadata": {
            "tags": null
          },
          "name": "stdout",
          "output_type": "stream",
          "text": [
            "\n",
            "Valid Epoch: 15\tAccuracy: 9/13 (69%)\n",
            "\n"
          ]
        },
        {
          "metadata": {
            "tags": null
          },
          "name": "stderr",
          "output_type": "stream",
          "text": [
            " 63%|██████▎   | 15.75/25 [04:15<00:58,  6.35s/it] "
          ]
        },
        {
          "metadata": {
            "tags": null
          },
          "name": "stdout",
          "output_type": "stream",
          "text": [
            "\n",
            "Train Epoch: 16\tAccuracy: 44/51 (86%)\n",
            "\n"
          ]
        },
        {
          "metadata": {
            "tags": null
          },
          "name": "stderr",
          "output_type": "stream",
          "text": [
            "\r 64%|██████▎   | 15.875/25 [04:22<03:04, 20.21s/it]"
          ]
        },
        {
          "metadata": {
            "tags": null
          },
          "name": "stdout",
          "output_type": "stream",
          "text": [
            "\n",
            "Valid Epoch: 16\tAccuracy: 8/13 (62%)\n",
            "\n"
          ]
        },
        {
          "metadata": {
            "tags": null
          },
          "name": "stderr",
          "output_type": "stream",
          "text": [
            " 67%|██████▋   | 16.75/25 [04:30<00:54,  6.67s/it] "
          ]
        },
        {
          "metadata": {
            "tags": null
          },
          "name": "stdout",
          "output_type": "stream",
          "text": [
            "\n",
            "Train Epoch: 17\tAccuracy: 36/51 (71%)\n",
            "\n"
          ]
        },
        {
          "metadata": {
            "tags": null
          },
          "name": "stderr",
          "output_type": "stream",
          "text": [
            "\r 68%|██████▊   | 16.875/25 [04:38<03:02, 22.42s/it]"
          ]
        },
        {
          "metadata": {
            "tags": null
          },
          "name": "stdout",
          "output_type": "stream",
          "text": [
            "\n",
            "Valid Epoch: 17\tAccuracy: 10/13 (77%)\n",
            "\n"
          ]
        },
        {
          "metadata": {
            "tags": null
          },
          "name": "stderr",
          "output_type": "stream",
          "text": [
            " 71%|███████   | 17.75/25 [04:46<00:48,  6.72s/it] "
          ]
        },
        {
          "metadata": {
            "tags": null
          },
          "name": "stdout",
          "output_type": "stream",
          "text": [
            "\n",
            "Train Epoch: 18\tAccuracy: 39/51 (76%)\n",
            "\n"
          ]
        },
        {
          "metadata": {
            "tags": null
          },
          "name": "stderr",
          "output_type": "stream",
          "text": [
            "\r 72%|███████▏  | 17.875/25 [04:52<02:27, 20.66s/it]"
          ]
        },
        {
          "metadata": {
            "tags": null
          },
          "name": "stdout",
          "output_type": "stream",
          "text": [
            "\n",
            "Valid Epoch: 18\tAccuracy: 8/13 (62%)\n",
            "\n"
          ]
        },
        {
          "metadata": {
            "tags": null
          },
          "name": "stderr",
          "output_type": "stream",
          "text": [
            " 75%|███████▌  | 18.75/25 [05:01<00:40,  6.41s/it] "
          ]
        },
        {
          "metadata": {
            "tags": null
          },
          "name": "stdout",
          "output_type": "stream",
          "text": [
            "\n",
            "Train Epoch: 19\tAccuracy: 39/51 (76%)\n",
            "\n"
          ]
        },
        {
          "metadata": {
            "tags": null
          },
          "name": "stderr",
          "output_type": "stream",
          "text": [
            "\r 76%|███████▌  | 18.875/25 [05:07<01:57, 19.23s/it]"
          ]
        },
        {
          "metadata": {
            "tags": null
          },
          "name": "stdout",
          "output_type": "stream",
          "text": [
            "\n",
            "Valid Epoch: 19\tAccuracy: 11/13 (85%)\n",
            "\n"
          ]
        },
        {
          "metadata": {
            "tags": null
          },
          "name": "stderr",
          "output_type": "stream",
          "text": [
            " 79%|███████▉  | 19.75/25 [05:15<00:33,  6.36s/it] "
          ]
        },
        {
          "metadata": {
            "tags": null
          },
          "name": "stdout",
          "output_type": "stream",
          "text": [
            "\n",
            "Train Epoch: 20\tAccuracy: 44/51 (86%)\n",
            "\n"
          ]
        },
        {
          "metadata": {
            "tags": null
          },
          "name": "stderr",
          "output_type": "stream",
          "text": [
            "\r 80%|███████▉  | 19.875/25 [05:23<01:49, 21.35s/it]"
          ]
        },
        {
          "metadata": {
            "tags": null
          },
          "name": "stdout",
          "output_type": "stream",
          "text": [
            "\n",
            "Valid Epoch: 20\tAccuracy: 11/13 (85%)\n",
            "\n"
          ]
        },
        {
          "metadata": {
            "tags": null
          },
          "name": "stderr",
          "output_type": "stream",
          "text": [
            " 82%|████████▎ | 20.625/25 [05:31<00:35,  8.20s/it]"
          ]
        },
        {
          "metadata": {
            "tags": null
          },
          "name": "stdout",
          "output_type": "stream",
          "text": [
            "\n",
            "Train Epoch: 21\tAccuracy: 47/51 (92%)\n",
            "\n"
          ]
        },
        {
          "metadata": {
            "tags": null
          },
          "name": "stderr",
          "output_type": "stream",
          "text": [
            "\r 84%|████████▎ | 20.875/25 [05:38<01:08, 16.68s/it]"
          ]
        },
        {
          "metadata": {
            "tags": null
          },
          "name": "stdout",
          "output_type": "stream",
          "text": [
            "\n",
            "Valid Epoch: 21\tAccuracy: 10/13 (77%)\n",
            "\n"
          ]
        },
        {
          "metadata": {
            "tags": null
          },
          "name": "stderr",
          "output_type": "stream",
          "text": [
            " 87%|████████▋ | 21.75/25 [05:46<00:21,  6.60s/it] "
          ]
        },
        {
          "metadata": {
            "tags": null
          },
          "name": "stdout",
          "output_type": "stream",
          "text": [
            "\n",
            "Train Epoch: 22\tAccuracy: 43/51 (84%)\n",
            "\n"
          ]
        },
        {
          "metadata": {
            "tags": null
          },
          "name": "stderr",
          "output_type": "stream",
          "text": [
            "\r 88%|████████▊ | 21.875/25 [05:52<00:57, 18.53s/it]"
          ]
        },
        {
          "metadata": {
            "tags": null
          },
          "name": "stdout",
          "output_type": "stream",
          "text": [
            "\n",
            "Valid Epoch: 22\tAccuracy: 12/13 (92%)\n",
            "\n"
          ]
        },
        {
          "metadata": {
            "tags": null
          },
          "name": "stderr",
          "output_type": "stream",
          "text": [
            " 91%|█████████ | 22.75/25 [06:00<00:16,  7.54s/it] "
          ]
        },
        {
          "metadata": {
            "tags": null
          },
          "name": "stdout",
          "output_type": "stream",
          "text": [
            "\n",
            "Train Epoch: 23\tAccuracy: 44/51 (86%)\n",
            "\n"
          ]
        },
        {
          "metadata": {
            "tags": null
          },
          "name": "stderr",
          "output_type": "stream",
          "text": [
            "\r 92%|█████████▏| 22.875/25 [06:07<00:45, 21.38s/it]"
          ]
        },
        {
          "metadata": {
            "tags": null
          },
          "name": "stdout",
          "output_type": "stream",
          "text": [
            "\n",
            "Valid Epoch: 23\tAccuracy: 9/13 (69%)\n",
            "\n"
          ]
        },
        {
          "metadata": {
            "tags": null
          },
          "name": "stderr",
          "output_type": "stream",
          "text": [
            " 94%|█████████▍| 23.625/25 [06:14<00:10,  7.80s/it]"
          ]
        },
        {
          "metadata": {
            "tags": null
          },
          "name": "stdout",
          "output_type": "stream",
          "text": [
            "\n",
            "Train Epoch: 24\tAccuracy: 41/51 (80%)\n",
            "\n"
          ]
        },
        {
          "metadata": {
            "tags": null
          },
          "name": "stderr",
          "output_type": "stream",
          "text": [
            "\r 96%|█████████▌| 23.875/25 [06:22<00:20, 18.16s/it]"
          ]
        },
        {
          "metadata": {
            "tags": null
          },
          "name": "stdout",
          "output_type": "stream",
          "text": [
            "\n",
            "Valid Epoch: 24\tAccuracy: 11/13 (85%)\n",
            "\n"
          ]
        },
        {
          "metadata": {
            "tags": null
          },
          "name": "stderr",
          "output_type": "stream",
          "text": [
            " 99%|█████████▉| 24.75/25 [06:30<00:01,  6.07s/it] "
          ]
        },
        {
          "metadata": {
            "tags": null
          },
          "name": "stdout",
          "output_type": "stream",
          "text": [
            "\n",
            "Train Epoch: 25\tAccuracy: 44/51 (86%)\n",
            "\n"
          ]
        },
        {
          "metadata": {
            "tags": null
          },
          "name": "stderr",
          "output_type": "stream",
          "text": [
            "100%|██████████| 25.0/25 [06:36<00:00, 15.87s/it]  \n"
          ]
        },
        {
          "metadata": {
            "tags": null
          },
          "name": "stdout",
          "output_type": "stream",
          "text": [
            "\n",
            "Valid Epoch: 25\tAccuracy: 11/13 (85%)\n",
            "\n",
            "Fold 2/5\n",
            "51 13\n"
          ]
        },
        {
          "metadata": {
            "tags": null
          },
          "name": "stderr",
          "output_type": "stream",
          "text": [
            "  2%|▏         | 0.375/25 [00:07<06:07, 14.92s/it]"
          ]
        },
        {
          "metadata": {
            "tags": null
          },
          "name": "stdout",
          "output_type": "stream",
          "text": [
            "save mode at  1\n"
          ]
        },
        {
          "metadata": {
            "tags": null
          },
          "name": "stderr",
          "output_type": "stream",
          "text": [
            "\r  2%|▏         | 0.5/25 [00:07<03:58,  9.72s/it]  "
          ]
        },
        {
          "metadata": {
            "tags": null
          },
          "name": "stdout",
          "output_type": "stream",
          "text": [
            "save mode at  1\n"
          ]
        },
        {
          "metadata": {
            "tags": null
          },
          "name": "stderr",
          "output_type": "stream",
          "text": [
            "  3%|▎         | 0.75/25 [00:08<01:52,  4.64s/it] "
          ]
        },
        {
          "metadata": {
            "tags": null
          },
          "name": "stdout",
          "output_type": "stream",
          "text": [
            "\n",
            "Train Epoch: 1\tAccuracy: 33/51 (65%)\n",
            "\n"
          ]
        },
        {
          "metadata": {
            "tags": null
          },
          "name": "stderr",
          "output_type": "stream",
          "text": [
            "\r  4%|▎         | 0.875/25 [00:15<09:27, 23.50s/it]"
          ]
        },
        {
          "metadata": {
            "tags": null
          },
          "name": "stdout",
          "output_type": "stream",
          "text": [
            "\n",
            "Valid Epoch: 1\tAccuracy: 6/13 (46%)\n",
            "\n"
          ]
        },
        {
          "metadata": {
            "tags": null
          },
          "name": "stderr",
          "output_type": "stream",
          "text": [
            "  6%|▋         | 1.625/25 [00:23<03:14,  8.30s/it]"
          ]
        },
        {
          "metadata": {
            "tags": null
          },
          "name": "stdout",
          "output_type": "stream",
          "text": [
            "\n",
            "Train Epoch: 2\tAccuracy: 29/51 (57%)\n",
            "\n"
          ]
        },
        {
          "metadata": {
            "tags": null
          },
          "name": "stderr",
          "output_type": "stream",
          "text": [
            "\r  8%|▊         | 1.875/25 [00:30<06:39, 17.29s/it]"
          ]
        },
        {
          "metadata": {
            "tags": null
          },
          "name": "stdout",
          "output_type": "stream",
          "text": [
            "\n",
            "Valid Epoch: 2\tAccuracy: 6/13 (46%)\n",
            "\n"
          ]
        },
        {
          "metadata": {
            "tags": null
          },
          "name": "stderr",
          "output_type": "stream",
          "text": [
            "  9%|▉         | 2.25/25 [00:38<06:53, 18.16s/it] "
          ]
        },
        {
          "metadata": {
            "tags": null
          },
          "name": "stdout",
          "output_type": "stream",
          "text": [
            "save mode at  3\n"
          ]
        },
        {
          "metadata": {
            "tags": null
          },
          "name": "stderr",
          "output_type": "stream",
          "text": [
            " 11%|█         | 2.75/25 [00:39<02:21,  6.37s/it] "
          ]
        },
        {
          "metadata": {
            "tags": null
          },
          "name": "stdout",
          "output_type": "stream",
          "text": [
            "save mode at  3\n",
            "\n",
            "Train Epoch: 3\tAccuracy: 39/51 (76%)\n",
            "\n"
          ]
        },
        {
          "metadata": {
            "tags": null
          },
          "name": "stderr",
          "output_type": "stream",
          "text": [
            "\r 12%|█▏        | 2.875/25 [00:45<06:54, 18.73s/it]"
          ]
        },
        {
          "metadata": {
            "tags": null
          },
          "name": "stdout",
          "output_type": "stream",
          "text": [
            "\n",
            "Valid Epoch: 3\tAccuracy: 6/13 (46%)\n",
            "\n"
          ]
        },
        {
          "metadata": {
            "tags": null
          },
          "name": "stderr",
          "output_type": "stream",
          "text": [
            " 15%|█▌        | 3.75/25 [00:54<02:20,  6.61s/it] "
          ]
        },
        {
          "metadata": {
            "tags": null
          },
          "name": "stdout",
          "output_type": "stream",
          "text": [
            "\n",
            "Train Epoch: 4\tAccuracy: 41/51 (80%)\n",
            "\n"
          ]
        },
        {
          "metadata": {
            "tags": null
          },
          "name": "stderr",
          "output_type": "stream",
          "text": [
            "\r 16%|█▌        | 3.875/25 [00:59<06:01, 17.12s/it]"
          ]
        },
        {
          "metadata": {
            "tags": null
          },
          "name": "stdout",
          "output_type": "stream",
          "text": [
            "\n",
            "Valid Epoch: 4\tAccuracy: 6/13 (46%)\n",
            "\n"
          ]
        },
        {
          "metadata": {
            "tags": null
          },
          "name": "stderr",
          "output_type": "stream",
          "text": [
            " 19%|█▉        | 4.75/25 [01:07<01:51,  5.53s/it] "
          ]
        },
        {
          "metadata": {
            "tags": null
          },
          "name": "stdout",
          "output_type": "stream",
          "text": [
            "\n",
            "Train Epoch: 5\tAccuracy: 41/51 (80%)\n",
            "\n"
          ]
        },
        {
          "metadata": {
            "tags": null
          },
          "name": "stderr",
          "output_type": "stream",
          "text": [
            "\r 20%|█▉        | 4.875/25 [01:13<06:28, 19.29s/it]"
          ]
        },
        {
          "metadata": {
            "tags": null
          },
          "name": "stdout",
          "output_type": "stream",
          "text": [
            "\n",
            "Valid Epoch: 5\tAccuracy: 6/13 (46%)\n",
            "\n"
          ]
        },
        {
          "metadata": {
            "tags": null
          },
          "name": "stderr",
          "output_type": "stream",
          "text": [
            " 22%|██▎       | 5.625/25 [01:21<02:29,  7.72s/it]"
          ]
        },
        {
          "metadata": {
            "tags": null
          },
          "name": "stdout",
          "output_type": "stream",
          "text": [
            "save mode at  6\n",
            "\n",
            "Train Epoch: 6\tAccuracy: 43/51 (84%)\n",
            "\n"
          ]
        },
        {
          "metadata": {
            "tags": null
          },
          "name": "stderr",
          "output_type": "stream",
          "text": [
            "\r 24%|██▎       | 5.875/25 [01:29<05:38, 17.71s/it]"
          ]
        },
        {
          "metadata": {
            "tags": null
          },
          "name": "stdout",
          "output_type": "stream",
          "text": [
            "\n",
            "Valid Epoch: 6\tAccuracy: 6/13 (46%)\n",
            "\n"
          ]
        },
        {
          "metadata": {
            "tags": null
          },
          "name": "stderr",
          "output_type": "stream",
          "text": [
            " 27%|██▋       | 6.75/25 [01:36<01:58,  6.48s/it] "
          ]
        },
        {
          "metadata": {
            "tags": null
          },
          "name": "stdout",
          "output_type": "stream",
          "text": [
            "\n",
            "Train Epoch: 7\tAccuracy: 41/51 (80%)\n",
            "\n"
          ]
        },
        {
          "metadata": {
            "tags": null
          },
          "name": "stderr",
          "output_type": "stream",
          "text": [
            "\r 28%|██▊       | 6.875/25 [01:43<05:47, 19.15s/it]"
          ]
        },
        {
          "metadata": {
            "tags": null
          },
          "name": "stdout",
          "output_type": "stream",
          "text": [
            "\n",
            "Valid Epoch: 7\tAccuracy: 8/13 (62%)\n",
            "\n"
          ]
        },
        {
          "metadata": {
            "tags": null
          },
          "name": "stderr",
          "output_type": "stream",
          "text": [
            " 30%|███       | 7.625/25 [01:51<02:29,  8.59s/it]"
          ]
        },
        {
          "metadata": {
            "tags": null
          },
          "name": "stdout",
          "output_type": "stream",
          "text": [
            "\n",
            "Train Epoch: 8\tAccuracy: 41/51 (80%)\n",
            "\n"
          ]
        },
        {
          "metadata": {
            "tags": null
          },
          "name": "stderr",
          "output_type": "stream",
          "text": [
            "\r 32%|███▏      | 7.875/25 [01:57<04:26, 15.56s/it]"
          ]
        },
        {
          "metadata": {
            "tags": null
          },
          "name": "stdout",
          "output_type": "stream",
          "text": [
            "\n",
            "Valid Epoch: 8\tAccuracy: 11/13 (85%)\n",
            "\n"
          ]
        },
        {
          "metadata": {
            "tags": null
          },
          "name": "stderr",
          "output_type": "stream",
          "text": [
            " 35%|███▌      | 8.75/25 [02:04<01:34,  5.84s/it] "
          ]
        },
        {
          "metadata": {
            "tags": null
          },
          "name": "stdout",
          "output_type": "stream",
          "text": [
            "\n",
            "Train Epoch: 9\tAccuracy: 44/51 (86%)\n",
            "\n"
          ]
        },
        {
          "metadata": {
            "tags": null
          },
          "name": "stderr",
          "output_type": "stream",
          "text": [
            "\r 36%|███▌      | 8.875/25 [02:12<05:28, 20.36s/it]"
          ]
        },
        {
          "metadata": {
            "tags": null
          },
          "name": "stdout",
          "output_type": "stream",
          "text": [
            "\n",
            "Valid Epoch: 9\tAccuracy: 9/13 (69%)\n",
            "\n"
          ]
        },
        {
          "metadata": {
            "tags": null
          },
          "name": "stderr",
          "output_type": "stream",
          "text": [
            " 39%|███▉      | 9.75/25 [02:19<01:37,  6.41s/it] "
          ]
        },
        {
          "metadata": {
            "tags": null
          },
          "name": "stdout",
          "output_type": "stream",
          "text": [
            "\n",
            "Train Epoch: 10\tAccuracy: 42/51 (82%)\n",
            "\n"
          ]
        },
        {
          "metadata": {
            "tags": null
          },
          "name": "stderr",
          "output_type": "stream",
          "text": [
            "\r 40%|███▉      | 9.875/25 [02:24<03:47, 15.07s/it]"
          ]
        },
        {
          "metadata": {
            "tags": null
          },
          "name": "stdout",
          "output_type": "stream",
          "text": [
            "\n",
            "Valid Epoch: 10\tAccuracy: 9/13 (69%)\n",
            "\n"
          ]
        },
        {
          "metadata": {
            "tags": null
          },
          "name": "stderr",
          "output_type": "stream",
          "text": [
            "\r 40%|████      | 10.125/25 [02:29<04:35, 18.50s/it]"
          ]
        },
        {
          "metadata": {
            "tags": null
          },
          "name": "stdout",
          "output_type": "stream",
          "text": [
            "save mode at  11\n"
          ]
        },
        {
          "metadata": {
            "tags": null
          },
          "name": "stderr",
          "output_type": "stream",
          "text": [
            " 43%|████▎     | 10.75/25 [02:32<01:39,  6.95s/it] "
          ]
        },
        {
          "metadata": {
            "tags": null
          },
          "name": "stdout",
          "output_type": "stream",
          "text": [
            "\n",
            "Train Epoch: 11\tAccuracy: 42/51 (82%)\n",
            "\n"
          ]
        },
        {
          "metadata": {
            "tags": null
          },
          "name": "stderr",
          "output_type": "stream",
          "text": [
            "\r 44%|████▎     | 10.875/25 [02:39<04:56, 21.02s/it]"
          ]
        },
        {
          "metadata": {
            "tags": null
          },
          "name": "stdout",
          "output_type": "stream",
          "text": [
            "\n",
            "Valid Epoch: 11\tAccuracy: 9/13 (69%)\n",
            "\n"
          ]
        },
        {
          "metadata": {
            "tags": null
          },
          "name": "stderr",
          "output_type": "stream",
          "text": [
            " 47%|████▋     | 11.75/25 [02:47<01:24,  6.37s/it] "
          ]
        },
        {
          "metadata": {
            "tags": null
          },
          "name": "stdout",
          "output_type": "stream",
          "text": [
            "\n",
            "Train Epoch: 12\tAccuracy: 45/51 (88%)\n",
            "\n"
          ]
        },
        {
          "metadata": {
            "tags": null
          },
          "name": "stderr",
          "output_type": "stream",
          "text": [
            "\r 48%|████▊     | 11.875/25 [02:54<04:20, 19.82s/it]"
          ]
        },
        {
          "metadata": {
            "tags": null
          },
          "name": "stdout",
          "output_type": "stream",
          "text": [
            "\n",
            "Valid Epoch: 12\tAccuracy: 11/13 (85%)\n",
            "\n"
          ]
        },
        {
          "metadata": {
            "tags": null
          },
          "name": "stderr",
          "output_type": "stream",
          "text": [
            " 51%|█████     | 12.75/25 [03:02<01:16,  6.26s/it] "
          ]
        },
        {
          "metadata": {
            "tags": null
          },
          "name": "stdout",
          "output_type": "stream",
          "text": [
            "\n",
            "Train Epoch: 13\tAccuracy: 42/51 (82%)\n",
            "\n"
          ]
        },
        {
          "metadata": {
            "tags": null
          },
          "name": "stderr",
          "output_type": "stream",
          "text": [
            "\r 52%|█████▏    | 12.875/25 [03:08<03:46, 18.72s/it]"
          ]
        },
        {
          "metadata": {
            "tags": null
          },
          "name": "stdout",
          "output_type": "stream",
          "text": [
            "\n",
            "Valid Epoch: 13\tAccuracy: 11/13 (85%)\n",
            "\n"
          ]
        },
        {
          "metadata": {
            "tags": null
          },
          "name": "stderr",
          "output_type": "stream",
          "text": [
            " 55%|█████▌    | 13.75/25 [03:16<01:07,  5.96s/it] "
          ]
        },
        {
          "metadata": {
            "tags": null
          },
          "name": "stdout",
          "output_type": "stream",
          "text": [
            "\n",
            "Train Epoch: 14\tAccuracy: 44/51 (86%)\n",
            "\n"
          ]
        },
        {
          "metadata": {
            "tags": null
          },
          "name": "stderr",
          "output_type": "stream",
          "text": [
            "\r 56%|█████▌    | 13.875/25 [03:22<03:25, 18.46s/it]"
          ]
        },
        {
          "metadata": {
            "tags": null
          },
          "name": "stdout",
          "output_type": "stream",
          "text": [
            "\n",
            "Valid Epoch: 14\tAccuracy: 10/13 (77%)\n",
            "\n"
          ]
        },
        {
          "metadata": {
            "tags": null
          },
          "name": "stderr",
          "output_type": "stream",
          "text": [
            " 58%|█████▊    | 14.625/25 [03:30<01:20,  7.72s/it]"
          ]
        },
        {
          "metadata": {
            "tags": null
          },
          "name": "stdout",
          "output_type": "stream",
          "text": [
            "\n",
            "Train Epoch: 15\tAccuracy: 43/51 (84%)\n",
            "\n"
          ]
        },
        {
          "metadata": {
            "tags": null
          },
          "name": "stderr",
          "output_type": "stream",
          "text": [
            "\r 60%|█████▉    | 14.875/25 [03:35<02:20, 13.84s/it]"
          ]
        },
        {
          "metadata": {
            "tags": null
          },
          "name": "stdout",
          "output_type": "stream",
          "text": [
            "\n",
            "Valid Epoch: 15\tAccuracy: 10/13 (77%)\n",
            "\n"
          ]
        },
        {
          "metadata": {
            "tags": null
          },
          "name": "stderr",
          "output_type": "stream",
          "text": [
            " 62%|██████▎   | 15.625/25 [03:43<01:20,  8.61s/it]"
          ]
        },
        {
          "metadata": {
            "tags": null
          },
          "name": "stdout",
          "output_type": "stream",
          "text": [
            "\n",
            "Train Epoch: 16\tAccuracy: 45/51 (88%)\n",
            "\n"
          ]
        },
        {
          "metadata": {
            "tags": null
          },
          "name": "stderr",
          "output_type": "stream",
          "text": [
            "\r 64%|██████▎   | 15.875/25 [03:50<02:36, 17.11s/it]"
          ]
        },
        {
          "metadata": {
            "tags": null
          },
          "name": "stdout",
          "output_type": "stream",
          "text": [
            "\n",
            "Valid Epoch: 16\tAccuracy: 9/13 (69%)\n",
            "\n"
          ]
        },
        {
          "metadata": {
            "tags": null
          },
          "name": "stderr",
          "output_type": "stream",
          "text": [
            " 67%|██████▋   | 16.75/25 [03:57<00:48,  5.86s/it] "
          ]
        },
        {
          "metadata": {
            "tags": null
          },
          "name": "stdout",
          "output_type": "stream",
          "text": [
            "\n",
            "Train Epoch: 17\tAccuracy: 45/51 (88%)\n",
            "\n"
          ]
        },
        {
          "metadata": {
            "tags": null
          },
          "name": "stderr",
          "output_type": "stream",
          "text": [
            "\r 68%|██████▊   | 16.875/25 [04:04<02:36, 19.32s/it]"
          ]
        },
        {
          "metadata": {
            "tags": null
          },
          "name": "stdout",
          "output_type": "stream",
          "text": [
            "\n",
            "Valid Epoch: 17\tAccuracy: 9/13 (69%)\n",
            "\n"
          ]
        },
        {
          "metadata": {
            "tags": null
          },
          "name": "stderr",
          "output_type": "stream",
          "text": [
            " 71%|███████   | 17.75/25 [04:12<00:43,  5.98s/it] "
          ]
        },
        {
          "metadata": {
            "tags": null
          },
          "name": "stdout",
          "output_type": "stream",
          "text": [
            "\n",
            "Train Epoch: 18\tAccuracy: 43/51 (84%)\n",
            "\n"
          ]
        },
        {
          "metadata": {
            "tags": null
          },
          "name": "stderr",
          "output_type": "stream",
          "text": [
            "\r 72%|███████▏  | 17.875/25 [04:18<02:16, 19.21s/it]"
          ]
        },
        {
          "metadata": {
            "tags": null
          },
          "name": "stdout",
          "output_type": "stream",
          "text": [
            "\n",
            "Valid Epoch: 18\tAccuracy: 10/13 (77%)\n",
            "\n"
          ]
        },
        {
          "metadata": {
            "tags": null
          },
          "name": "stderr",
          "output_type": "stream",
          "text": [
            " 75%|███████▌  | 18.75/25 [04:26<00:39,  6.33s/it] "
          ]
        },
        {
          "metadata": {
            "tags": null
          },
          "name": "stdout",
          "output_type": "stream",
          "text": [
            "\n",
            "Train Epoch: 19\tAccuracy: 44/51 (86%)\n",
            "\n"
          ]
        },
        {
          "metadata": {
            "tags": null
          },
          "name": "stderr",
          "output_type": "stream",
          "text": [
            "\r 76%|███████▌  | 18.875/25 [04:33<01:58, 19.33s/it]"
          ]
        },
        {
          "metadata": {
            "tags": null
          },
          "name": "stdout",
          "output_type": "stream",
          "text": [
            "\n",
            "Valid Epoch: 19\tAccuracy: 10/13 (77%)\n",
            "\n"
          ]
        },
        {
          "metadata": {
            "tags": null
          },
          "name": "stderr",
          "output_type": "stream",
          "text": [
            " 78%|███████▊  | 19.375/25 [04:41<01:23, 14.93s/it]"
          ]
        },
        {
          "metadata": {
            "tags": null
          },
          "name": "stdout",
          "output_type": "stream",
          "text": [
            "save mode at  20\n"
          ]
        },
        {
          "metadata": {
            "tags": null
          },
          "name": "stderr",
          "output_type": "stream",
          "text": [
            " 79%|███████▉  | 19.75/25 [04:41<00:32,  6.25s/it] "
          ]
        },
        {
          "metadata": {
            "tags": null
          },
          "name": "stdout",
          "output_type": "stream",
          "text": [
            "\n",
            "Train Epoch: 20\tAccuracy: 43/51 (84%)\n",
            "\n"
          ]
        },
        {
          "metadata": {
            "tags": null
          },
          "name": "stderr",
          "output_type": "stream",
          "text": [
            "\r 80%|███████▉  | 19.875/25 [04:46<01:23, 16.29s/it]"
          ]
        },
        {
          "metadata": {
            "tags": null
          },
          "name": "stdout",
          "output_type": "stream",
          "text": [
            "\n",
            "Valid Epoch: 20\tAccuracy: 10/13 (77%)\n",
            "\n"
          ]
        },
        {
          "metadata": {
            "tags": null
          },
          "name": "stderr",
          "output_type": "stream",
          "text": [
            " 83%|████████▎ | 20.75/25 [04:54<00:23,  5.52s/it] "
          ]
        },
        {
          "metadata": {
            "tags": null
          },
          "name": "stdout",
          "output_type": "stream",
          "text": [
            "\n",
            "Train Epoch: 21\tAccuracy: 46/51 (90%)\n",
            "\n"
          ]
        },
        {
          "metadata": {
            "tags": null
          },
          "name": "stderr",
          "output_type": "stream",
          "text": [
            "\r 84%|████████▎ | 20.875/25 [05:00<01:18, 18.93s/it]"
          ]
        },
        {
          "metadata": {
            "tags": null
          },
          "name": "stdout",
          "output_type": "stream",
          "text": [
            "\n",
            "Valid Epoch: 21\tAccuracy: 10/13 (77%)\n",
            "\n"
          ]
        },
        {
          "metadata": {
            "tags": null
          },
          "name": "stderr",
          "output_type": "stream",
          "text": [
            " 87%|████████▋ | 21.75/25 [05:08<00:18,  5.72s/it] "
          ]
        },
        {
          "metadata": {
            "tags": null
          },
          "name": "stdout",
          "output_type": "stream",
          "text": [
            "\n",
            "Train Epoch: 22\tAccuracy: 48/51 (94%)\n",
            "\n"
          ]
        },
        {
          "metadata": {
            "tags": null
          },
          "name": "stderr",
          "output_type": "stream",
          "text": [
            "\r 88%|████████▊ | 21.875/25 [05:14<00:55, 17.67s/it]"
          ]
        },
        {
          "metadata": {
            "tags": null
          },
          "name": "stdout",
          "output_type": "stream",
          "text": [
            "\n",
            "Valid Epoch: 22\tAccuracy: 10/13 (77%)\n",
            "\n"
          ]
        },
        {
          "metadata": {
            "tags": null
          },
          "name": "stderr",
          "output_type": "stream",
          "text": [
            " 91%|█████████ | 22.75/25 [05:21<00:13,  6.14s/it] "
          ]
        },
        {
          "metadata": {
            "tags": null
          },
          "name": "stdout",
          "output_type": "stream",
          "text": [
            "\n",
            "Train Epoch: 23\tAccuracy: 44/51 (86%)\n",
            "\n"
          ]
        },
        {
          "metadata": {
            "tags": null
          },
          "name": "stderr",
          "output_type": "stream",
          "text": [
            "\r 92%|█████████▏| 22.875/25 [05:27<00:36, 16.98s/it]"
          ]
        },
        {
          "metadata": {
            "tags": null
          },
          "name": "stdout",
          "output_type": "stream",
          "text": [
            "\n",
            "Valid Epoch: 23\tAccuracy: 10/13 (77%)\n",
            "\n"
          ]
        },
        {
          "metadata": {
            "tags": null
          },
          "name": "stderr",
          "output_type": "stream",
          "text": [
            " 95%|█████████▌| 23.75/25 [05:34<00:06,  5.25s/it] "
          ]
        },
        {
          "metadata": {
            "tags": null
          },
          "name": "stdout",
          "output_type": "stream",
          "text": [
            "save mode at  24\n",
            "\n",
            "Train Epoch: 24\tAccuracy: 44/51 (86%)\n",
            "\n"
          ]
        },
        {
          "metadata": {
            "tags": null
          },
          "name": "stderr",
          "output_type": "stream",
          "text": [
            "\r 96%|█████████▌| 23.875/25 [05:39<00:18, 16.09s/it]"
          ]
        },
        {
          "metadata": {
            "tags": null
          },
          "name": "stdout",
          "output_type": "stream",
          "text": [
            "\n",
            "Valid Epoch: 24\tAccuracy: 10/13 (77%)\n",
            "\n"
          ]
        },
        {
          "metadata": {
            "tags": null
          },
          "name": "stderr",
          "output_type": "stream",
          "text": [
            "\r 96%|█████████▋| 24.125/25 [05:45<00:17, 20.18s/it]"
          ]
        },
        {
          "metadata": {
            "tags": null
          },
          "name": "stdout",
          "output_type": "stream",
          "text": [
            "save mode at  25\n"
          ]
        },
        {
          "metadata": {
            "tags": null
          },
          "name": "stderr",
          "output_type": "stream",
          "text": [
            " 99%|█████████▉| 24.75/25 [05:48<00:01,  5.95s/it] "
          ]
        },
        {
          "metadata": {
            "tags": null
          },
          "name": "stdout",
          "output_type": "stream",
          "text": [
            "\n",
            "Train Epoch: 25\tAccuracy: 43/51 (84%)\n",
            "\n"
          ]
        },
        {
          "metadata": {
            "tags": null
          },
          "name": "stderr",
          "output_type": "stream",
          "text": [
            "100%|██████████| 25.0/25 [05:54<00:00, 14.17s/it]  \n"
          ]
        },
        {
          "metadata": {
            "tags": null
          },
          "name": "stdout",
          "output_type": "stream",
          "text": [
            "\n",
            "Valid Epoch: 25\tAccuracy: 10/13 (77%)\n",
            "\n",
            "Fold 3/5\n",
            "51 13\n"
          ]
        },
        {
          "metadata": {
            "tags": null
          },
          "name": "stderr",
          "output_type": "stream",
          "text": [
            "  3%|▎         | 0.75/25 [00:07<01:48,  4.46s/it] "
          ]
        },
        {
          "metadata": {
            "tags": null
          },
          "name": "stdout",
          "output_type": "stream",
          "text": [
            "save mode at  1\n",
            "\n",
            "Train Epoch: 1\tAccuracy: 30/51 (59%)\n",
            "\n"
          ]
        },
        {
          "metadata": {
            "tags": null
          },
          "name": "stderr",
          "output_type": "stream",
          "text": [
            "\r  4%|▎         | 0.875/25 [00:13<07:31, 18.73s/it]"
          ]
        },
        {
          "metadata": {
            "tags": null
          },
          "name": "stdout",
          "output_type": "stream",
          "text": [
            "\n",
            "Valid Epoch: 1\tAccuracy: 6/13 (46%)\n",
            "\n"
          ]
        },
        {
          "metadata": {
            "tags": null
          },
          "name": "stderr",
          "output_type": "stream",
          "text": [
            "  7%|▋         | 1.75/25 [00:20<02:08,  5.52s/it] "
          ]
        },
        {
          "metadata": {
            "tags": null
          },
          "name": "stdout",
          "output_type": "stream",
          "text": [
            "save mode at  2\n",
            "\n",
            "Train Epoch: 2\tAccuracy: 33/51 (65%)\n",
            "\n"
          ]
        },
        {
          "metadata": {
            "tags": null
          },
          "name": "stderr",
          "output_type": "stream",
          "text": [
            "\r  8%|▊         | 1.875/25 [00:28<08:26, 21.91s/it]"
          ]
        },
        {
          "metadata": {
            "tags": null
          },
          "name": "stdout",
          "output_type": "stream",
          "text": [
            "\n",
            "Valid Epoch: 2\tAccuracy: 6/13 (46%)\n",
            "\n"
          ]
        },
        {
          "metadata": {
            "tags": null
          },
          "name": "stderr",
          "output_type": "stream",
          "text": [
            "  9%|▉         | 2.25/25 [00:35<07:23, 19.51s/it] "
          ]
        },
        {
          "metadata": {
            "tags": null
          },
          "name": "stdout",
          "output_type": "stream",
          "text": [
            "save mode at  3\n"
          ]
        },
        {
          "metadata": {
            "tags": null
          },
          "name": "stderr",
          "output_type": "stream",
          "text": [
            " 11%|█         | 2.75/25 [00:36<02:17,  6.18s/it] "
          ]
        },
        {
          "metadata": {
            "tags": null
          },
          "name": "stdout",
          "output_type": "stream",
          "text": [
            "save mode at  3\n",
            "\n",
            "Train Epoch: 3\tAccuracy: 32/51 (63%)\n",
            "\n"
          ]
        },
        {
          "metadata": {
            "tags": null
          },
          "name": "stderr",
          "output_type": "stream",
          "text": [
            "\r 12%|█▏        | 2.875/25 [00:42<06:59, 18.97s/it]"
          ]
        },
        {
          "metadata": {
            "tags": null
          },
          "name": "stdout",
          "output_type": "stream",
          "text": [
            "\n",
            "Valid Epoch: 3\tAccuracy: 6/13 (46%)\n",
            "\n"
          ]
        },
        {
          "metadata": {
            "tags": null
          },
          "name": "stderr",
          "output_type": "stream",
          "text": [
            " 15%|█▌        | 3.75/25 [00:49<01:53,  5.32s/it] "
          ]
        },
        {
          "metadata": {
            "tags": null
          },
          "name": "stdout",
          "output_type": "stream",
          "text": [
            "save mode at  4\n",
            "\n",
            "Train Epoch: 4\tAccuracy: 34/51 (67%)\n",
            "\n"
          ]
        },
        {
          "metadata": {
            "tags": null
          },
          "name": "stderr",
          "output_type": "stream",
          "text": [
            "\r 16%|█▌        | 3.875/25 [00:55<06:05, 17.32s/it]"
          ]
        },
        {
          "metadata": {
            "tags": null
          },
          "name": "stdout",
          "output_type": "stream",
          "text": [
            "\n",
            "Valid Epoch: 4\tAccuracy: 6/13 (46%)\n",
            "\n"
          ]
        },
        {
          "metadata": {
            "tags": null
          },
          "name": "stderr",
          "output_type": "stream",
          "text": [
            " 19%|█▉        | 4.75/25 [01:02<01:51,  5.51s/it] "
          ]
        },
        {
          "metadata": {
            "tags": null
          },
          "name": "stdout",
          "output_type": "stream",
          "text": [
            "save mode at  5\n",
            "\n",
            "Train Epoch: 5\tAccuracy: 38/51 (75%)\n",
            "\n"
          ]
        },
        {
          "metadata": {
            "tags": null
          },
          "name": "stderr",
          "output_type": "stream",
          "text": [
            "\r 20%|█▉        | 4.875/25 [01:08<05:43, 17.05s/it]"
          ]
        },
        {
          "metadata": {
            "tags": null
          },
          "name": "stdout",
          "output_type": "stream",
          "text": [
            "\n",
            "Valid Epoch: 5\tAccuracy: 6/13 (46%)\n",
            "\n"
          ]
        },
        {
          "metadata": {
            "tags": null
          },
          "name": "stderr",
          "output_type": "stream",
          "text": [
            " 23%|██▎       | 5.75/25 [01:15<02:06,  6.56s/it] "
          ]
        },
        {
          "metadata": {
            "tags": null
          },
          "name": "stdout",
          "output_type": "stream",
          "text": [
            "\n",
            "Train Epoch: 6\tAccuracy: 41/51 (80%)\n",
            "\n"
          ]
        },
        {
          "metadata": {
            "tags": null
          },
          "name": "stderr",
          "output_type": "stream",
          "text": [
            "\r 24%|██▎       | 5.875/25 [01:20<05:06, 16.00s/it]"
          ]
        },
        {
          "metadata": {
            "tags": null
          },
          "name": "stdout",
          "output_type": "stream",
          "text": [
            "\n",
            "Valid Epoch: 6\tAccuracy: 8/13 (62%)\n",
            "\n"
          ]
        },
        {
          "metadata": {
            "tags": null
          },
          "name": "stderr",
          "output_type": "stream",
          "text": [
            " 27%|██▋       | 6.75/25 [01:29<01:45,  5.80s/it] "
          ]
        },
        {
          "metadata": {
            "tags": null
          },
          "name": "stdout",
          "output_type": "stream",
          "text": [
            "\n",
            "Train Epoch: 7\tAccuracy: 39/51 (76%)\n",
            "\n"
          ]
        },
        {
          "metadata": {
            "tags": null
          },
          "name": "stderr",
          "output_type": "stream",
          "text": [
            "\r 28%|██▊       | 6.875/25 [01:35<05:23, 17.82s/it]"
          ]
        },
        {
          "metadata": {
            "tags": null
          },
          "name": "stdout",
          "output_type": "stream",
          "text": [
            "\n",
            "Valid Epoch: 7\tAccuracy: 7/13 (54%)\n",
            "\n"
          ]
        },
        {
          "metadata": {
            "tags": null
          },
          "name": "stderr",
          "output_type": "stream",
          "text": [
            " 31%|███       | 7.75/25 [01:41<01:29,  5.19s/it] "
          ]
        },
        {
          "metadata": {
            "tags": null
          },
          "name": "stdout",
          "output_type": "stream",
          "text": [
            "\n",
            "Train Epoch: 8\tAccuracy: 38/51 (75%)\n",
            "\n"
          ]
        },
        {
          "metadata": {
            "tags": null
          },
          "name": "stderr",
          "output_type": "stream",
          "text": [
            "\r 32%|███▏      | 7.875/25 [01:47<04:54, 17.17s/it]"
          ]
        },
        {
          "metadata": {
            "tags": null
          },
          "name": "stdout",
          "output_type": "stream",
          "text": [
            "\n",
            "Valid Epoch: 8\tAccuracy: 10/13 (77%)\n",
            "\n"
          ]
        },
        {
          "metadata": {
            "tags": null
          },
          "name": "stderr",
          "output_type": "stream",
          "text": [
            " 35%|███▌      | 8.75/25 [01:54<01:25,  5.28s/it] "
          ]
        },
        {
          "metadata": {
            "tags": null
          },
          "name": "stdout",
          "output_type": "stream",
          "text": [
            "\n",
            "Train Epoch: 9\tAccuracy: 41/51 (80%)\n",
            "\n"
          ]
        },
        {
          "metadata": {
            "tags": null
          },
          "name": "stderr",
          "output_type": "stream",
          "text": [
            "\r 36%|███▌      | 8.875/25 [01:59<04:27, 16.60s/it]"
          ]
        },
        {
          "metadata": {
            "tags": null
          },
          "name": "stdout",
          "output_type": "stream",
          "text": [
            "\n",
            "Valid Epoch: 9\tAccuracy: 9/13 (69%)\n",
            "\n"
          ]
        },
        {
          "metadata": {
            "tags": null
          },
          "name": "stderr",
          "output_type": "stream",
          "text": [
            " 39%|███▉      | 9.75/25 [02:07<01:21,  5.33s/it] "
          ]
        },
        {
          "metadata": {
            "tags": null
          },
          "name": "stdout",
          "output_type": "stream",
          "text": [
            "\n",
            "Train Epoch: 10\tAccuracy: 42/51 (82%)\n",
            "\n"
          ]
        },
        {
          "metadata": {
            "tags": null
          },
          "name": "stderr",
          "output_type": "stream",
          "text": [
            "\r 40%|███▉      | 9.875/25 [02:12<04:11, 16.65s/it]"
          ]
        },
        {
          "metadata": {
            "tags": null
          },
          "name": "stdout",
          "output_type": "stream",
          "text": [
            "\n",
            "Valid Epoch: 10\tAccuracy: 7/13 (54%)\n",
            "\n"
          ]
        },
        {
          "metadata": {
            "tags": null
          },
          "name": "stderr",
          "output_type": "stream",
          "text": [
            " 43%|████▎     | 10.75/25 [02:19<01:28,  6.22s/it] "
          ]
        },
        {
          "metadata": {
            "tags": null
          },
          "name": "stdout",
          "output_type": "stream",
          "text": [
            "\n",
            "Train Epoch: 11\tAccuracy: 38/51 (75%)\n",
            "\n"
          ]
        },
        {
          "metadata": {
            "tags": null
          },
          "name": "stderr",
          "output_type": "stream",
          "text": [
            "\r 44%|████▎     | 10.875/25 [02:24<03:40, 15.59s/it]"
          ]
        },
        {
          "metadata": {
            "tags": null
          },
          "name": "stdout",
          "output_type": "stream",
          "text": [
            "\n",
            "Valid Epoch: 11\tAccuracy: 8/13 (62%)\n",
            "\n"
          ]
        },
        {
          "metadata": {
            "tags": null
          },
          "name": "stderr",
          "output_type": "stream",
          "text": [
            " 47%|████▋     | 11.75/25 [02:31<01:19,  6.00s/it] "
          ]
        },
        {
          "metadata": {
            "tags": null
          },
          "name": "stdout",
          "output_type": "stream",
          "text": [
            "\n",
            "Train Epoch: 12\tAccuracy: 43/51 (84%)\n",
            "\n"
          ]
        },
        {
          "metadata": {
            "tags": null
          },
          "name": "stderr",
          "output_type": "stream",
          "text": [
            "\r 48%|████▊     | 11.875/25 [02:36<03:18, 15.13s/it]"
          ]
        },
        {
          "metadata": {
            "tags": null
          },
          "name": "stdout",
          "output_type": "stream",
          "text": [
            "\n",
            "Valid Epoch: 12\tAccuracy: 8/13 (62%)\n",
            "\n"
          ]
        },
        {
          "metadata": {
            "tags": null
          },
          "name": "stderr",
          "output_type": "stream",
          "text": [
            " 51%|█████     | 12.75/25 [02:44<01:09,  5.65s/it] "
          ]
        },
        {
          "metadata": {
            "tags": null
          },
          "name": "stdout",
          "output_type": "stream",
          "text": [
            "\n",
            "Train Epoch: 13\tAccuracy: 44/51 (86%)\n",
            "\n"
          ]
        },
        {
          "metadata": {
            "tags": null
          },
          "name": "stderr",
          "output_type": "stream",
          "text": [
            "\r 52%|█████▏    | 12.875/25 [02:52<04:17, 21.22s/it]"
          ]
        },
        {
          "metadata": {
            "tags": null
          },
          "name": "stdout",
          "output_type": "stream",
          "text": [
            "\n",
            "Valid Epoch: 13\tAccuracy: 9/13 (69%)\n",
            "\n"
          ]
        },
        {
          "metadata": {
            "tags": null
          },
          "name": "stderr",
          "output_type": "stream",
          "text": [
            " 55%|█████▌    | 13.75/25 [02:59<01:05,  5.81s/it] "
          ]
        },
        {
          "metadata": {
            "tags": null
          },
          "name": "stdout",
          "output_type": "stream",
          "text": [
            "\n",
            "Train Epoch: 14\tAccuracy: 42/51 (82%)\n",
            "\n"
          ]
        },
        {
          "metadata": {
            "tags": null
          },
          "name": "stderr",
          "output_type": "stream",
          "text": [
            "\r 56%|█████▌    | 13.875/25 [03:03<02:40, 14.38s/it]"
          ]
        },
        {
          "metadata": {
            "tags": null
          },
          "name": "stdout",
          "output_type": "stream",
          "text": [
            "\n",
            "Valid Epoch: 14\tAccuracy: 10/13 (77%)\n",
            "\n"
          ]
        },
        {
          "metadata": {
            "tags": null
          },
          "name": "stderr",
          "output_type": "stream",
          "text": [
            " 59%|█████▉    | 14.75/25 [03:11<00:55,  5.46s/it] "
          ]
        },
        {
          "metadata": {
            "tags": null
          },
          "name": "stdout",
          "output_type": "stream",
          "text": [
            "\n",
            "Train Epoch: 15\tAccuracy: 43/51 (84%)\n",
            "\n"
          ]
        },
        {
          "metadata": {
            "tags": null
          },
          "name": "stderr",
          "output_type": "stream",
          "text": [
            "\r 60%|█████▉    | 14.875/25 [03:16<02:29, 14.75s/it]"
          ]
        },
        {
          "metadata": {
            "tags": null
          },
          "name": "stdout",
          "output_type": "stream",
          "text": [
            "\n",
            "Valid Epoch: 15\tAccuracy: 10/13 (77%)\n",
            "\n"
          ]
        },
        {
          "metadata": {
            "tags": null
          },
          "name": "stderr",
          "output_type": "stream",
          "text": [
            " 63%|██████▎   | 15.75/25 [03:23<00:46,  5.03s/it] "
          ]
        },
        {
          "metadata": {
            "tags": null
          },
          "name": "stdout",
          "output_type": "stream",
          "text": [
            "\n",
            "Train Epoch: 16\tAccuracy: 43/51 (84%)\n",
            "\n"
          ]
        },
        {
          "metadata": {
            "tags": null
          },
          "name": "stderr",
          "output_type": "stream",
          "text": [
            "\r 64%|██████▎   | 15.875/25 [03:30<02:54, 19.10s/it]"
          ]
        },
        {
          "metadata": {
            "tags": null
          },
          "name": "stdout",
          "output_type": "stream",
          "text": [
            "\n",
            "Valid Epoch: 16\tAccuracy: 10/13 (77%)\n",
            "\n"
          ]
        },
        {
          "metadata": {
            "tags": null
          },
          "name": "stderr",
          "output_type": "stream",
          "text": [
            " 67%|██████▋   | 16.75/25 [03:36<00:44,  5.34s/it] "
          ]
        },
        {
          "metadata": {
            "tags": null
          },
          "name": "stdout",
          "output_type": "stream",
          "text": [
            "\n",
            "Train Epoch: 17\tAccuracy: 43/51 (84%)\n",
            "\n"
          ]
        },
        {
          "metadata": {
            "tags": null
          },
          "name": "stderr",
          "output_type": "stream",
          "text": [
            "\r 68%|██████▊   | 16.875/25 [03:42<02:28, 18.28s/it]"
          ]
        },
        {
          "metadata": {
            "tags": null
          },
          "name": "stdout",
          "output_type": "stream",
          "text": [
            "\n",
            "Valid Epoch: 17\tAccuracy: 10/13 (77%)\n",
            "\n"
          ]
        },
        {
          "metadata": {
            "tags": null
          },
          "name": "stderr",
          "output_type": "stream",
          "text": [
            "\r 68%|██████▊   | 17.125/25 [03:48<02:41, 20.50s/it]"
          ]
        },
        {
          "metadata": {
            "tags": null
          },
          "name": "stdout",
          "output_type": "stream",
          "text": [
            "save mode at  18\n"
          ]
        },
        {
          "metadata": {
            "tags": null
          },
          "name": "stderr",
          "output_type": "stream",
          "text": [
            " 71%|███████   | 17.75/25 [03:49<00:39,  5.41s/it] "
          ]
        },
        {
          "metadata": {
            "tags": null
          },
          "name": "stdout",
          "output_type": "stream",
          "text": [
            "\n",
            "Train Epoch: 18\tAccuracy: 45/51 (88%)\n",
            "\n"
          ]
        },
        {
          "metadata": {
            "tags": null
          },
          "name": "stderr",
          "output_type": "stream",
          "text": [
            "\r 72%|███████▏  | 17.875/25 [03:56<02:13, 18.70s/it]"
          ]
        },
        {
          "metadata": {
            "tags": null
          },
          "name": "stdout",
          "output_type": "stream",
          "text": [
            "\n",
            "Valid Epoch: 18\tAccuracy: 10/13 (77%)\n",
            "\n"
          ]
        },
        {
          "metadata": {
            "tags": null
          },
          "name": "stderr",
          "output_type": "stream",
          "text": [
            " 75%|███████▌  | 18.75/25 [04:02<00:32,  5.26s/it] "
          ]
        },
        {
          "metadata": {
            "tags": null
          },
          "name": "stdout",
          "output_type": "stream",
          "text": [
            "\n",
            "Train Epoch: 19\tAccuracy: 43/51 (84%)\n",
            "\n"
          ]
        },
        {
          "metadata": {
            "tags": null
          },
          "name": "stderr",
          "output_type": "stream",
          "text": [
            "\r 76%|███████▌  | 18.875/25 [04:06<01:19, 12.95s/it]"
          ]
        },
        {
          "metadata": {
            "tags": null
          },
          "name": "stdout",
          "output_type": "stream",
          "text": [
            "\n",
            "Valid Epoch: 19\tAccuracy: 9/13 (69%)\n",
            "\n"
          ]
        },
        {
          "metadata": {
            "tags": null
          },
          "name": "stderr",
          "output_type": "stream",
          "text": [
            " 79%|███████▉  | 19.75/25 [04:13<00:26,  5.00s/it] "
          ]
        },
        {
          "metadata": {
            "tags": null
          },
          "name": "stdout",
          "output_type": "stream",
          "text": [
            "\n",
            "Train Epoch: 20\tAccuracy: 42/51 (82%)\n",
            "\n"
          ]
        },
        {
          "metadata": {
            "tags": null
          },
          "name": "stderr",
          "output_type": "stream",
          "text": [
            "\r 80%|███████▉  | 19.875/25 [04:19<01:27, 17.12s/it]"
          ]
        },
        {
          "metadata": {
            "tags": null
          },
          "name": "stdout",
          "output_type": "stream",
          "text": [
            "\n",
            "Valid Epoch: 20\tAccuracy: 7/13 (54%)\n",
            "\n"
          ]
        },
        {
          "metadata": {
            "tags": null
          },
          "name": "stderr",
          "output_type": "stream",
          "text": [
            " 83%|████████▎ | 20.75/25 [04:26<00:22,  5.31s/it] "
          ]
        },
        {
          "metadata": {
            "tags": null
          },
          "name": "stdout",
          "output_type": "stream",
          "text": [
            "\n",
            "Train Epoch: 21\tAccuracy: 43/51 (84%)\n",
            "\n"
          ]
        },
        {
          "metadata": {
            "tags": null
          },
          "name": "stderr",
          "output_type": "stream",
          "text": [
            "\r 84%|████████▎ | 20.875/25 [04:30<00:50, 12.34s/it]"
          ]
        },
        {
          "metadata": {
            "tags": null
          },
          "name": "stdout",
          "output_type": "stream",
          "text": [
            "\n",
            "Valid Epoch: 21\tAccuracy: 9/13 (69%)\n",
            "\n"
          ]
        },
        {
          "metadata": {
            "tags": null
          },
          "name": "stderr",
          "output_type": "stream",
          "text": [
            " 86%|████████▌ | 21.375/25 [04:35<00:36, 10.15s/it]"
          ]
        },
        {
          "metadata": {
            "tags": null
          },
          "name": "stdout",
          "output_type": "stream",
          "text": [
            "save mode at  22\n"
          ]
        },
        {
          "metadata": {
            "tags": null
          },
          "name": "stderr",
          "output_type": "stream",
          "text": [
            " 87%|████████▋ | 21.75/25 [04:36<00:14,  4.47s/it] "
          ]
        },
        {
          "metadata": {
            "tags": null
          },
          "name": "stdout",
          "output_type": "stream",
          "text": [
            "\n",
            "Train Epoch: 22\tAccuracy: 46/51 (90%)\n",
            "\n"
          ]
        },
        {
          "metadata": {
            "tags": null
          },
          "name": "stderr",
          "output_type": "stream",
          "text": [
            "\r 88%|████████▊ | 21.875/25 [04:41<00:49, 16.00s/it]"
          ]
        },
        {
          "metadata": {
            "tags": null
          },
          "name": "stdout",
          "output_type": "stream",
          "text": [
            "\n",
            "Valid Epoch: 22\tAccuracy: 9/13 (69%)\n",
            "\n"
          ]
        },
        {
          "metadata": {
            "tags": null
          },
          "name": "stderr",
          "output_type": "stream",
          "text": [
            " 90%|█████████ | 22.625/25 [04:49<00:19,  8.07s/it]"
          ]
        },
        {
          "metadata": {
            "tags": null
          },
          "name": "stdout",
          "output_type": "stream",
          "text": [
            "save mode at  23\n"
          ]
        },
        {
          "metadata": {
            "tags": null
          },
          "name": "stderr",
          "output_type": "stream",
          "text": [
            "\r 91%|█████████ | 22.75/25 [04:49<00:13,  6.10s/it] "
          ]
        },
        {
          "metadata": {
            "tags": null
          },
          "name": "stdout",
          "output_type": "stream",
          "text": [
            "\n",
            "Train Epoch: 23\tAccuracy: 46/51 (90%)\n",
            "\n"
          ]
        },
        {
          "metadata": {
            "tags": null
          },
          "name": "stderr",
          "output_type": "stream",
          "text": [
            "\r 92%|█████████▏| 22.875/25 [04:53<00:29, 13.69s/it]"
          ]
        },
        {
          "metadata": {
            "tags": null
          },
          "name": "stdout",
          "output_type": "stream",
          "text": [
            "\n",
            "Valid Epoch: 23\tAccuracy: 10/13 (77%)\n",
            "\n"
          ]
        },
        {
          "metadata": {
            "tags": null
          },
          "name": "stderr",
          "output_type": "stream",
          "text": [
            " 95%|█████████▌| 23.75/25 [04:59<00:06,  5.30s/it] "
          ]
        },
        {
          "metadata": {
            "tags": null
          },
          "name": "stdout",
          "output_type": "stream",
          "text": [
            "\n",
            "Train Epoch: 24\tAccuracy: 41/51 (80%)\n",
            "\n"
          ]
        },
        {
          "metadata": {
            "tags": null
          },
          "name": "stderr",
          "output_type": "stream",
          "text": [
            "\r 96%|█████████▌| 23.875/25 [05:02<00:10,  9.23s/it]"
          ]
        },
        {
          "metadata": {
            "tags": null
          },
          "name": "stdout",
          "output_type": "stream",
          "text": [
            "\n",
            "Valid Epoch: 24\tAccuracy: 10/13 (77%)\n",
            "\n"
          ]
        },
        {
          "metadata": {
            "tags": null
          },
          "name": "stderr",
          "output_type": "stream",
          "text": [
            " 99%|█████████▉| 24.75/25 [05:09<00:01,  4.89s/it] "
          ]
        },
        {
          "metadata": {
            "tags": null
          },
          "name": "stdout",
          "output_type": "stream",
          "text": [
            "\n",
            "Train Epoch: 25\tAccuracy: 46/51 (90%)\n",
            "\n"
          ]
        },
        {
          "metadata": {
            "tags": null
          },
          "name": "stderr",
          "output_type": "stream",
          "text": [
            "100%|██████████| 25.0/25 [05:16<00:00, 12.66s/it]  \n"
          ]
        },
        {
          "metadata": {
            "tags": null
          },
          "name": "stdout",
          "output_type": "stream",
          "text": [
            "\n",
            "Valid Epoch: 25\tAccuracy: 9/13 (69%)\n",
            "\n",
            "Fold 4/5\n",
            "51 13\n"
          ]
        },
        {
          "metadata": {
            "tags": null
          },
          "name": "stderr",
          "output_type": "stream",
          "text": [
            "  2%|▏         | 0.5/25 [00:05<02:53,  7.07s/it]  "
          ]
        },
        {
          "metadata": {
            "tags": null
          },
          "name": "stdout",
          "output_type": "stream",
          "text": [
            "save mode at  1\n"
          ]
        },
        {
          "metadata": {
            "tags": null
          },
          "name": "stderr",
          "output_type": "stream",
          "text": [
            "  3%|▎         | 0.75/25 [00:05<01:31,  3.79s/it] "
          ]
        },
        {
          "metadata": {
            "tags": null
          },
          "name": "stdout",
          "output_type": "stream",
          "text": [
            "save mode at  1\n",
            "\n",
            "Train Epoch: 1\tAccuracy: 33/51 (65%)\n",
            "\n"
          ]
        },
        {
          "metadata": {
            "tags": null
          },
          "name": "stderr",
          "output_type": "stream",
          "text": [
            "\r  4%|▎         | 0.875/25 [00:10<05:51, 14.56s/it]"
          ]
        },
        {
          "metadata": {
            "tags": null
          },
          "name": "stdout",
          "output_type": "stream",
          "text": [
            "\n",
            "Valid Epoch: 1\tAccuracy: 2/13 (15%)\n",
            "\n"
          ]
        },
        {
          "metadata": {
            "tags": null
          },
          "name": "stderr",
          "output_type": "stream",
          "text": [
            "  7%|▋         | 1.75/25 [00:15<01:47,  4.63s/it] "
          ]
        },
        {
          "metadata": {
            "tags": null
          },
          "name": "stdout",
          "output_type": "stream",
          "text": [
            "\n",
            "Train Epoch: 2\tAccuracy: 28/51 (55%)\n",
            "\n"
          ]
        },
        {
          "metadata": {
            "tags": null
          },
          "name": "stderr",
          "output_type": "stream",
          "text": [
            "\r  8%|▊         | 1.875/25 [00:22<07:20, 19.07s/it]"
          ]
        },
        {
          "metadata": {
            "tags": null
          },
          "name": "stdout",
          "output_type": "stream",
          "text": [
            "\n",
            "Valid Epoch: 2\tAccuracy: 11/13 (85%)\n",
            "\n"
          ]
        },
        {
          "metadata": {
            "tags": null
          },
          "name": "stderr",
          "output_type": "stream",
          "text": [
            " 11%|█         | 2.75/25 [00:29<01:59,  5.39s/it] "
          ]
        },
        {
          "metadata": {
            "tags": null
          },
          "name": "stdout",
          "output_type": "stream",
          "text": [
            "\n",
            "Train Epoch: 3\tAccuracy: 29/51 (57%)\n",
            "\n"
          ]
        },
        {
          "metadata": {
            "tags": null
          },
          "name": "stderr",
          "output_type": "stream",
          "text": [
            "\r 12%|█▏        | 2.875/25 [00:35<06:06, 16.58s/it]"
          ]
        },
        {
          "metadata": {
            "tags": null
          },
          "name": "stdout",
          "output_type": "stream",
          "text": [
            "\n",
            "Valid Epoch: 3\tAccuracy: 11/13 (85%)\n",
            "\n"
          ]
        },
        {
          "metadata": {
            "tags": null
          },
          "name": "stderr",
          "output_type": "stream",
          "text": [
            " 15%|█▌        | 3.75/25 [00:42<01:50,  5.19s/it] "
          ]
        },
        {
          "metadata": {
            "tags": null
          },
          "name": "stdout",
          "output_type": "stream",
          "text": [
            "\n",
            "Train Epoch: 4\tAccuracy: 38/51 (75%)\n",
            "\n"
          ]
        },
        {
          "metadata": {
            "tags": null
          },
          "name": "stderr",
          "output_type": "stream",
          "text": [
            "\r 16%|█▌        | 3.875/25 [00:47<05:33, 15.78s/it]"
          ]
        },
        {
          "metadata": {
            "tags": null
          },
          "name": "stdout",
          "output_type": "stream",
          "text": [
            "\n",
            "Valid Epoch: 4\tAccuracy: 9/13 (69%)\n",
            "\n"
          ]
        },
        {
          "metadata": {
            "tags": null
          },
          "name": "stderr",
          "output_type": "stream",
          "text": [
            " 19%|█▉        | 4.75/25 [00:54<01:43,  5.13s/it] "
          ]
        },
        {
          "metadata": {
            "tags": null
          },
          "name": "stdout",
          "output_type": "stream",
          "text": [
            "\n",
            "Train Epoch: 5\tAccuracy: 38/51 (75%)\n",
            "\n"
          ]
        },
        {
          "metadata": {
            "tags": null
          },
          "name": "stderr",
          "output_type": "stream",
          "text": [
            "\r 20%|█▉        | 4.875/25 [00:59<05:10, 15.41s/it]"
          ]
        },
        {
          "metadata": {
            "tags": null
          },
          "name": "stdout",
          "output_type": "stream",
          "text": [
            "\n",
            "Valid Epoch: 5\tAccuracy: 9/13 (69%)\n",
            "\n"
          ]
        },
        {
          "metadata": {
            "tags": null
          },
          "name": "stderr",
          "output_type": "stream",
          "text": [
            " 23%|██▎       | 5.75/25 [01:05<01:34,  4.89s/it] "
          ]
        },
        {
          "metadata": {
            "tags": null
          },
          "name": "stdout",
          "output_type": "stream",
          "text": [
            "\n",
            "Train Epoch: 6\tAccuracy: 39/51 (76%)\n",
            "\n"
          ]
        },
        {
          "metadata": {
            "tags": null
          },
          "name": "stderr",
          "output_type": "stream",
          "text": [
            "\r 24%|██▎       | 5.875/25 [01:12<05:51, 18.40s/it]"
          ]
        },
        {
          "metadata": {
            "tags": null
          },
          "name": "stdout",
          "output_type": "stream",
          "text": [
            "\n",
            "Valid Epoch: 6\tAccuracy: 6/13 (46%)\n",
            "\n"
          ]
        },
        {
          "metadata": {
            "tags": null
          },
          "name": "stderr",
          "output_type": "stream",
          "text": [
            " 26%|██▌       | 6.5/25 [01:18<02:43,  8.84s/it]  "
          ]
        },
        {
          "metadata": {
            "tags": null
          },
          "name": "stdout",
          "output_type": "stream",
          "text": [
            "save mode at  7\n"
          ]
        },
        {
          "metadata": {
            "tags": null
          },
          "name": "stderr",
          "output_type": "stream",
          "text": [
            "\r 26%|██▋       | 6.625/25 [01:18<02:05,  6.84s/it]"
          ]
        },
        {
          "metadata": {
            "tags": null
          },
          "name": "stdout",
          "output_type": "stream",
          "text": [
            "save mode at  7\n"
          ]
        },
        {
          "metadata": {
            "tags": null
          },
          "name": "stderr",
          "output_type": "stream",
          "text": [
            "\r 27%|██▋       | 6.75/25 [01:18<01:33,  5.14s/it] "
          ]
        },
        {
          "metadata": {
            "tags": null
          },
          "name": "stdout",
          "output_type": "stream",
          "text": [
            "\n",
            "Train Epoch: 7\tAccuracy: 39/51 (76%)\n",
            "\n"
          ]
        },
        {
          "metadata": {
            "tags": null
          },
          "name": "stderr",
          "output_type": "stream",
          "text": [
            "\r 28%|██▊       | 6.875/25 [01:22<04:01, 13.30s/it]"
          ]
        },
        {
          "metadata": {
            "tags": null
          },
          "name": "stdout",
          "output_type": "stream",
          "text": [
            "\n",
            "Valid Epoch: 7\tAccuracy: 10/13 (77%)\n",
            "\n"
          ]
        },
        {
          "metadata": {
            "tags": null
          },
          "name": "stderr",
          "output_type": "stream",
          "text": [
            " 31%|███       | 7.75/25 [01:29<01:42,  5.96s/it] "
          ]
        },
        {
          "metadata": {
            "tags": null
          },
          "name": "stdout",
          "output_type": "stream",
          "text": [
            "\n",
            "Train Epoch: 8\tAccuracy: 38/51 (75%)\n",
            "\n"
          ]
        },
        {
          "metadata": {
            "tags": null
          },
          "name": "stderr",
          "output_type": "stream",
          "text": [
            "\r 32%|███▏      | 7.875/25 [01:34<03:58, 13.92s/it]"
          ]
        },
        {
          "metadata": {
            "tags": null
          },
          "name": "stdout",
          "output_type": "stream",
          "text": [
            "\n",
            "Valid Epoch: 8\tAccuracy: 11/13 (85%)\n",
            "\n"
          ]
        },
        {
          "metadata": {
            "tags": null
          },
          "name": "stderr",
          "output_type": "stream",
          "text": [
            " 35%|███▌      | 8.75/25 [01:40<01:33,  5.74s/it] "
          ]
        },
        {
          "metadata": {
            "tags": null
          },
          "name": "stdout",
          "output_type": "stream",
          "text": [
            "\n",
            "Train Epoch: 9\tAccuracy: 39/51 (76%)\n",
            "\n"
          ]
        },
        {
          "metadata": {
            "tags": null
          },
          "name": "stderr",
          "output_type": "stream",
          "text": [
            "\r 36%|███▌      | 8.875/25 [01:46<04:34, 17.00s/it]"
          ]
        },
        {
          "metadata": {
            "tags": null
          },
          "name": "stdout",
          "output_type": "stream",
          "text": [
            "\n",
            "Valid Epoch: 9\tAccuracy: 6/13 (46%)\n",
            "\n"
          ]
        },
        {
          "metadata": {
            "tags": null
          },
          "name": "stderr",
          "output_type": "stream",
          "text": [
            " 38%|███▊      | 9.625/25 [01:52<01:41,  6.59s/it]"
          ]
        },
        {
          "metadata": {
            "tags": null
          },
          "name": "stdout",
          "output_type": "stream",
          "text": [
            "save mode at  10\n"
          ]
        },
        {
          "metadata": {
            "tags": null
          },
          "name": "stderr",
          "output_type": "stream",
          "text": [
            "\r 39%|███▉      | 9.75/25 [01:52<01:16,  5.01s/it] "
          ]
        },
        {
          "metadata": {
            "tags": null
          },
          "name": "stdout",
          "output_type": "stream",
          "text": [
            "\n",
            "Train Epoch: 10\tAccuracy: 39/51 (76%)\n",
            "\n"
          ]
        },
        {
          "metadata": {
            "tags": null
          },
          "name": "stderr",
          "output_type": "stream",
          "text": [
            "\r 40%|███▉      | 9.875/25 [01:57<03:41, 14.64s/it]"
          ]
        },
        {
          "metadata": {
            "tags": null
          },
          "name": "stdout",
          "output_type": "stream",
          "text": [
            "\n",
            "Valid Epoch: 10\tAccuracy: 10/13 (77%)\n",
            "\n"
          ]
        },
        {
          "metadata": {
            "tags": null
          },
          "name": "stderr",
          "output_type": "stream",
          "text": [
            " 43%|████▎     | 10.75/25 [02:03<01:13,  5.19s/it] "
          ]
        },
        {
          "metadata": {
            "tags": null
          },
          "name": "stdout",
          "output_type": "stream",
          "text": [
            "\n",
            "Train Epoch: 11\tAccuracy: 40/51 (78%)\n",
            "\n"
          ]
        },
        {
          "metadata": {
            "tags": null
          },
          "name": "stderr",
          "output_type": "stream",
          "text": [
            "\r 44%|████▎     | 10.875/25 [02:08<03:24, 14.45s/it]"
          ]
        },
        {
          "metadata": {
            "tags": null
          },
          "name": "stdout",
          "output_type": "stream",
          "text": [
            "\n",
            "Valid Epoch: 11\tAccuracy: 12/13 (92%)\n",
            "\n"
          ]
        },
        {
          "metadata": {
            "tags": null
          },
          "name": "stderr",
          "output_type": "stream",
          "text": [
            " 47%|████▋     | 11.75/25 [02:16<01:09,  5.27s/it] "
          ]
        },
        {
          "metadata": {
            "tags": null
          },
          "name": "stdout",
          "output_type": "stream",
          "text": [
            "\n",
            "Train Epoch: 12\tAccuracy: 41/51 (80%)\n",
            "\n"
          ]
        },
        {
          "metadata": {
            "tags": null
          },
          "name": "stderr",
          "output_type": "stream",
          "text": [
            "\r 48%|████▊     | 11.875/25 [02:19<02:41, 12.31s/it]"
          ]
        },
        {
          "metadata": {
            "tags": null
          },
          "name": "stdout",
          "output_type": "stream",
          "text": [
            "\n",
            "Valid Epoch: 12\tAccuracy: 10/13 (77%)\n",
            "\n"
          ]
        },
        {
          "metadata": {
            "tags": null
          },
          "name": "stderr",
          "output_type": "stream",
          "text": [
            "\r 48%|████▊     | 12.125/25 [02:24<03:15, 15.20s/it]"
          ]
        },
        {
          "metadata": {
            "tags": null
          },
          "name": "stdout",
          "output_type": "stream",
          "text": [
            "save mode at  13\n"
          ]
        },
        {
          "metadata": {
            "tags": null
          },
          "name": "stderr",
          "output_type": "stream",
          "text": [
            " 51%|█████     | 12.75/25 [02:26<00:57,  4.72s/it] "
          ]
        },
        {
          "metadata": {
            "tags": null
          },
          "name": "stdout",
          "output_type": "stream",
          "text": [
            "\n",
            "Train Epoch: 13\tAccuracy: 44/51 (86%)\n",
            "\n"
          ]
        },
        {
          "metadata": {
            "tags": null
          },
          "name": "stderr",
          "output_type": "stream",
          "text": [
            "\r 52%|█████▏    | 12.875/25 [02:31<03:01, 14.99s/it]"
          ]
        },
        {
          "metadata": {
            "tags": null
          },
          "name": "stdout",
          "output_type": "stream",
          "text": [
            "\n",
            "Valid Epoch: 13\tAccuracy: 12/13 (92%)\n",
            "\n"
          ]
        },
        {
          "metadata": {
            "tags": null
          },
          "name": "stderr",
          "output_type": "stream",
          "text": [
            " 55%|█████▌    | 13.75/25 [02:37<00:55,  4.93s/it] "
          ]
        },
        {
          "metadata": {
            "tags": null
          },
          "name": "stdout",
          "output_type": "stream",
          "text": [
            "\n",
            "Train Epoch: 14\tAccuracy: 42/51 (82%)\n",
            "\n"
          ]
        },
        {
          "metadata": {
            "tags": null
          },
          "name": "stderr",
          "output_type": "stream",
          "text": [
            "\r 56%|█████▌    | 13.875/25 [02:43<03:07, 16.84s/it]"
          ]
        },
        {
          "metadata": {
            "tags": null
          },
          "name": "stdout",
          "output_type": "stream",
          "text": [
            "\n",
            "Valid Epoch: 14\tAccuracy: 12/13 (92%)\n",
            "\n"
          ]
        },
        {
          "metadata": {
            "tags": null
          },
          "name": "stderr",
          "output_type": "stream",
          "text": [
            " 59%|█████▉    | 14.75/25 [02:49<00:51,  5.07s/it] "
          ]
        },
        {
          "metadata": {
            "tags": null
          },
          "name": "stdout",
          "output_type": "stream",
          "text": [
            "\n",
            "Train Epoch: 15\tAccuracy: 41/51 (80%)\n",
            "\n"
          ]
        },
        {
          "metadata": {
            "tags": null
          },
          "name": "stderr",
          "output_type": "stream",
          "text": [
            "\r 60%|█████▉    | 14.875/25 [02:55<02:44, 16.24s/it]"
          ]
        },
        {
          "metadata": {
            "tags": null
          },
          "name": "stdout",
          "output_type": "stream",
          "text": [
            "\n",
            "Valid Epoch: 15\tAccuracy: 12/13 (92%)\n",
            "\n"
          ]
        },
        {
          "metadata": {
            "tags": null
          },
          "name": "stderr",
          "output_type": "stream",
          "text": [
            " 63%|██████▎   | 15.75/25 [03:02<00:47,  5.16s/it] "
          ]
        },
        {
          "metadata": {
            "tags": null
          },
          "name": "stdout",
          "output_type": "stream",
          "text": [
            "\n",
            "Train Epoch: 16\tAccuracy: 45/51 (88%)\n",
            "\n"
          ]
        },
        {
          "metadata": {
            "tags": null
          },
          "name": "stderr",
          "output_type": "stream",
          "text": [
            "\r 64%|██████▎   | 15.875/25 [03:06<02:06, 13.86s/it]"
          ]
        },
        {
          "metadata": {
            "tags": null
          },
          "name": "stdout",
          "output_type": "stream",
          "text": [
            "\n",
            "Valid Epoch: 16\tAccuracy: 12/13 (92%)\n",
            "\n"
          ]
        },
        {
          "metadata": {
            "tags": null
          },
          "name": "stderr",
          "output_type": "stream",
          "text": [
            " 66%|██████▌   | 16.5/25 [03:13<01:17,  9.09s/it]  "
          ]
        },
        {
          "metadata": {
            "tags": null
          },
          "name": "stdout",
          "output_type": "stream",
          "text": [
            "save mode at  17\n"
          ]
        },
        {
          "metadata": {
            "tags": null
          },
          "name": "stderr",
          "output_type": "stream",
          "text": [
            " 67%|██████▋   | 16.75/25 [03:14<00:44,  5.34s/it] "
          ]
        },
        {
          "metadata": {
            "tags": null
          },
          "name": "stdout",
          "output_type": "stream",
          "text": [
            "\n",
            "Train Epoch: 17\tAccuracy: 44/51 (86%)\n",
            "\n"
          ]
        },
        {
          "metadata": {
            "tags": null
          },
          "name": "stderr",
          "output_type": "stream",
          "text": [
            "\r 68%|██████▊   | 16.875/25 [03:18<01:53, 13.94s/it]"
          ]
        },
        {
          "metadata": {
            "tags": null
          },
          "name": "stdout",
          "output_type": "stream",
          "text": [
            "\n",
            "Valid Epoch: 17\tAccuracy: 12/13 (92%)\n",
            "\n"
          ]
        },
        {
          "metadata": {
            "tags": null
          },
          "name": "stderr",
          "output_type": "stream",
          "text": [
            " 71%|███████   | 17.75/25 [03:25<00:35,  4.86s/it] "
          ]
        },
        {
          "metadata": {
            "tags": null
          },
          "name": "stdout",
          "output_type": "stream",
          "text": [
            "\n",
            "Train Epoch: 18\tAccuracy: 43/51 (84%)\n",
            "\n"
          ]
        },
        {
          "metadata": {
            "tags": null
          },
          "name": "stderr",
          "output_type": "stream",
          "text": [
            "\r 72%|███████▏  | 17.875/25 [03:28<01:24, 11.90s/it]"
          ]
        },
        {
          "metadata": {
            "tags": null
          },
          "name": "stdout",
          "output_type": "stream",
          "text": [
            "\n",
            "Valid Epoch: 18\tAccuracy: 12/13 (92%)\n",
            "\n"
          ]
        },
        {
          "metadata": {
            "tags": null
          },
          "name": "stderr",
          "output_type": "stream",
          "text": [
            " 75%|███████▌  | 18.75/25 [03:36<00:30,  4.91s/it] "
          ]
        },
        {
          "metadata": {
            "tags": null
          },
          "name": "stdout",
          "output_type": "stream",
          "text": [
            "save mode at  19\n",
            "\n",
            "Train Epoch: 19\tAccuracy: 40/51 (78%)\n",
            "\n"
          ]
        },
        {
          "metadata": {
            "tags": null
          },
          "name": "stderr",
          "output_type": "stream",
          "text": [
            "\r 76%|███████▌  | 18.875/25 [03:39<01:10, 11.56s/it]"
          ]
        },
        {
          "metadata": {
            "tags": null
          },
          "name": "stdout",
          "output_type": "stream",
          "text": [
            "\n",
            "Valid Epoch: 19\tAccuracy: 11/13 (85%)\n",
            "\n"
          ]
        },
        {
          "metadata": {
            "tags": null
          },
          "name": "stderr",
          "output_type": "stream",
          "text": [
            " 79%|███████▉  | 19.75/25 [03:45<00:21,  4.18s/it] "
          ]
        },
        {
          "metadata": {
            "tags": null
          },
          "name": "stdout",
          "output_type": "stream",
          "text": [
            "\n",
            "Train Epoch: 20\tAccuracy: 44/51 (86%)\n",
            "\n"
          ]
        },
        {
          "metadata": {
            "tags": null
          },
          "name": "stderr",
          "output_type": "stream",
          "text": [
            "\r 80%|███████▉  | 19.875/25 [03:49<01:07, 13.15s/it]"
          ]
        },
        {
          "metadata": {
            "tags": null
          },
          "name": "stdout",
          "output_type": "stream",
          "text": [
            "\n",
            "Valid Epoch: 20\tAccuracy: 10/13 (77%)\n",
            "\n"
          ]
        },
        {
          "metadata": {
            "tags": null
          },
          "name": "stderr",
          "output_type": "stream",
          "text": [
            " 83%|████████▎ | 20.75/25 [03:56<00:20,  4.88s/it] "
          ]
        },
        {
          "metadata": {
            "tags": null
          },
          "name": "stdout",
          "output_type": "stream",
          "text": [
            "\n",
            "Train Epoch: 21\tAccuracy: 46/51 (90%)\n",
            "\n"
          ]
        },
        {
          "metadata": {
            "tags": null
          },
          "name": "stderr",
          "output_type": "stream",
          "text": [
            "\r 84%|████████▎ | 20.875/25 [03:59<00:45, 11.07s/it]"
          ]
        },
        {
          "metadata": {
            "tags": null
          },
          "name": "stdout",
          "output_type": "stream",
          "text": [
            "\n",
            "Valid Epoch: 21\tAccuracy: 11/13 (85%)\n",
            "\n"
          ]
        },
        {
          "metadata": {
            "tags": null
          },
          "name": "stderr",
          "output_type": "stream",
          "text": [
            " 87%|████████▋ | 21.75/25 [04:06<00:15,  4.71s/it] "
          ]
        },
        {
          "metadata": {
            "tags": null
          },
          "name": "stdout",
          "output_type": "stream",
          "text": [
            "\n",
            "Train Epoch: 22\tAccuracy: 42/51 (82%)\n",
            "\n"
          ]
        },
        {
          "metadata": {
            "tags": null
          },
          "name": "stderr",
          "output_type": "stream",
          "text": [
            "\r 88%|████████▊ | 21.875/25 [04:11<00:45, 14.63s/it]"
          ]
        },
        {
          "metadata": {
            "tags": null
          },
          "name": "stdout",
          "output_type": "stream",
          "text": [
            "\n",
            "Valid Epoch: 22\tAccuracy: 11/13 (85%)\n",
            "\n"
          ]
        },
        {
          "metadata": {
            "tags": null
          },
          "name": "stderr",
          "output_type": "stream",
          "text": [
            " 91%|█████████ | 22.75/25 [04:17<00:11,  4.93s/it] "
          ]
        },
        {
          "metadata": {
            "tags": null
          },
          "name": "stdout",
          "output_type": "stream",
          "text": [
            "\n",
            "Train Epoch: 23\tAccuracy: 44/51 (86%)\n",
            "\n"
          ]
        },
        {
          "metadata": {
            "tags": null
          },
          "name": "stderr",
          "output_type": "stream",
          "text": [
            "\r 92%|█████████▏| 22.875/25 [04:22<00:30, 14.25s/it]"
          ]
        },
        {
          "metadata": {
            "tags": null
          },
          "name": "stdout",
          "output_type": "stream",
          "text": [
            "\n",
            "Valid Epoch: 23\tAccuracy: 12/13 (92%)\n",
            "\n"
          ]
        },
        {
          "metadata": {
            "tags": null
          },
          "name": "stderr",
          "output_type": "stream",
          "text": [
            " 95%|█████████▌| 23.75/25 [04:29<00:06,  5.10s/it] "
          ]
        },
        {
          "metadata": {
            "tags": null
          },
          "name": "stdout",
          "output_type": "stream",
          "text": [
            "\n",
            "Train Epoch: 24\tAccuracy: 47/51 (92%)\n",
            "\n"
          ]
        },
        {
          "metadata": {
            "tags": null
          },
          "name": "stderr",
          "output_type": "stream",
          "text": [
            "\r 96%|█████████▌| 23.875/25 [04:34<00:16, 15.01s/it]"
          ]
        },
        {
          "metadata": {
            "tags": null
          },
          "name": "stdout",
          "output_type": "stream",
          "text": [
            "\n",
            "Valid Epoch: 24\tAccuracy: 11/13 (85%)\n",
            "\n"
          ]
        },
        {
          "metadata": {
            "tags": null
          },
          "name": "stderr",
          "output_type": "stream",
          "text": [
            " 99%|█████████▉| 24.75/25 [04:40<00:01,  4.84s/it] "
          ]
        },
        {
          "metadata": {
            "tags": null
          },
          "name": "stdout",
          "output_type": "stream",
          "text": [
            "\n",
            "Train Epoch: 25\tAccuracy: 47/51 (92%)\n",
            "\n"
          ]
        },
        {
          "metadata": {
            "tags": null
          },
          "name": "stderr",
          "output_type": "stream",
          "text": [
            "100%|██████████| 25.0/25 [04:45<00:00, 11.43s/it]  \n"
          ]
        },
        {
          "metadata": {
            "tags": null
          },
          "name": "stdout",
          "output_type": "stream",
          "text": [
            "\n",
            "Valid Epoch: 25\tAccuracy: 12/13 (92%)\n",
            "\n",
            "Fold 5/5\n",
            "52 12\n"
          ]
        },
        {
          "metadata": {
            "tags": null
          },
          "name": "stderr",
          "output_type": "stream",
          "text": [
            "  3%|▎         | 0.75/25 [00:05<01:28,  3.65s/it] "
          ]
        },
        {
          "metadata": {
            "tags": null
          },
          "name": "stdout",
          "output_type": "stream",
          "text": [
            "save mode at  1\n",
            "\n",
            "Train Epoch: 1\tAccuracy: 28/52 (54%)\n",
            "\n"
          ]
        },
        {
          "metadata": {
            "tags": null
          },
          "name": "stderr",
          "output_type": "stream",
          "text": [
            "\r  4%|▎         | 0.875/25 [00:09<04:47, 11.94s/it]"
          ]
        },
        {
          "metadata": {
            "tags": null
          },
          "name": "stdout",
          "output_type": "stream",
          "text": [
            "\n",
            "Valid Epoch: 1\tAccuracy: 9/12 (75%)\n",
            "\n"
          ]
        },
        {
          "metadata": {
            "tags": null
          },
          "name": "stderr",
          "output_type": "stream",
          "text": [
            "  7%|▋         | 1.75/25 [00:14<01:56,  5.02s/it] "
          ]
        },
        {
          "metadata": {
            "tags": null
          },
          "name": "stdout",
          "output_type": "stream",
          "text": [
            "\n",
            "Train Epoch: 2\tAccuracy: 34/52 (65%)\n",
            "\n"
          ]
        },
        {
          "metadata": {
            "tags": null
          },
          "name": "stderr",
          "output_type": "stream",
          "text": [
            "\r  8%|▊         | 1.875/25 [00:19<05:34, 14.47s/it]"
          ]
        },
        {
          "metadata": {
            "tags": null
          },
          "name": "stdout",
          "output_type": "stream",
          "text": [
            "\n",
            "Valid Epoch: 2\tAccuracy: 9/12 (75%)\n",
            "\n"
          ]
        },
        {
          "metadata": {
            "tags": null
          },
          "name": "stderr",
          "output_type": "stream",
          "text": [
            " 11%|█         | 2.75/25 [00:25<01:44,  4.72s/it] "
          ]
        },
        {
          "metadata": {
            "tags": null
          },
          "name": "stdout",
          "output_type": "stream",
          "text": [
            "\n",
            "Train Epoch: 3\tAccuracy: 37/52 (71%)\n",
            "\n"
          ]
        },
        {
          "metadata": {
            "tags": null
          },
          "name": "stderr",
          "output_type": "stream",
          "text": [
            "\r 12%|█▏        | 2.875/25 [00:31<06:20, 17.18s/it]"
          ]
        },
        {
          "metadata": {
            "tags": null
          },
          "name": "stdout",
          "output_type": "stream",
          "text": [
            "\n",
            "Valid Epoch: 3\tAccuracy: 9/12 (75%)\n",
            "\n"
          ]
        },
        {
          "metadata": {
            "tags": null
          },
          "name": "stderr",
          "output_type": "stream",
          "text": [
            " 15%|█▌        | 3.75/25 [00:38<01:55,  5.45s/it] "
          ]
        },
        {
          "metadata": {
            "tags": null
          },
          "name": "stdout",
          "output_type": "stream",
          "text": [
            "save mode at  4\n",
            "\n",
            "Train Epoch: 4\tAccuracy: 40/52 (77%)\n",
            "\n"
          ]
        },
        {
          "metadata": {
            "tags": null
          },
          "name": "stderr",
          "output_type": "stream",
          "text": [
            "\r 16%|█▌        | 3.875/25 [00:43<05:44, 16.28s/it]"
          ]
        },
        {
          "metadata": {
            "tags": null
          },
          "name": "stdout",
          "output_type": "stream",
          "text": [
            "\n",
            "Valid Epoch: 4\tAccuracy: 9/12 (75%)\n",
            "\n"
          ]
        },
        {
          "metadata": {
            "tags": null
          },
          "name": "stderr",
          "output_type": "stream",
          "text": [
            " 19%|█▉        | 4.75/25 [00:48<01:35,  4.70s/it] "
          ]
        },
        {
          "metadata": {
            "tags": null
          },
          "name": "stdout",
          "output_type": "stream",
          "text": [
            "\n",
            "Train Epoch: 5\tAccuracy: 41/52 (79%)\n",
            "\n"
          ]
        },
        {
          "metadata": {
            "tags": null
          },
          "name": "stderr",
          "output_type": "stream",
          "text": [
            "\r 20%|█▉        | 4.875/25 [00:54<05:26, 16.24s/it]"
          ]
        },
        {
          "metadata": {
            "tags": null
          },
          "name": "stdout",
          "output_type": "stream",
          "text": [
            "\n",
            "Valid Epoch: 5\tAccuracy: 11/12 (92%)\n",
            "\n"
          ]
        },
        {
          "metadata": {
            "tags": null
          },
          "name": "stderr",
          "output_type": "stream",
          "text": [
            " 23%|██▎       | 5.75/25 [01:01<01:38,  5.10s/it] "
          ]
        },
        {
          "metadata": {
            "tags": null
          },
          "name": "stdout",
          "output_type": "stream",
          "text": [
            "\n",
            "Train Epoch: 6\tAccuracy: 44/52 (85%)\n",
            "\n"
          ]
        },
        {
          "metadata": {
            "tags": null
          },
          "name": "stderr",
          "output_type": "stream",
          "text": [
            "\r 24%|██▎       | 5.875/25 [01:05<04:25, 13.89s/it]"
          ]
        },
        {
          "metadata": {
            "tags": null
          },
          "name": "stdout",
          "output_type": "stream",
          "text": [
            "\n",
            "Valid Epoch: 6\tAccuracy: 11/12 (92%)\n",
            "\n"
          ]
        },
        {
          "metadata": {
            "tags": null
          },
          "name": "stderr",
          "output_type": "stream",
          "text": [
            " 25%|██▌       | 6.25/25 [01:10<04:03, 12.97s/it] "
          ]
        },
        {
          "metadata": {
            "tags": null
          },
          "name": "stdout",
          "output_type": "stream",
          "text": [
            "save mode at  7\n"
          ]
        },
        {
          "metadata": {
            "tags": null
          },
          "name": "stderr",
          "output_type": "stream",
          "text": [
            " 27%|██▋       | 6.75/25 [01:11<01:22,  4.54s/it] "
          ]
        },
        {
          "metadata": {
            "tags": null
          },
          "name": "stdout",
          "output_type": "stream",
          "text": [
            "\n",
            "Train Epoch: 7\tAccuracy: 41/52 (79%)\n",
            "\n"
          ]
        },
        {
          "metadata": {
            "tags": null
          },
          "name": "stderr",
          "output_type": "stream",
          "text": [
            "\r 28%|██▊       | 6.875/25 [01:15<04:05, 13.57s/it]"
          ]
        },
        {
          "metadata": {
            "tags": null
          },
          "name": "stdout",
          "output_type": "stream",
          "text": [
            "\n",
            "Valid Epoch: 7\tAccuracy: 11/12 (92%)\n",
            "\n"
          ]
        },
        {
          "metadata": {
            "tags": null
          },
          "name": "stderr",
          "output_type": "stream",
          "text": [
            " 31%|███       | 7.75/25 [01:22<01:21,  4.74s/it] "
          ]
        },
        {
          "metadata": {
            "tags": null
          },
          "name": "stdout",
          "output_type": "stream",
          "text": [
            "\n",
            "Train Epoch: 8\tAccuracy: 43/52 (83%)\n",
            "\n"
          ]
        },
        {
          "metadata": {
            "tags": null
          },
          "name": "stderr",
          "output_type": "stream",
          "text": [
            "\r 32%|███▏      | 7.875/25 [01:27<04:22, 15.31s/it]"
          ]
        },
        {
          "metadata": {
            "tags": null
          },
          "name": "stdout",
          "output_type": "stream",
          "text": [
            "\n",
            "Valid Epoch: 8\tAccuracy: 10/12 (83%)\n",
            "\n"
          ]
        },
        {
          "metadata": {
            "tags": null
          },
          "name": "stderr",
          "output_type": "stream",
          "text": [
            " 35%|███▌      | 8.75/25 [01:33<01:15,  4.62s/it] "
          ]
        },
        {
          "metadata": {
            "tags": null
          },
          "name": "stdout",
          "output_type": "stream",
          "text": [
            "save mode at  9\n",
            "\n",
            "Train Epoch: 9\tAccuracy: 43/52 (83%)\n",
            "\n"
          ]
        },
        {
          "metadata": {
            "tags": null
          },
          "name": "stderr",
          "output_type": "stream",
          "text": [
            "\r 36%|███▌      | 8.875/25 [01:38<03:45, 13.99s/it]"
          ]
        },
        {
          "metadata": {
            "tags": null
          },
          "name": "stdout",
          "output_type": "stream",
          "text": [
            "\n",
            "Valid Epoch: 9\tAccuracy: 8/12 (67%)\n",
            "\n"
          ]
        },
        {
          "metadata": {
            "tags": null
          },
          "name": "stderr",
          "output_type": "stream",
          "text": [
            " 39%|███▉      | 9.75/25 [01:45<01:27,  5.74s/it] "
          ]
        },
        {
          "metadata": {
            "tags": null
          },
          "name": "stdout",
          "output_type": "stream",
          "text": [
            "save mode at  10\n",
            "\n",
            "Train Epoch: 10\tAccuracy: 44/52 (85%)\n",
            "\n"
          ]
        },
        {
          "metadata": {
            "tags": null
          },
          "name": "stderr",
          "output_type": "stream",
          "text": [
            "\r 40%|███▉      | 9.875/25 [01:49<03:04, 12.17s/it]"
          ]
        },
        {
          "metadata": {
            "tags": null
          },
          "name": "stdout",
          "output_type": "stream",
          "text": [
            "\n",
            "Valid Epoch: 10\tAccuracy: 10/12 (83%)\n",
            "\n"
          ]
        },
        {
          "metadata": {
            "tags": null
          },
          "name": "stderr",
          "output_type": "stream",
          "text": [
            " 43%|████▎     | 10.75/25 [01:56<01:14,  5.24s/it] "
          ]
        },
        {
          "metadata": {
            "tags": null
          },
          "name": "stdout",
          "output_type": "stream",
          "text": [
            "\n",
            "Train Epoch: 11\tAccuracy: 44/52 (85%)\n",
            "\n"
          ]
        },
        {
          "metadata": {
            "tags": null
          },
          "name": "stderr",
          "output_type": "stream",
          "text": [
            "\r 44%|████▎     | 10.875/25 [02:01<03:45, 15.93s/it]"
          ]
        },
        {
          "metadata": {
            "tags": null
          },
          "name": "stdout",
          "output_type": "stream",
          "text": [
            "\n",
            "Valid Epoch: 11\tAccuracy: 11/12 (92%)\n",
            "\n"
          ]
        },
        {
          "metadata": {
            "tags": null
          },
          "name": "stderr",
          "output_type": "stream",
          "text": [
            " 47%|████▋     | 11.75/25 [02:07<01:10,  5.30s/it] "
          ]
        },
        {
          "metadata": {
            "tags": null
          },
          "name": "stdout",
          "output_type": "stream",
          "text": [
            "\n",
            "Train Epoch: 12\tAccuracy: 46/52 (88%)\n",
            "\n"
          ]
        },
        {
          "metadata": {
            "tags": null
          },
          "name": "stderr",
          "output_type": "stream",
          "text": [
            "\r 48%|████▊     | 11.875/25 [02:11<02:36, 11.89s/it]"
          ]
        },
        {
          "metadata": {
            "tags": null
          },
          "name": "stdout",
          "output_type": "stream",
          "text": [
            "\n",
            "Valid Epoch: 12\tAccuracy: 11/12 (92%)\n",
            "\n"
          ]
        },
        {
          "metadata": {
            "tags": null
          },
          "name": "stderr",
          "output_type": "stream",
          "text": [
            " 51%|█████     | 12.75/25 [02:17<00:55,  4.54s/it] "
          ]
        },
        {
          "metadata": {
            "tags": null
          },
          "name": "stdout",
          "output_type": "stream",
          "text": [
            "\n",
            "Train Epoch: 13\tAccuracy: 44/52 (85%)\n",
            "\n"
          ]
        },
        {
          "metadata": {
            "tags": null
          },
          "name": "stderr",
          "output_type": "stream",
          "text": [
            "\r 52%|█████▏    | 12.875/25 [02:20<01:56,  9.63s/it]"
          ]
        },
        {
          "metadata": {
            "tags": null
          },
          "name": "stdout",
          "output_type": "stream",
          "text": [
            "\n",
            "Valid Epoch: 13\tAccuracy: 9/12 (75%)\n",
            "\n"
          ]
        },
        {
          "metadata": {
            "tags": null
          },
          "name": "stderr",
          "output_type": "stream",
          "text": [
            " 55%|█████▌    | 13.75/25 [02:25<00:42,  3.78s/it] "
          ]
        },
        {
          "metadata": {
            "tags": null
          },
          "name": "stdout",
          "output_type": "stream",
          "text": [
            "\n",
            "Train Epoch: 14\tAccuracy: 45/52 (87%)\n",
            "\n"
          ]
        },
        {
          "metadata": {
            "tags": null
          },
          "name": "stderr",
          "output_type": "stream",
          "text": [
            "\r 56%|█████▌    | 13.875/25 [02:32<03:19, 17.96s/it]"
          ]
        },
        {
          "metadata": {
            "tags": null
          },
          "name": "stdout",
          "output_type": "stream",
          "text": [
            "\n",
            "Valid Epoch: 14\tAccuracy: 10/12 (83%)\n",
            "\n"
          ]
        },
        {
          "metadata": {
            "tags": null
          },
          "name": "stderr",
          "output_type": "stream",
          "text": [
            " 59%|█████▉    | 14.75/25 [02:37<00:51,  5.04s/it] "
          ]
        },
        {
          "metadata": {
            "tags": null
          },
          "name": "stdout",
          "output_type": "stream",
          "text": [
            "\n",
            "Train Epoch: 15\tAccuracy: 42/52 (81%)\n",
            "\n"
          ]
        },
        {
          "metadata": {
            "tags": null
          },
          "name": "stderr",
          "output_type": "stream",
          "text": [
            "\r 60%|█████▉    | 14.875/25 [02:41<02:12, 13.05s/it]"
          ]
        },
        {
          "metadata": {
            "tags": null
          },
          "name": "stdout",
          "output_type": "stream",
          "text": [
            "\n",
            "Valid Epoch: 15\tAccuracy: 10/12 (83%)\n",
            "\n"
          ]
        },
        {
          "metadata": {
            "tags": null
          },
          "name": "stderr",
          "output_type": "stream",
          "text": [
            " 63%|██████▎   | 15.75/25 [02:48<00:57,  6.22s/it] "
          ]
        },
        {
          "metadata": {
            "tags": null
          },
          "name": "stdout",
          "output_type": "stream",
          "text": [
            "\n",
            "Train Epoch: 16\tAccuracy: 45/52 (87%)\n",
            "\n"
          ]
        },
        {
          "output_type": "stream",
          "name": "stderr",
          "text": [
            "\r 64%|██████▎   | 15.875/25 [02:54<02:54, 19.08s/it]"
          ]
        },
        {
          "output_type": "stream",
          "name": "stdout",
          "text": [
            "\n",
            "Valid Epoch: 16\tAccuracy: 7/12 (58%)\n",
            "\n"
          ]
        },
        {
          "output_type": "stream",
          "name": "stderr",
          "text": [
            " 67%|██████▋   | 16.75/25 [03:04<00:52,  6.42s/it] "
          ]
        },
        {
          "output_type": "stream",
          "name": "stdout",
          "text": [
            "\n",
            "Train Epoch: 17\tAccuracy: 44/52 (85%)\n",
            "\n"
          ]
        },
        {
          "output_type": "stream",
          "name": "stderr",
          "text": [
            "\r 68%|██████▊   | 16.875/25 [03:09<02:12, 16.36s/it]"
          ]
        },
        {
          "output_type": "stream",
          "name": "stdout",
          "text": [
            "\n",
            "Valid Epoch: 17\tAccuracy: 8/12 (67%)\n",
            "\n"
          ]
        },
        {
          "output_type": "stream",
          "name": "stderr",
          "text": [
            " 71%|███████   | 17.75/25 [03:14<00:33,  4.60s/it] "
          ]
        },
        {
          "output_type": "stream",
          "name": "stdout",
          "text": [
            "\n",
            "Train Epoch: 18\tAccuracy: 45/52 (87%)\n",
            "\n"
          ]
        },
        {
          "output_type": "stream",
          "name": "stderr",
          "text": [
            "\r 72%|███████▏  | 17.875/25 [03:19<01:48, 15.27s/it]"
          ]
        },
        {
          "output_type": "stream",
          "name": "stdout",
          "text": [
            "\n",
            "Valid Epoch: 18\tAccuracy: 5/12 (42%)\n",
            "\n"
          ]
        },
        {
          "output_type": "stream",
          "name": "stderr",
          "text": [
            " 75%|███████▌  | 18.75/25 [03:25<00:29,  4.69s/it] "
          ]
        },
        {
          "output_type": "stream",
          "name": "stdout",
          "text": [
            "\n",
            "Train Epoch: 19\tAccuracy: 43/52 (83%)\n",
            "\n"
          ]
        },
        {
          "output_type": "stream",
          "name": "stderr",
          "text": [
            "\r 76%|███████▌  | 18.875/25 [03:28<01:07, 11.00s/it]"
          ]
        },
        {
          "output_type": "stream",
          "name": "stdout",
          "text": [
            "\n",
            "Valid Epoch: 19\tAccuracy: 12/12 (100%)\n",
            "\n"
          ]
        },
        {
          "output_type": "stream",
          "name": "stderr",
          "text": [
            " 79%|███████▉  | 19.75/25 [03:34<00:21,  4.14s/it] "
          ]
        },
        {
          "output_type": "stream",
          "name": "stdout",
          "text": [
            "\n",
            "Train Epoch: 20\tAccuracy: 44/52 (85%)\n",
            "\n"
          ]
        },
        {
          "output_type": "stream",
          "name": "stderr",
          "text": [
            "\r 80%|███████▉  | 19.875/25 [03:39<01:14, 14.59s/it]"
          ]
        },
        {
          "output_type": "stream",
          "name": "stdout",
          "text": [
            "\n",
            "Valid Epoch: 20\tAccuracy: 11/12 (92%)\n",
            "\n"
          ]
        },
        {
          "output_type": "stream",
          "name": "stderr",
          "text": [
            " 83%|████████▎ | 20.75/25 [03:45<00:20,  4.86s/it] "
          ]
        },
        {
          "output_type": "stream",
          "name": "stdout",
          "text": [
            "\n",
            "Train Epoch: 21\tAccuracy: 42/52 (81%)\n",
            "\n"
          ]
        },
        {
          "output_type": "stream",
          "name": "stderr",
          "text": [
            "\r 84%|████████▎ | 20.875/25 [03:50<01:02, 15.20s/it]"
          ]
        },
        {
          "output_type": "stream",
          "name": "stdout",
          "text": [
            "\n",
            "Valid Epoch: 21\tAccuracy: 11/12 (92%)\n",
            "\n"
          ]
        },
        {
          "output_type": "stream",
          "name": "stderr",
          "text": [
            " 87%|████████▋ | 21.75/25 [03:57<00:17,  5.39s/it] "
          ]
        },
        {
          "output_type": "stream",
          "name": "stdout",
          "text": [
            "\n",
            "Train Epoch: 22\tAccuracy: 39/52 (75%)\n",
            "\n"
          ]
        },
        {
          "output_type": "stream",
          "name": "stderr",
          "text": [
            "\r 88%|████████▊ | 21.875/25 [04:00<00:40, 12.88s/it]"
          ]
        },
        {
          "output_type": "stream",
          "name": "stdout",
          "text": [
            "\n",
            "Valid Epoch: 22\tAccuracy: 9/12 (75%)\n",
            "\n"
          ]
        },
        {
          "output_type": "stream",
          "name": "stderr",
          "text": [
            " 91%|█████████ | 22.75/25 [04:06<00:09,  4.23s/it] "
          ]
        },
        {
          "output_type": "stream",
          "name": "stdout",
          "text": [
            "\n",
            "Train Epoch: 23\tAccuracy: 44/52 (85%)\n",
            "\n"
          ]
        },
        {
          "output_type": "stream",
          "name": "stderr",
          "text": [
            "\r 92%|█████████▏| 22.875/25 [04:11<00:30, 14.34s/it]"
          ]
        },
        {
          "output_type": "stream",
          "name": "stdout",
          "text": [
            "\n",
            "Valid Epoch: 23\tAccuracy: 11/12 (92%)\n",
            "\n"
          ]
        },
        {
          "output_type": "stream",
          "name": "stderr",
          "text": [
            " 95%|█████████▌| 23.75/25 [04:18<00:07,  5.86s/it] "
          ]
        },
        {
          "output_type": "stream",
          "name": "stdout",
          "text": [
            "\n",
            "Train Epoch: 24\tAccuracy: 46/52 (88%)\n",
            "\n"
          ]
        },
        {
          "output_type": "stream",
          "name": "stderr",
          "text": [
            "\r 96%|█████████▌| 23.875/25 [04:22<00:15, 13.56s/it]"
          ]
        },
        {
          "output_type": "stream",
          "name": "stdout",
          "text": [
            "\n",
            "Valid Epoch: 24\tAccuracy: 11/12 (92%)\n",
            "\n"
          ]
        },
        {
          "output_type": "stream",
          "name": "stderr",
          "text": [
            " 99%|█████████▉| 24.75/25 [04:28<00:01,  5.05s/it] "
          ]
        },
        {
          "output_type": "stream",
          "name": "stdout",
          "text": [
            "\n",
            "Train Epoch: 25\tAccuracy: 45/52 (87%)\n",
            "\n"
          ]
        },
        {
          "output_type": "stream",
          "name": "stderr",
          "text": [
            "100%|██████████| 25.0/25 [04:34<00:00, 10.98s/it]  "
          ]
        },
        {
          "output_type": "stream",
          "name": "stdout",
          "text": [
            "\n",
            "Valid Epoch: 25\tAccuracy: 11/12 (92%)\n",
            "\n"
          ]
        },
        {
          "output_type": "stream",
          "name": "stderr",
          "text": [
            "\n"
          ]
        }
      ]
    },
    {
      "cell_type": "code",
      "execution_count": 26,
      "metadata": {
        "id": "e_QJJy1ZMPDZ",
        "colab": {
          "base_uri": "https://localhost:8080/",
          "height": 452
        },
        "outputId": "1bd3e3c2-93f0-45cf-f6d3-004fec0aaaac"
      },
      "outputs": [
        {
          "output_type": "display_data",
          "data": {
            "text/plain": [
              "<Figure size 640x480 with 1 Axes>"
            ],
            "image/png": "[encoded data removed]"
          },
          "metadata": {}
        }
      ],
      "source": [
        "plt.plot(losses);\n",
        "plt.title(\"training loss\");"
      ]
    },
    {
      "cell_type": "code",
      "source": [
        "class ObjectHelper():\n",
        "    @classmethod\n",
        "    def is_NestedIterable(cls, target):\n",
        "        if cls.isIterable(target) and all(cls.isIterable(target) for sublist in target):\n",
        "            return True\n",
        "        else:\n",
        "            return False\n",
        "\n",
        "    @classmethod\n",
        "    def isIterable(self, target):\n",
        "        return True if isinstance(target, Iterable) else False\n",
        "\n",
        "class PlotManager():\n",
        "    def __init__(self, row=1, col=1, size=[7,3], type=\"melspectrogram\"):\n",
        "        self.row = row\n",
        "        self.col = col\n",
        "        self.figure = None\n",
        "        self.type_dict = {'plot_list': self.plot_list}\n",
        "        self.plotMethod = self.getPlotMethod(type)\n",
        "\n",
        "    def getPlotMethod(self, type):\n",
        "        return self.type_dict[type]\n",
        "\n",
        "    def preparePlot(self):\n",
        "        plt.clf()\n",
        "        fig, axs = plt.subplots(self.row, self.col, figsize=(10, 6), constrained_layout=True)\n",
        "        return fig, axs\n",
        "\n",
        "    def drawPlot(self, plot_list):\n",
        "        self.figure, axs = self.preparePlot()\n",
        "\n",
        "        if not ObjectHelper.is_NestedIterable(axs):\n",
        "            axs = [[axs]]\n",
        "\n",
        "        for content_dict in plot_list:\n",
        "            pos_1 = content_dict['position'][0]\n",
        "            pos_2 = content_dict['position'][1]\n",
        "\n",
        "            self.plotMethod(axs[pos_1][pos_2], content_dict['content'], title = content_dict['title'])\n",
        "        plt.show(block=False)\n",
        "\n",
        "    def plot_list(self, axis, content, title=None, ylabel=\"db\"):\n",
        "        axis.set_title(title)\n",
        "        axis.set_xlabel(\"epoch\")\n",
        "        axis.set_ylabel(\"percentage\")\n",
        "        axis.plot(content[0], label=\"train_acc\")\n",
        "        axis.plot(content[1], label=\"test_acc\")"
      ],
      "metadata": {
        "id": "0rUfiluX3bQK"
      },
      "execution_count": 27,
      "outputs": []
    },
    {
      "cell_type": "code",
      "source": [
        "plotmanager = PlotManager(row=3, col=2, type='plot_list')"
      ],
      "metadata": {
        "id": "JfVUSP513zZm"
      },
      "execution_count": 28,
      "outputs": []
    },
    {
      "cell_type": "code",
      "source": [
        "plot_list = [\n",
        "    {\"content\": [all_train_accuracy[0], all_valid_accuracy[0]], \"position\": [0,0], \"title\":\"fold0\"},\n",
        "    {\"content\": [all_train_accuracy[1], all_valid_accuracy[1]], \"position\": [0,1], \"title\":\"fold1\"},\n",
        "    {\"content\": [all_train_accuracy[2], all_valid_accuracy[2]], \"position\": [1,0], \"title\":\"fold2\"},\n",
        "    {\"content\": [all_train_accuracy[3], all_valid_accuracy[3]], \"position\": [1,1], \"title\":\"fold3\"},\n",
        "    {\"content\": [all_train_accuracy[4], all_valid_accuracy[4]], \"position\": [2,0], \"title\":\"fold4\"},\n",
        "]"
      ],
      "metadata": {
        "id": "fMZ2oS2B3eXS"
      },
      "execution_count": 29,
      "outputs": []
    },
    {
      "cell_type": "code",
      "source": [
        "plotmanager.drawPlot(plot_list)"
      ],
      "metadata": {
        "id": "LyN7OuMp35UV",
        "colab": {
          "base_uri": "https://localhost:8080/",
          "height": 646
        },
        "outputId": "e637cf1e-6c8b-46c2-ccc1-88e01e06b539"
      },
      "execution_count": 30,
      "outputs": [
        {
          "output_type": "display_data",
          "data": {
            "text/plain": [
              "<Figure size 640x480 with 0 Axes>"
            ]
          },
          "metadata": {}
        },
        {
          "output_type": "display_data",
          "data": {
            "text/plain": [
              "<Figure size 1000x600 with 6 Axes>"
            ],
            "image/png": "[encoded data removed]"
          },
          "metadata": {}
        }
      ]
    },
    {
      "cell_type": "code",
      "source": [
        "class Ensemble():\n",
        "  def __init__(self, model_list):\n",
        "    self.model_list = []\n",
        "    for model in model_list:\n",
        "        self.model_list.append(model)\n",
        "\n",
        "  def __call__(self,x):\n",
        "    tensor_list = []\n",
        "    for model in self.model_list:\n",
        "        model.eval()\n",
        "        output = model(x)\n",
        "        tensor_list.append( get_likely_index(output) )\n",
        "\n",
        "    print(tensor_list)\n",
        "    prediction_list = torch.stack(tensor_list, dim=0)\n",
        "    print(prediction_list)\n",
        "    ensemble = torch.sum(prediction_list, 0)\n",
        "    ensemble_output = torch.where(ensemble>2, 1, 0)\n",
        "\n",
        "    print(ensemble_output)\n",
        "\n",
        "    return ensemble_output"
      ],
      "metadata": {
        "id": "495yYhmcFp-E"
      },
      "execution_count": 31,
      "outputs": []
    },
    {
      "cell_type": "code",
      "execution_count": 32,
      "metadata": {
        "id": "EnPKmcZ9YLWs"
      },
      "outputs": [],
      "source": [
        "def test(model_path, dataloader):\n",
        "    model_list = []\n",
        "    for path in model_path:\n",
        "        model = prepare_model()\n",
        "        model.load_state_dict(torch.load(path))\n",
        "        model.to('cpu')\n",
        "\n",
        "        model_list.append(copy.deepcopy(model))\n",
        "        model = None\n",
        "    ensembler = Ensemble(model_list)\n",
        "    correct = 0\n",
        "\n",
        "    for data, target in dataloader:\n",
        "\n",
        "        data = data.to('cpu')\n",
        "        target = target.to('cpu')\n",
        "\n",
        "        expanded_data = torch.stack([data]*3, dim=1)\n",
        "        output = ensembler(expanded_data)\n",
        "\n",
        "        target = get_likely_index(target)\n",
        "        print(output, target)\n",
        "        correct += number_of_correct(output, target)\n",
        "\n",
        "    ensembler.model_list = None\n",
        "    print(f\"\\tAccuracy: {correct}/{len(dataloader.dataset)} ({100. * correct / len(dataloader.dataset):.0f}%)\\n\")"
      ]
    },
    {
      "cell_type": "code",
      "execution_count": 33,
      "metadata": {
        "id": "xr_quJg-bxXc",
        "colab": {
          "base_uri": "https://localhost:8080/"
        },
        "outputId": "d11a07af-89fe-4cde-9630-cc3a7ed2e5cf"
      },
      "outputs": [
        {
          "output_type": "stream",
          "name": "stdout",
          "text": [
            "[tensor([1, 1, 1, 1, 1, 1, 0, 1, 1, 0, 0, 0, 1, 1, 1, 0]), tensor([1, 1, 1, 1, 1, 1, 0, 1, 1, 1, 1, 1, 1, 1, 1, 1]), tensor([1, 1, 1, 1, 1, 1, 0, 1, 1, 1, 1, 1, 1, 1, 1, 0]), tensor([1, 1, 1, 1, 1, 1, 0, 1, 0, 1, 0, 1, 1, 1, 1, 1]), tensor([0, 0, 1, 1, 0, 0, 0, 0, 0, 0, 0, 1, 0, 0, 1, 0])]\n",
            "tensor([[1, 1, 1, 1, 1, 1, 0, 1, 1, 0, 0, 0, 1, 1, 1, 0],\n",
            "        [1, 1, 1, 1, 1, 1, 0, 1, 1, 1, 1, 1, 1, 1, 1, 1],\n",
            "        [1, 1, 1, 1, 1, 1, 0, 1, 1, 1, 1, 1, 1, 1, 1, 0],\n",
            "        [1, 1, 1, 1, 1, 1, 0, 1, 0, 1, 0, 1, 1, 1, 1, 1],\n",
            "        [0, 0, 1, 1, 0, 0, 0, 0, 0, 0, 0, 1, 0, 0, 1, 0]])\n",
            "tensor([1, 1, 1, 1, 1, 1, 0, 1, 1, 1, 0, 1, 1, 1, 1, 0])\n",
            "tensor([1, 1, 1, 1, 1, 1, 0, 1, 1, 1, 0, 1, 1, 1, 1, 0]) tensor([1, 1, 1, 1, 1, 1, 0, 1, 1, 1, 1, 1, 1, 1, 1, 1])\n",
            "\tAccuracy: 14/16 (88%)\n",
            "\n"
          ]
        }
      ],
      "source": [
        "model_path = ['./best_model_fold0.pt', './best_model_fold1.pt', './best_model_fold2.pt', './best_model_fold3.pt', './best_model_fold4.pt']\n",
        "test(model_path, test_loader)"
      ]
    },
    {
      "cell_type": "code",
      "source": [
        "model_path = ['./best_model_fold0.pt', './best_model_fold1.pt', './best_model_fold2.pt', './best_model_fold3.pt', './best_model_fold4.pt']\n",
        "test(model_path, test_loader_clean)"
      ],
      "metadata": {
        "id": "mbfblH7YaBM0",
        "colab": {
          "base_uri": "https://localhost:8080/"
        },
        "outputId": "2b275405-300d-4f95-b212-40f0dc18c1d3"
      },
      "execution_count": 34,
      "outputs": [
        {
          "output_type": "stream",
          "name": "stdout",
          "text": [
            "[tensor([1, 0, 1, 1, 1, 0, 1, 1, 1, 1, 1, 0, 0, 1, 1, 1]), tensor([1, 0, 1, 1, 1, 0, 1, 1, 1, 1, 1, 0, 0, 1, 1, 1]), tensor([1, 0, 1, 1, 1, 0, 1, 1, 1, 1, 1, 0, 0, 1, 0, 1]), tensor([1, 0, 1, 1, 1, 0, 1, 1, 1, 1, 1, 0, 0, 1, 0, 1]), tensor([1, 0, 1, 1, 1, 0, 1, 1, 1, 1, 1, 0, 0, 1, 0, 1])]\n",
            "tensor([[1, 0, 1, 1, 1, 0, 1, 1, 1, 1, 1, 0, 0, 1, 1, 1],\n",
            "        [1, 0, 1, 1, 1, 0, 1, 1, 1, 1, 1, 0, 0, 1, 1, 1],\n",
            "        [1, 0, 1, 1, 1, 0, 1, 1, 1, 1, 1, 0, 0, 1, 0, 1],\n",
            "        [1, 0, 1, 1, 1, 0, 1, 1, 1, 1, 1, 0, 0, 1, 0, 1],\n",
            "        [1, 0, 1, 1, 1, 0, 1, 1, 1, 1, 1, 0, 0, 1, 0, 1]])\n",
            "tensor([1, 0, 1, 1, 1, 0, 1, 1, 1, 1, 1, 0, 0, 1, 0, 1])\n",
            "tensor([1, 0, 1, 1, 1, 0, 1, 1, 1, 1, 1, 0, 0, 1, 0, 1]) tensor([1, 0, 1, 1, 1, 0, 1, 1, 1, 1, 1, 0, 0, 1, 0, 1])\n",
            "\tAccuracy: 16/16 (100%)\n",
            "\n"
          ]
        }
      ]
    },
    {
      "cell_type": "markdown",
      "metadata": {
        "id": "ANvxIRBvEILG"
      },
      "source": [
        "# Inference"
      ]
    },
    {
      "cell_type": "code",
      "execution_count": 35,
      "metadata": {
        "id": "hJGoFZLgF-kW"
      },
      "outputs": [],
      "source": [
        "def get_other_sound():\n",
        "    # 병합할 다른 소리 파일 가져오기\n",
        "        _meta = pd.read_csv( othersourcePath + \"/meta.csv\", index_col=[0] )\n",
        "\n",
        "        _meta = _meta['mp3_path']\n",
        "        path = _meta.iloc[random.randrange(1,len(_meta))]\n",
        "\n",
        "        waveform, sample_rate = torchaudio.load( othersourcePath / Path(str(path)).with_suffix('.mp3'))\n",
        "        audio_sample = F.resample(waveform[0], sample_rate, config['sr'], lowpass_filter_width=6)\n",
        "        return audio_sample\n",
        "\n",
        "def minmaxScaler(data):\n",
        "    # 정규화 수행\n",
        "        data_min, data_max = data.min(), data.max()\n",
        "        new_lower, new_upper = -1, 1\n",
        "        scaled_data = (data - data_min)/(data_max - data_min)*(new_upper - new_lower) + new_lower\n",
        "        return scaled_data\n",
        "\n",
        "def mixOtherSound(audio_sample, mix_rate=1.0):\n",
        "    # 시험 데이터를 실 데이터로 전이시키는 함수\n",
        "        other_sound = get_other_sound()\n",
        "        if len(other_sound) > len(audio_sample):\n",
        "            other_sound = other_sound[:len(audio_sample)]\n",
        "        else:\n",
        "            other_sound = other_sound[:len(audio_sample)]\n",
        "            front = int( (len(audio_sample) - len(other_sound)) / 4 ) * 3\n",
        "            back = (len(audio_sample) - len(other_sound)) - front\n",
        "            other_sound = nn.functional.pad(other_sound, (front, back) , 'constant', value=0)\n",
        "\n",
        "        scaled_audio_data = minmaxScaler(audio_sample)\n",
        "        scaled_other_data = minmaxScaler(other_sound)\n",
        "\n",
        "        audio_sample = scaled_audio_data + (scaled_other_data*mix_rate)\n",
        "\n",
        "        return audio_sample"
      ]
    },
    {
      "cell_type": "code",
      "execution_count": 36,
      "metadata": {
        "id": "uW0YHPI9Fx7F"
      },
      "outputs": [],
      "source": [
        "path = \"221109_hydrogen_S206_Num_1_Horn_Yes_2_22.wav\"\n",
        "waveform, sample_rate = torchaudio.load( dirPath / Path(path).with_suffix('.wav'))\n",
        "audio_sample = F.resample(waveform[0], sample_rate, config['sr'], lowpass_filter_width=6)\n",
        "\n",
        "#audio_sample = mixOtherSound(audio_sample, mix_rate=0.2)\n",
        "\n",
        "noisy_path = \"./noisy_audio.wav\"\n",
        "torchaudio.save(noisy_path, audio_sample.unsqueeze(0), config['sr'])"
      ]
    },
    {
      "cell_type": "code",
      "execution_count": 37,
      "metadata": {
        "id": "oeLuQJEeEIC7",
        "colab": {
          "base_uri": "https://localhost:8080/"
        },
        "outputId": "61744fed-ac80-44e0-a65d-10f0c47e8e38"
      },
      "outputs": [
        {
          "output_type": "stream",
          "name": "stderr",
          "text": [
            "/usr/local/lib/python3.10/dist-packages/torchaudio/functional/functional.py:584: UserWarning: At least one mel filterbank has all zero values. The value for `n_mels` (80) may be set too high. Or, the value for `n_freqs` (201) may be set too low.\n",
            "  warnings.warn(\n"
          ]
        }
      ],
      "source": [
        "#model = AudioModel(sr=config['sr'], n_mels = config['n_mels'], hidden_size = 40, num_output = 2)\n",
        "#yes가 1임\n",
        "waveform, sample_rate = torchaudio.load( dirPath / Path(path).with_suffix('.wav'))\n",
        "audio_sample = F.resample(waveform[0], sample_rate, config['sr'], lowpass_filter_width=6)\n",
        "\n",
        "mel_converter = torchaudio.transforms.MelSpectrogram(sample_rate=config['sr'], n_mels=config['n_mels'])\n",
        "db_converter = torchaudio.transforms.AmplitudeToDB()\n",
        "\n",
        "feature = db_converter(mel_converter(audio_sample))\n",
        "\n",
        "model = prepare_model()\n",
        "model.load_state_dict(torch.load(\"./best_model_fold0.pt\"))\n",
        "model.to(config['device'])\n",
        "model.eval()\n",
        "\n",
        "feature = feature.unsqueeze(0)\n",
        "expanded_data = torch.stack([feature]*3, dim=1)\n",
        "expanded_data = expanded_data.to(config['device'])\n",
        "output = model(expanded_data)\n",
        "pred = get_likely_index(output)"
      ]
    },
    {
      "cell_type": "code",
      "execution_count": 38,
      "metadata": {
        "id": "eMZml0fnLPOL",
        "colab": {
          "base_uri": "https://localhost:8080/"
        },
        "outputId": "378153e4-8730-4229-ac02-5c48c8dc560b"
      },
      "outputs": [
        {
          "output_type": "stream",
          "name": "stdout",
          "text": [
            "이상치 감지\n"
          ]
        }
      ],
      "source": [
        "print( \"이상치 감지\" if int(pred[0]) == 1 else \"이상치 불검출\")"
      ]
    },
    {
      "cell_type": "markdown",
      "metadata": {
        "id": "R2XSht09Ux9c"
      },
      "source": [
        "# 예비 코드"
      ]
    },
    {
      "cell_type": "code",
      "execution_count": null,
      "metadata": {
        "id": "ogbhrpMeU2SC"
      },
      "outputs": [],
      "source": [
        "def SoundAugment():\n",
        "    def __init__(self, other_sound_path=None):\n",
        "        assert other_sound_path is not None, \"it must be filled\"\n",
        "        self.other_sound_dir = other_sound_path\n",
        "\n",
        "    def _get_other_sound(self, sound, amplitude):\n",
        "        _meta = pd.read_csv( self.other_sound_dir + \"/meta.csv\", index_col=[0] )\n",
        "\n",
        "        _meta = _meta['mp3_path']\n",
        "        path = _meta.iloc[random.randrange(1,len(_meta))]\n",
        "\n",
        "        waveform, sample_rate = torchaudio.load( self.other_sound_dir / Path(str(path)).with_suffix('.mp3'))\n",
        "        audio_sample = F.resample(waveform[0], sample_rate, self.config['sr'], lowpass_filter_width=6)\n",
        "        augmented_sound = sound + audio_sample\n",
        "        return augmented_sound\n",
        "\n",
        "    def augment(self, feature):\n",
        "        feature = self._get_other_sound(feature)\n",
        "        return feature"
      ]
    },
    {
      "cell_type": "code",
      "execution_count": null,
      "metadata": {
        "id": "0FwtkQAiNGdL"
      },
      "outputs": [],
      "source": [
        "def prepare_model():\n",
        "    resnet_model = resnet18(weights='IMAGENET1K_V1')\n",
        "    resnet_model.fc = nn.Linear(512,1)\n",
        "\n",
        "    for m in resnet_model.modules():\n",
        "        if isinstance(m, nn.Conv2d):\n",
        "            nn.init.kaiming_normal_(m.weight, mode=\"fan_out\", nonlinearity=\"relu\")\n",
        "        elif isinstance(m, (nn.BatchNorm2d, nn.GroupNorm)):\n",
        "            nn.init.constant_(m.weight, 1)\n",
        "            nn.init.constant_(m.bias, 0)\n",
        "\n",
        "    return resnet_model"
      ]
    },
    {
      "cell_type": "code",
      "execution_count": null,
      "metadata": {
        "id": "GDs-TJwP6p4H"
      },
      "outputs": [],
      "source": [
        "class AudioModel(nn.Module):\n",
        "    def __init__(self, sr, n_mels, hidden_size, num_output, augmentation=False):\n",
        "        super().__init__()\n",
        "        self.sr = sr\n",
        "        self.conv_layer = nn.Sequential(\n",
        "          nn.Conv1d(n_mels, out_channels=hidden_size, kernel_size=2),\n",
        "          nn.MaxPool1d(3),\n",
        "          nn.ReLU(),\n",
        "          nn.Conv1d(hidden_size, out_channels=hidden_size, kernel_size=3),\n",
        "          nn.MaxPool1d(3),\n",
        "          nn.ReLU(),\n",
        "        )\n",
        "        self.final_layer = nn.Linear(hidden_size, num_output)\n",
        "\n",
        "    def forward(self, x):\n",
        "        out = self.conv_layer(x)\n",
        "        out = torch.max(out, dim=-1)[0]\n",
        "        out = self.final_layer(out)\n",
        "        out = torch.sigmoid(out)\n",
        "        return out"
      ]
    }
  ],
  "metadata": {
    "accelerator": "GPU",
    "colab": {
      "machine_shape": "hm",
      "provenance": [],
      "collapsed_sections": [
        "R2XSht09Ux9c"
      ],
      "gpuType": "V100"
    },
    "kernelspec": {
      "display_name": "Python 3",
      "name": "python3"
    },
    "language_info": {
      "name": "python"
    }
  },
  "nbformat": 4,
  "nbformat_minor": 0
}